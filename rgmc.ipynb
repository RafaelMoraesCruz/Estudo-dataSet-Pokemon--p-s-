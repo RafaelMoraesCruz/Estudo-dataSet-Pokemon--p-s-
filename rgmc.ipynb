{
  "nbformat": 4,
  "nbformat_minor": 0,
  "metadata": {
    "colab": {
      "provenance": [],
      "toc_visible": true,
      "collapsed_sections": [
        "BTWJ1xEtaVp7",
        "dLOf9s8od36V",
        "EZoVNS6geeZN",
        "iMPGTtCmiH_k",
        "08rSqUwIi85c"
      ]
    },
    "kernelspec": {
      "name": "python3",
      "display_name": "Python 3"
    },
    "language_info": {
      "name": "python"
    }
  },
  "cells": [
    {
      "cell_type": "markdown",
      "source": [
        "Resolvi escolher o data set por experiência do própia, já que quando pequeno eu jogava pókemons em diferentes dispositivos e trocava com amigos para possuir o melhor time possível."
      ],
      "metadata": {
        "id": "EkrsXcZDkcyy"
      }
    },
    {
      "cell_type": "markdown",
      "source": [
        "Escolher um dataset da lista do professor\n"
      ],
      "metadata": {
        "id": "nUSU5aOeMXqd"
      }
    },
    {
      "cell_type": "markdown",
      "source": [
        "https://www.kaggle.com/datasets/thiagoazen/all-pokemon-with-stats"
      ],
      "metadata": {
        "id": "mrmLYfE1kcIY"
      }
    },
    {
      "cell_type": "code",
      "source": [
        "import pandas as pd\n",
        "import numpy as np\n",
        "import matplotlib.pyplot as plt"
      ],
      "metadata": {
        "id": "AocMWVGGkg2u"
      },
      "execution_count": null,
      "outputs": []
    },
    {
      "cell_type": "code",
      "execution_count": null,
      "metadata": {
        "id": "elQNpWauJEP9"
      },
      "outputs": [],
      "source": [
        "url = 'https://github.com/RafaelMoraesCruz/Pokemon-Probabilidade-e-Estat-stica/blob/main/PokemonDb.csv'\n",
        "df = pd.read_html('https://github.com/RafaelMoraesCruz/Pokemon-Probabilidade-e-Estat-stica/blob/main/PokemonDb.csv')\n",
        "df = df[0]\n",
        "universo = len(df)"
      ]
    },
    {
      "cell_type": "markdown",
      "source": [
        "visualização inicial do dataset, para melhor entendimento"
      ],
      "metadata": {
        "id": "fIzCnpv-lEwi"
      }
    },
    {
      "cell_type": "code",
      "source": [
        "df.head(10)"
      ],
      "metadata": {
        "colab": {
          "base_uri": "https://localhost:8080/",
          "height": 363
        },
        "id": "KRn04zDwlm80",
        "outputId": "4759d22b-3b3a-4b7d-c633-bccc68baaa42"
      },
      "execution_count": null,
      "outputs": [
        {
          "output_type": "execute_result",
          "data": {
            "text/plain": [
              "         Name Variation  Type1   Type2  Total  HP  Attack  Defense  Sp.Atk  \\\n",
              "0   Bulbasaur       NaN  Grass  Poison    318  45      49       49      65   \n",
              "1     Ivysaur       NaN  Grass  Poison    405  60      62       63      80   \n",
              "2    Venusaur       NaN  Grass  Poison    525  80      82       83     100   \n",
              "3    Venusaur      Mega  Grass  Poison    625  80     100      123     122   \n",
              "4  Charmander       NaN   Fire     NaN    309  39      52       43      60   \n",
              "5  Charmeleon       NaN   Fire     NaN    405  58      64       58      80   \n",
              "6   Charizard       NaN   Fire  Flying    534  78      84       78     109   \n",
              "7   Charizard    Mega X   Fire  Dragon    634  78     130      111     130   \n",
              "8   Charizard    Mega Y   Fire  Flying    634  78     104       78     159   \n",
              "9    Squirtle       NaN  Water     NaN    314  44      48       65      50   \n",
              "\n",
              "   Sp.Def  Speed  \n",
              "0      65     45  \n",
              "1      80     60  \n",
              "2     100     80  \n",
              "3     120     80  \n",
              "4      50     65  \n",
              "5      65     80  \n",
              "6      85    100  \n",
              "7      85    100  \n",
              "8     115    100  \n",
              "9      64     43  "
            ],
            "text/html": [
              "\n",
              "  <div id=\"df-d9a3d02f-8745-4f98-8553-0a45afbbcdbf\">\n",
              "    <div class=\"colab-df-container\">\n",
              "      <div>\n",
              "<style scoped>\n",
              "    .dataframe tbody tr th:only-of-type {\n",
              "        vertical-align: middle;\n",
              "    }\n",
              "\n",
              "    .dataframe tbody tr th {\n",
              "        vertical-align: top;\n",
              "    }\n",
              "\n",
              "    .dataframe thead th {\n",
              "        text-align: right;\n",
              "    }\n",
              "</style>\n",
              "<table border=\"1\" class=\"dataframe\">\n",
              "  <thead>\n",
              "    <tr style=\"text-align: right;\">\n",
              "      <th></th>\n",
              "      <th>Name</th>\n",
              "      <th>Variation</th>\n",
              "      <th>Type1</th>\n",
              "      <th>Type2</th>\n",
              "      <th>Total</th>\n",
              "      <th>HP</th>\n",
              "      <th>Attack</th>\n",
              "      <th>Defense</th>\n",
              "      <th>Sp.Atk</th>\n",
              "      <th>Sp.Def</th>\n",
              "      <th>Speed</th>\n",
              "    </tr>\n",
              "  </thead>\n",
              "  <tbody>\n",
              "    <tr>\n",
              "      <th>0</th>\n",
              "      <td>Bulbasaur</td>\n",
              "      <td>NaN</td>\n",
              "      <td>Grass</td>\n",
              "      <td>Poison</td>\n",
              "      <td>318</td>\n",
              "      <td>45</td>\n",
              "      <td>49</td>\n",
              "      <td>49</td>\n",
              "      <td>65</td>\n",
              "      <td>65</td>\n",
              "      <td>45</td>\n",
              "    </tr>\n",
              "    <tr>\n",
              "      <th>1</th>\n",
              "      <td>Ivysaur</td>\n",
              "      <td>NaN</td>\n",
              "      <td>Grass</td>\n",
              "      <td>Poison</td>\n",
              "      <td>405</td>\n",
              "      <td>60</td>\n",
              "      <td>62</td>\n",
              "      <td>63</td>\n",
              "      <td>80</td>\n",
              "      <td>80</td>\n",
              "      <td>60</td>\n",
              "    </tr>\n",
              "    <tr>\n",
              "      <th>2</th>\n",
              "      <td>Venusaur</td>\n",
              "      <td>NaN</td>\n",
              "      <td>Grass</td>\n",
              "      <td>Poison</td>\n",
              "      <td>525</td>\n",
              "      <td>80</td>\n",
              "      <td>82</td>\n",
              "      <td>83</td>\n",
              "      <td>100</td>\n",
              "      <td>100</td>\n",
              "      <td>80</td>\n",
              "    </tr>\n",
              "    <tr>\n",
              "      <th>3</th>\n",
              "      <td>Venusaur</td>\n",
              "      <td>Mega</td>\n",
              "      <td>Grass</td>\n",
              "      <td>Poison</td>\n",
              "      <td>625</td>\n",
              "      <td>80</td>\n",
              "      <td>100</td>\n",
              "      <td>123</td>\n",
              "      <td>122</td>\n",
              "      <td>120</td>\n",
              "      <td>80</td>\n",
              "    </tr>\n",
              "    <tr>\n",
              "      <th>4</th>\n",
              "      <td>Charmander</td>\n",
              "      <td>NaN</td>\n",
              "      <td>Fire</td>\n",
              "      <td>NaN</td>\n",
              "      <td>309</td>\n",
              "      <td>39</td>\n",
              "      <td>52</td>\n",
              "      <td>43</td>\n",
              "      <td>60</td>\n",
              "      <td>50</td>\n",
              "      <td>65</td>\n",
              "    </tr>\n",
              "    <tr>\n",
              "      <th>5</th>\n",
              "      <td>Charmeleon</td>\n",
              "      <td>NaN</td>\n",
              "      <td>Fire</td>\n",
              "      <td>NaN</td>\n",
              "      <td>405</td>\n",
              "      <td>58</td>\n",
              "      <td>64</td>\n",
              "      <td>58</td>\n",
              "      <td>80</td>\n",
              "      <td>65</td>\n",
              "      <td>80</td>\n",
              "    </tr>\n",
              "    <tr>\n",
              "      <th>6</th>\n",
              "      <td>Charizard</td>\n",
              "      <td>NaN</td>\n",
              "      <td>Fire</td>\n",
              "      <td>Flying</td>\n",
              "      <td>534</td>\n",
              "      <td>78</td>\n",
              "      <td>84</td>\n",
              "      <td>78</td>\n",
              "      <td>109</td>\n",
              "      <td>85</td>\n",
              "      <td>100</td>\n",
              "    </tr>\n",
              "    <tr>\n",
              "      <th>7</th>\n",
              "      <td>Charizard</td>\n",
              "      <td>Mega X</td>\n",
              "      <td>Fire</td>\n",
              "      <td>Dragon</td>\n",
              "      <td>634</td>\n",
              "      <td>78</td>\n",
              "      <td>130</td>\n",
              "      <td>111</td>\n",
              "      <td>130</td>\n",
              "      <td>85</td>\n",
              "      <td>100</td>\n",
              "    </tr>\n",
              "    <tr>\n",
              "      <th>8</th>\n",
              "      <td>Charizard</td>\n",
              "      <td>Mega Y</td>\n",
              "      <td>Fire</td>\n",
              "      <td>Flying</td>\n",
              "      <td>634</td>\n",
              "      <td>78</td>\n",
              "      <td>104</td>\n",
              "      <td>78</td>\n",
              "      <td>159</td>\n",
              "      <td>115</td>\n",
              "      <td>100</td>\n",
              "    </tr>\n",
              "    <tr>\n",
              "      <th>9</th>\n",
              "      <td>Squirtle</td>\n",
              "      <td>NaN</td>\n",
              "      <td>Water</td>\n",
              "      <td>NaN</td>\n",
              "      <td>314</td>\n",
              "      <td>44</td>\n",
              "      <td>48</td>\n",
              "      <td>65</td>\n",
              "      <td>50</td>\n",
              "      <td>64</td>\n",
              "      <td>43</td>\n",
              "    </tr>\n",
              "  </tbody>\n",
              "</table>\n",
              "</div>\n",
              "      <button class=\"colab-df-convert\" onclick=\"convertToInteractive('df-d9a3d02f-8745-4f98-8553-0a45afbbcdbf')\"\n",
              "              title=\"Convert this dataframe to an interactive table.\"\n",
              "              style=\"display:none;\">\n",
              "        \n",
              "  <svg xmlns=\"http://www.w3.org/2000/svg\" height=\"24px\"viewBox=\"0 0 24 24\"\n",
              "       width=\"24px\">\n",
              "    <path d=\"M0 0h24v24H0V0z\" fill=\"none\"/>\n",
              "    <path d=\"M18.56 5.44l.94 2.06.94-2.06 2.06-.94-2.06-.94-.94-2.06-.94 2.06-2.06.94zm-11 1L8.5 8.5l.94-2.06 2.06-.94-2.06-.94L8.5 2.5l-.94 2.06-2.06.94zm10 10l.94 2.06.94-2.06 2.06-.94-2.06-.94-.94-2.06-.94 2.06-2.06.94z\"/><path d=\"M17.41 7.96l-1.37-1.37c-.4-.4-.92-.59-1.43-.59-.52 0-1.04.2-1.43.59L10.3 9.45l-7.72 7.72c-.78.78-.78 2.05 0 2.83L4 21.41c.39.39.9.59 1.41.59.51 0 1.02-.2 1.41-.59l7.78-7.78 2.81-2.81c.8-.78.8-2.07 0-2.86zM5.41 20L4 18.59l7.72-7.72 1.47 1.35L5.41 20z\"/>\n",
              "  </svg>\n",
              "      </button>\n",
              "      \n",
              "  <style>\n",
              "    .colab-df-container {\n",
              "      display:flex;\n",
              "      flex-wrap:wrap;\n",
              "      gap: 12px;\n",
              "    }\n",
              "\n",
              "    .colab-df-convert {\n",
              "      background-color: #E8F0FE;\n",
              "      border: none;\n",
              "      border-radius: 50%;\n",
              "      cursor: pointer;\n",
              "      display: none;\n",
              "      fill: #1967D2;\n",
              "      height: 32px;\n",
              "      padding: 0 0 0 0;\n",
              "      width: 32px;\n",
              "    }\n",
              "\n",
              "    .colab-df-convert:hover {\n",
              "      background-color: #E2EBFA;\n",
              "      box-shadow: 0px 1px 2px rgba(60, 64, 67, 0.3), 0px 1px 3px 1px rgba(60, 64, 67, 0.15);\n",
              "      fill: #174EA6;\n",
              "    }\n",
              "\n",
              "    [theme=dark] .colab-df-convert {\n",
              "      background-color: #3B4455;\n",
              "      fill: #D2E3FC;\n",
              "    }\n",
              "\n",
              "    [theme=dark] .colab-df-convert:hover {\n",
              "      background-color: #434B5C;\n",
              "      box-shadow: 0px 1px 3px 1px rgba(0, 0, 0, 0.15);\n",
              "      filter: drop-shadow(0px 1px 2px rgba(0, 0, 0, 0.3));\n",
              "      fill: #FFFFFF;\n",
              "    }\n",
              "  </style>\n",
              "\n",
              "      <script>\n",
              "        const buttonEl =\n",
              "          document.querySelector('#df-d9a3d02f-8745-4f98-8553-0a45afbbcdbf button.colab-df-convert');\n",
              "        buttonEl.style.display =\n",
              "          google.colab.kernel.accessAllowed ? 'block' : 'none';\n",
              "\n",
              "        async function convertToInteractive(key) {\n",
              "          const element = document.querySelector('#df-d9a3d02f-8745-4f98-8553-0a45afbbcdbf');\n",
              "          const dataTable =\n",
              "            await google.colab.kernel.invokeFunction('convertToInteractive',\n",
              "                                                     [key], {});\n",
              "          if (!dataTable) return;\n",
              "\n",
              "          const docLinkHtml = 'Like what you see? Visit the ' +\n",
              "            '<a target=\"_blank\" href=https://colab.research.google.com/notebooks/data_table.ipynb>data table notebook</a>'\n",
              "            + ' to learn more about interactive tables.';\n",
              "          element.innerHTML = '';\n",
              "          dataTable['output_type'] = 'display_data';\n",
              "          await google.colab.output.renderOutput(dataTable, element);\n",
              "          const docLink = document.createElement('div');\n",
              "          docLink.innerHTML = docLinkHtml;\n",
              "          element.appendChild(docLink);\n",
              "        }\n",
              "      </script>\n",
              "    </div>\n",
              "  </div>\n",
              "  "
            ]
          },
          "metadata": {},
          "execution_count": 46
        }
      ]
    },
    {
      "cell_type": "markdown",
      "source": [
        "# Tratamento de dados"
      ],
      "metadata": {
        "id": "v8iqH1h2hlfm"
      }
    },
    {
      "cell_type": "markdown",
      "source": [
        "Tratamento de dados são essenciais para o estudo de qualquer coleção de dados, por isso é necessário observar quais são os dados fundamentais para o estudo e os que não são para que com isso chegue-se ao resultado exato e limpo"
      ],
      "metadata": {
        "id": "HSb-nId_lLdQ"
      }
    },
    {
      "cell_type": "code",
      "source": [
        "df.describe()"
      ],
      "metadata": {
        "colab": {
          "base_uri": "https://localhost:8080/",
          "height": 300
        },
        "outputId": "8e8c004e-c17d-4e2b-a974-b9898fe1c2f4",
        "id": "TpJcz3Jnhlfm"
      },
      "execution_count": null,
      "outputs": [
        {
          "output_type": "execute_result",
          "data": {
            "text/plain": [
              "       Unnamed: 0        Total           HP       Attack      Defense  \\\n",
              "count         0.0  1071.000000  1071.000000  1071.000000  1071.000000   \n",
              "mean          NaN   441.261438    70.366947    80.945845    74.864613   \n",
              "std           NaN   121.610604    26.646330    32.385281    31.170939   \n",
              "min           NaN   175.000000     1.000000     5.000000     5.000000   \n",
              "25%           NaN   330.000000    50.000000    56.500000    52.000000   \n",
              "50%           NaN   460.000000    68.000000    80.000000    70.000000   \n",
              "75%           NaN   517.500000    84.000000   100.000000    90.000000   \n",
              "max           NaN  1125.000000   255.000000   190.000000   250.000000   \n",
              "\n",
              "            Sp.Atk       Sp.Def        Speed  \n",
              "count  1071.000000  1071.000000  1071.000000  \n",
              "mean     73.422969    72.481793    69.179272  \n",
              "std      32.840700    28.012037    30.229644  \n",
              "min      10.000000    20.000000     5.000000  \n",
              "25%      50.000000    50.000000    45.000000  \n",
              "50%      65.000000    70.000000    65.000000  \n",
              "75%      95.000000    90.000000    90.000000  \n",
              "max     194.000000   250.000000   200.000000  "
            ],
            "text/html": [
              "\n",
              "  <div id=\"df-d952c310-e7ef-416c-ab77-8c529e9ac6da\">\n",
              "    <div class=\"colab-df-container\">\n",
              "      <div>\n",
              "<style scoped>\n",
              "    .dataframe tbody tr th:only-of-type {\n",
              "        vertical-align: middle;\n",
              "    }\n",
              "\n",
              "    .dataframe tbody tr th {\n",
              "        vertical-align: top;\n",
              "    }\n",
              "\n",
              "    .dataframe thead th {\n",
              "        text-align: right;\n",
              "    }\n",
              "</style>\n",
              "<table border=\"1\" class=\"dataframe\">\n",
              "  <thead>\n",
              "    <tr style=\"text-align: right;\">\n",
              "      <th></th>\n",
              "      <th>Unnamed: 0</th>\n",
              "      <th>Total</th>\n",
              "      <th>HP</th>\n",
              "      <th>Attack</th>\n",
              "      <th>Defense</th>\n",
              "      <th>Sp.Atk</th>\n",
              "      <th>Sp.Def</th>\n",
              "      <th>Speed</th>\n",
              "    </tr>\n",
              "  </thead>\n",
              "  <tbody>\n",
              "    <tr>\n",
              "      <th>count</th>\n",
              "      <td>0.0</td>\n",
              "      <td>1071.000000</td>\n",
              "      <td>1071.000000</td>\n",
              "      <td>1071.000000</td>\n",
              "      <td>1071.000000</td>\n",
              "      <td>1071.000000</td>\n",
              "      <td>1071.000000</td>\n",
              "      <td>1071.000000</td>\n",
              "    </tr>\n",
              "    <tr>\n",
              "      <th>mean</th>\n",
              "      <td>NaN</td>\n",
              "      <td>441.261438</td>\n",
              "      <td>70.366947</td>\n",
              "      <td>80.945845</td>\n",
              "      <td>74.864613</td>\n",
              "      <td>73.422969</td>\n",
              "      <td>72.481793</td>\n",
              "      <td>69.179272</td>\n",
              "    </tr>\n",
              "    <tr>\n",
              "      <th>std</th>\n",
              "      <td>NaN</td>\n",
              "      <td>121.610604</td>\n",
              "      <td>26.646330</td>\n",
              "      <td>32.385281</td>\n",
              "      <td>31.170939</td>\n",
              "      <td>32.840700</td>\n",
              "      <td>28.012037</td>\n",
              "      <td>30.229644</td>\n",
              "    </tr>\n",
              "    <tr>\n",
              "      <th>min</th>\n",
              "      <td>NaN</td>\n",
              "      <td>175.000000</td>\n",
              "      <td>1.000000</td>\n",
              "      <td>5.000000</td>\n",
              "      <td>5.000000</td>\n",
              "      <td>10.000000</td>\n",
              "      <td>20.000000</td>\n",
              "      <td>5.000000</td>\n",
              "    </tr>\n",
              "    <tr>\n",
              "      <th>25%</th>\n",
              "      <td>NaN</td>\n",
              "      <td>330.000000</td>\n",
              "      <td>50.000000</td>\n",
              "      <td>56.500000</td>\n",
              "      <td>52.000000</td>\n",
              "      <td>50.000000</td>\n",
              "      <td>50.000000</td>\n",
              "      <td>45.000000</td>\n",
              "    </tr>\n",
              "    <tr>\n",
              "      <th>50%</th>\n",
              "      <td>NaN</td>\n",
              "      <td>460.000000</td>\n",
              "      <td>68.000000</td>\n",
              "      <td>80.000000</td>\n",
              "      <td>70.000000</td>\n",
              "      <td>65.000000</td>\n",
              "      <td>70.000000</td>\n",
              "      <td>65.000000</td>\n",
              "    </tr>\n",
              "    <tr>\n",
              "      <th>75%</th>\n",
              "      <td>NaN</td>\n",
              "      <td>517.500000</td>\n",
              "      <td>84.000000</td>\n",
              "      <td>100.000000</td>\n",
              "      <td>90.000000</td>\n",
              "      <td>95.000000</td>\n",
              "      <td>90.000000</td>\n",
              "      <td>90.000000</td>\n",
              "    </tr>\n",
              "    <tr>\n",
              "      <th>max</th>\n",
              "      <td>NaN</td>\n",
              "      <td>1125.000000</td>\n",
              "      <td>255.000000</td>\n",
              "      <td>190.000000</td>\n",
              "      <td>250.000000</td>\n",
              "      <td>194.000000</td>\n",
              "      <td>250.000000</td>\n",
              "      <td>200.000000</td>\n",
              "    </tr>\n",
              "  </tbody>\n",
              "</table>\n",
              "</div>\n",
              "      <button class=\"colab-df-convert\" onclick=\"convertToInteractive('df-d952c310-e7ef-416c-ab77-8c529e9ac6da')\"\n",
              "              title=\"Convert this dataframe to an interactive table.\"\n",
              "              style=\"display:none;\">\n",
              "        \n",
              "  <svg xmlns=\"http://www.w3.org/2000/svg\" height=\"24px\"viewBox=\"0 0 24 24\"\n",
              "       width=\"24px\">\n",
              "    <path d=\"M0 0h24v24H0V0z\" fill=\"none\"/>\n",
              "    <path d=\"M18.56 5.44l.94 2.06.94-2.06 2.06-.94-2.06-.94-.94-2.06-.94 2.06-2.06.94zm-11 1L8.5 8.5l.94-2.06 2.06-.94-2.06-.94L8.5 2.5l-.94 2.06-2.06.94zm10 10l.94 2.06.94-2.06 2.06-.94-2.06-.94-.94-2.06-.94 2.06-2.06.94z\"/><path d=\"M17.41 7.96l-1.37-1.37c-.4-.4-.92-.59-1.43-.59-.52 0-1.04.2-1.43.59L10.3 9.45l-7.72 7.72c-.78.78-.78 2.05 0 2.83L4 21.41c.39.39.9.59 1.41.59.51 0 1.02-.2 1.41-.59l7.78-7.78 2.81-2.81c.8-.78.8-2.07 0-2.86zM5.41 20L4 18.59l7.72-7.72 1.47 1.35L5.41 20z\"/>\n",
              "  </svg>\n",
              "      </button>\n",
              "      \n",
              "  <style>\n",
              "    .colab-df-container {\n",
              "      display:flex;\n",
              "      flex-wrap:wrap;\n",
              "      gap: 12px;\n",
              "    }\n",
              "\n",
              "    .colab-df-convert {\n",
              "      background-color: #E8F0FE;\n",
              "      border: none;\n",
              "      border-radius: 50%;\n",
              "      cursor: pointer;\n",
              "      display: none;\n",
              "      fill: #1967D2;\n",
              "      height: 32px;\n",
              "      padding: 0 0 0 0;\n",
              "      width: 32px;\n",
              "    }\n",
              "\n",
              "    .colab-df-convert:hover {\n",
              "      background-color: #E2EBFA;\n",
              "      box-shadow: 0px 1px 2px rgba(60, 64, 67, 0.3), 0px 1px 3px 1px rgba(60, 64, 67, 0.15);\n",
              "      fill: #174EA6;\n",
              "    }\n",
              "\n",
              "    [theme=dark] .colab-df-convert {\n",
              "      background-color: #3B4455;\n",
              "      fill: #D2E3FC;\n",
              "    }\n",
              "\n",
              "    [theme=dark] .colab-df-convert:hover {\n",
              "      background-color: #434B5C;\n",
              "      box-shadow: 0px 1px 3px 1px rgba(0, 0, 0, 0.15);\n",
              "      filter: drop-shadow(0px 1px 2px rgba(0, 0, 0, 0.3));\n",
              "      fill: #FFFFFF;\n",
              "    }\n",
              "  </style>\n",
              "\n",
              "      <script>\n",
              "        const buttonEl =\n",
              "          document.querySelector('#df-d952c310-e7ef-416c-ab77-8c529e9ac6da button.colab-df-convert');\n",
              "        buttonEl.style.display =\n",
              "          google.colab.kernel.accessAllowed ? 'block' : 'none';\n",
              "\n",
              "        async function convertToInteractive(key) {\n",
              "          const element = document.querySelector('#df-d952c310-e7ef-416c-ab77-8c529e9ac6da');\n",
              "          const dataTable =\n",
              "            await google.colab.kernel.invokeFunction('convertToInteractive',\n",
              "                                                     [key], {});\n",
              "          if (!dataTable) return;\n",
              "\n",
              "          const docLinkHtml = 'Like what you see? Visit the ' +\n",
              "            '<a target=\"_blank\" href=https://colab.research.google.com/notebooks/data_table.ipynb>data table notebook</a>'\n",
              "            + ' to learn more about interactive tables.';\n",
              "          element.innerHTML = '';\n",
              "          dataTable['output_type'] = 'display_data';\n",
              "          await google.colab.output.renderOutput(dataTable, element);\n",
              "          const docLink = document.createElement('div');\n",
              "          docLink.innerHTML = docLinkHtml;\n",
              "          element.appendChild(docLink);\n",
              "        }\n",
              "      </script>\n",
              "    </div>\n",
              "  </div>\n",
              "  "
            ]
          },
          "metadata": {},
          "execution_count": 5
        }
      ]
    },
    {
      "cell_type": "code",
      "source": [
        "import seaborn as sns\n",
        "\n",
        "sns.heatmap(df.isnull(), yticklabels=False)"
      ],
      "metadata": {
        "colab": {
          "base_uri": "https://localhost:8080/",
          "height": 337
        },
        "outputId": "bad1cf22-7fcb-4dbb-c1d4-0cac0f406530",
        "id": "9Zz91m0Hhlfm"
      },
      "execution_count": null,
      "outputs": [
        {
          "output_type": "execute_result",
          "data": {
            "text/plain": [
              "<matplotlib.axes._subplots.AxesSubplot at 0x7f9666575a90>"
            ]
          },
          "metadata": {},
          "execution_count": 6
        },
        {
          "output_type": "display_data",
          "data": {
            "text/plain": [
              "<Figure size 432x288 with 2 Axes>"
            ],
            "image/png": "[encoded data removed]"
          },
          "metadata": {
            "needs_background": "light"
          }
        }
      ]
    },
    {
      "cell_type": "markdown",
      "source": [
        "Como o type 2 faz sentido conter valores nulos, pois o pokemon pode possuir só um tipo, ele não será tratado. Voltaremos a atenção para Variation"
      ],
      "metadata": {
        "id": "ZhXm0PvAhlfm"
      }
    },
    {
      "cell_type": "code",
      "source": [
        "# df.Variation.head(50)\n",
        "df.Variation.tail(50)"
      ],
      "metadata": {
        "colab": {
          "base_uri": "https://localhost:8080/"
        },
        "outputId": "8f018f48-4c9a-40c2-dde0-fd99c99a0f2c",
        "id": "_LSWgKbAhlfn"
      },
      "execution_count": null,
      "outputs": [
        {
          "output_type": "execute_result",
          "data": {
            "text/plain": [
              "1021                     NaN\n",
              "1022                     NaN\n",
              "1023                     NaN\n",
              "1024                     NaN\n",
              "1025                     NaN\n",
              "1026           Crowned Sword\n",
              "1027    Hero of Many Battles\n",
              "1028          Crowned Shield\n",
              "1029    Hero of Many Battles\n",
              "1030                     NaN\n",
              "1031               Eternamax\n",
              "1032                     NaN\n",
              "1033           Single Strike\n",
              "1034            Rapid Strike\n",
              "1035                     NaN\n",
              "1036                     NaN\n",
              "1037                     NaN\n",
              "1038                     NaN\n",
              "1039                     NaN\n",
              "1040                     NaN\n",
              "1041               Ice Rider\n",
              "1042            Shadow Rider\n",
              "1043                 Hisuian\n",
              "1044                     NaN\n",
              "1045                 Hisuian\n",
              "1046                     NaN\n",
              "1047                 Hisuian\n",
              "1048                 Hisuian\n",
              "1049                 Hisuian\n",
              "1050                 Hisuian\n",
              "1051                 Hisuian\n",
              "1052                 Hisuian\n",
              "1053                 Hisuian\n",
              "1054                 Hisuian\n",
              "1055                 Hisuian\n",
              "1056                 Hisuian\n",
              "1057                 Hisuian\n",
              "1058                 Hisuian\n",
              "1059                 Hisuian\n",
              "1060                 Hisuian\n",
              "1061                  Origin\n",
              "1062                  Origin\n",
              "1063               Incarnate\n",
              "1064                 Therian\n",
              "1065                     NaN\n",
              "1066           White-Striped\n",
              "1067                    Male\n",
              "1068                  Female\n",
              "1069                     NaN\n",
              "1070                     NaN\n",
              "Name: Variation, dtype: object"
            ]
          },
          "metadata": {},
          "execution_count": 7
        }
      ]
    },
    {
      "cell_type": "markdown",
      "source": [
        "Variation seria uma coluna parecida com 'informacoes gerais/ sexo/ isMega/título' onde a mesma possui varias informações de dados."
      ],
      "metadata": {
        "id": "x2LXru6Qhlfn"
      }
    },
    {
      "cell_type": "code",
      "source": [
        "df['Unnamed: 0'].isna()"
      ],
      "metadata": {
        "colab": {
          "base_uri": "https://localhost:8080/"
        },
        "outputId": "a5f3df16-3aaa-4f67-9ebd-965845a8978b",
        "id": "A3uReeL_hlfn"
      },
      "execution_count": null,
      "outputs": [
        {
          "output_type": "execute_result",
          "data": {
            "text/plain": [
              "0       True\n",
              "1       True\n",
              "2       True\n",
              "3       True\n",
              "4       True\n",
              "        ... \n",
              "1066    True\n",
              "1067    True\n",
              "1068    True\n",
              "1069    True\n",
              "1070    True\n",
              "Name: Unnamed: 0, Length: 1071, dtype: bool"
            ]
          },
          "metadata": {},
          "execution_count": 8
        }
      ]
    },
    {
      "cell_type": "code",
      "source": [
        "df = df.drop(['Unnamed: 0'],axis=1)"
      ],
      "metadata": {
        "id": "C-1mp98vhlfn"
      },
      "execution_count": null,
      "outputs": []
    },
    {
      "cell_type": "code",
      "source": [
        "sns.heatmap(df.isnull(), yticklabels=False)"
      ],
      "metadata": {
        "colab": {
          "base_uri": "https://localhost:8080/",
          "height": 321
        },
        "outputId": "7a4cb9ba-3a7f-461d-de86-5ee9168dca2a",
        "id": "y9WUHblPhlfn"
      },
      "execution_count": null,
      "outputs": [
        {
          "output_type": "execute_result",
          "data": {
            "text/plain": [
              "<matplotlib.axes._subplots.AxesSubplot at 0x7f966377ed90>"
            ]
          },
          "metadata": {},
          "execution_count": 10
        },
        {
          "output_type": "display_data",
          "data": {
            "text/plain": [
              "<Figure size 432x288 with 2 Axes>"
            ],
            "image/png": "[encoded data removed]"
          },
          "metadata": {
            "needs_background": "light"
          }
        }
      ]
    },
    {
      "cell_type": "markdown",
      "source": [
        "'electric' está escrito errado em type 1"
      ],
      "metadata": {
        "id": "jP7keeS0ZFXQ"
      }
    },
    {
      "cell_type": "code",
      "source": [
        "df.loc[1048,'Type1'] = 'Electric'"
      ],
      "metadata": {
        "id": "U11i1Sy9ZMH7"
      },
      "execution_count": null,
      "outputs": []
    },
    {
      "cell_type": "markdown",
      "source": [
        "# Qual a probabilidade de escolher um pokemon e seu type1 ou type2 ser Grass?"
      ],
      "metadata": {
        "id": "8lUl6hwLiZEQ"
      }
    },
    {
      "cell_type": "markdown",
      "source": [
        "quando estava jogando, sempre perdi muito tempo passando pelos matos do jogo e a maioria de seus pokemons eram de planta, por isso fiz esse código para achar a probabilidade de pego randomicamente um pokemon, qual a probabilidade de ser de planta. Sei que existem algoritimos no jogo que afetam a raridade de um pokemon, mas como não se tem acesso a eles..."
      ],
      "metadata": {
        "id": "pzNIbenemi1_"
      }
    },
    {
      "cell_type": "code",
      "source": [
        "df1 = df\n",
        "probG = len(df1[(df1['Type1'] == \"Grass\") | (df1['Type2'] == \"Grass\")])/ universo\n",
        "print (f\"{round(probG *100,2)} %\")"
      ],
      "metadata": {
        "colab": {
          "base_uri": "https://localhost:8080/"
        },
        "id": "SYBH5cX4mTVM",
        "outputId": "f74ae7dc-2cb5-4d8b-ab69-2f8ca677446f"
      },
      "execution_count": null,
      "outputs": [
        {
          "output_type": "stream",
          "name": "stdout",
          "text": [
            "11.48 %\n"
          ]
        }
      ]
    },
    {
      "cell_type": "markdown",
      "source": [
        "# Qual a probabilidade de escolher um pokemon ofensivo? onde o ataque é maior que a defesa."
      ],
      "metadata": {
        "id": "ArHqEGhLiVE-"
      }
    },
    {
      "cell_type": "markdown",
      "source": [
        "sempre gostei mais de pokémons que tivessem mais ataque do que defesa (sempre escolhia charmander), fiz esse estudo para ver onde a maioria dos pokémons estavam concentrados."
      ],
      "metadata": {
        "id": "58BnPkytnFSO"
      }
    },
    {
      "cell_type": "code",
      "source": [
        "ofensivo = len(df[df['Attack'] > df['Defense']])\n",
        "prob_ofensivo = round((ofensivo/universo)*100,2)\n",
        "print(f'a probabilidade de um pokémon ser escolhido aleatoriamente e ser agressivo é de : {prob_ofensivo}%')"
      ],
      "metadata": {
        "colab": {
          "base_uri": "https://localhost:8080/"
        },
        "id": "hSvqEXmSiHlq",
        "outputId": "a450d97e-427d-489f-92d1-ecf5c20eaf13"
      },
      "execution_count": null,
      "outputs": [
        {
          "output_type": "stream",
          "name": "stdout",
          "text": [
            "a probabilidade de um pokémon ser escolhido aleatoriamente e ser agressivo é de : 54.62%\n"
          ]
        }
      ]
    },
    {
      "cell_type": "markdown",
      "source": [
        "# Qual a probabilidade de ser um pokemon com type 1 = dragon, sabendo que seu type 2 é fire"
      ],
      "metadata": {
        "id": "P7uN2bNqjswr"
      }
    },
    {
      "cell_type": "markdown",
      "source": [
        "uma coisa que se tem preenchido na cabeça é a relação que todo dragão é de fogo, fui um pouco mais e vi qual a % dos pokémons de fogo que realmente são dragões"
      ],
      "metadata": {
        "id": "YCoovzHWnYNf"
      }
    },
    {
      "cell_type": "code",
      "source": [
        "probT2Fire = len(df[df['Type2'] == 'Fire'])/universo\n",
        "probDragT2Fire = len(df[(df['Type2'] == 'Fire') & (df['Type1'] == 'Dragon')])/universo\n",
        "prob = probDragT2Fire/probT2Fire\n",
        "prob = round(prob*100,2)\n",
        "print(f'a probabilidade de um pokémon ser um pokemon type1=dragon, sabendo que seu type2=fire é de: {prob}%')\n"
      ],
      "metadata": {
        "colab": {
          "base_uri": "https://localhost:8080/"
        },
        "id": "dzrD3XqsjzS7",
        "outputId": "e074366b-09e8-4ee7-c15d-ccdce19a20a7"
      },
      "execution_count": null,
      "outputs": [
        {
          "output_type": "stream",
          "name": "stdout",
          "text": [
            "a probabilidade de um pokémon ser um pokemon type1=dragon, sabendo que seu type2=fire é de: 5.88%\n"
          ]
        }
      ]
    },
    {
      "cell_type": "markdown",
      "source": [
        "# TEOREMA DE BAYES"
      ],
      "metadata": {
        "id": "TKCX7dGVZsYM"
      }
    },
    {
      "cell_type": "markdown",
      "source": [
        "qual a probabilidade de ser bug, tal que um dos seus tipos seja grass.\n",
        "recorremos a história dos pokémons selvagens(mato) onde ficava irritado quando procurava por um pokémon bom como um abra (posteriormente alakazam) e só o que encontrava era caterpie."
      ],
      "metadata": {
        "id": "NPxC9r7KjpdW"
      }
    },
    {
      "cell_type": "code",
      "source": [
        "probBG = len(df[((df['Type1'] == \"Bug\") | (df['Type2'] == 'Bug')) & ((df['Type1'] == 'Grass') | (df['Type2'] == 'Grass'))])/ universo\n",
        "probCond = probBG/probG\n",
        "probBugTqGrass = (probCond * probBG)/probG\n",
        "print(f'{round(probBugTqGrass * 100,2)}%')"
      ],
      "metadata": {
        "id": "yBVG5QUPk0hA",
        "colab": {
          "base_uri": "https://localhost:8080/"
        },
        "outputId": "3281c3a6-84f7-438f-bc0c-d9353da0f8b9"
      },
      "execution_count": null,
      "outputs": [
        {
          "output_type": "stream",
          "name": "stdout",
          "text": [
            "0.24%\n"
          ]
        }
      ]
    },
    {
      "cell_type": "markdown",
      "source": [
        "# Variáveis aleatórias"
      ],
      "metadata": {
        "id": "BTWJ1xEtaVp7"
      }
    },
    {
      "cell_type": "markdown",
      "source": [
        "estatística com a função de quantos pokémons existem de cada tipo (type1 + type2)"
      ],
      "metadata": {
        "id": "BPPTZbJWod4-"
      }
    },
    {
      "cell_type": "code",
      "source": [
        "va = df.copy()\n",
        "vat1 = va['Type1'].value_counts()\n",
        "vat2 = va['Type2'].value_counts()\n",
        "vat = vat1 + vat2\n",
        "vat"
      ],
      "metadata": {
        "id": "O0i5VUwfb9-q",
        "colab": {
          "base_uri": "https://localhost:8080/"
        },
        "outputId": "13e2d474-5388-4f04-e5c1-f478a10629cc"
      },
      "execution_count": null,
      "outputs": [
        {
          "output_type": "execute_result",
          "data": {
            "text/plain": [
              "Bug          91\n",
              "Dark         75\n",
              "Dragon       77\n",
              "Electric     74\n",
              "Fairy        65\n",
              "Fighting     78\n",
              "Fire         85\n",
              "Flying      123\n",
              "Ghost        73\n",
              "Grass       123\n",
              "Ground       81\n",
              "Ice          58\n",
              "Normal      130\n",
              "Poison       83\n",
              "Psychic     123\n",
              "Rock         78\n",
              "Steel        74\n",
              "Water       159\n",
              "dtype: int64"
            ]
          },
          "metadata": {},
          "execution_count": 16
        }
      ]
    },
    {
      "cell_type": "markdown",
      "source": [
        "# função probabilidade"
      ],
      "metadata": {
        "id": "dLOf9s8od36V"
      }
    },
    {
      "cell_type": "code",
      "source": [
        "fp = vat/universo\n",
        "fp = fp.sort_values(ascending=False)\n",
        "fp"
      ],
      "metadata": {
        "id": "LclOhkTkd7Rt",
        "colab": {
          "base_uri": "https://localhost:8080/"
        },
        "outputId": "b995ac65-4569-42aa-cf42-4d270108cc1c"
      },
      "execution_count": null,
      "outputs": [
        {
          "output_type": "execute_result",
          "data": {
            "text/plain": [
              "Water       0.148459\n",
              "Normal      0.121382\n",
              "Flying      0.114846\n",
              "Psychic     0.114846\n",
              "Grass       0.114846\n",
              "Bug         0.084967\n",
              "Fire        0.079365\n",
              "Poison      0.077498\n",
              "Ground      0.075630\n",
              "Fighting    0.072829\n",
              "Rock        0.072829\n",
              "Dragon      0.071895\n",
              "Dark        0.070028\n",
              "Electric    0.069094\n",
              "Steel       0.069094\n",
              "Ghost       0.068161\n",
              "Fairy       0.060691\n",
              "Ice         0.054155\n",
              "dtype: float64"
            ]
          },
          "metadata": {},
          "execution_count": 17
        }
      ]
    },
    {
      "cell_type": "markdown",
      "source": [
        "# gráfico de probabilidade Type"
      ],
      "metadata": {
        "id": "EZoVNS6geeZN"
      }
    },
    {
      "cell_type": "code",
      "source": [
        "plt.xlabel('Type')\n",
        "plt.ylabel('Probabilidade')\n",
        "plt.title('Type prob')\n",
        "plt.xticks(rotation = 90)\n",
        "plt.bar(fp.index,fp)\n"
      ],
      "metadata": {
        "id": "eYw8SHrbegYE",
        "colab": {
          "base_uri": "https://localhost:8080/"
        },
        "outputId": "19759999-14b6-4e9d-8ee9-7c0218556127"
      },
      "execution_count": null,
      "outputs": [
        {
          "output_type": "execute_result",
          "data": {
            "text/plain": [
              "<BarContainer object of 18 artists>"
            ]
          },
          "metadata": {},
          "execution_count": 18
        },
        {
          "output_type": "display_data",
          "data": {
            "text/plain": [
              "<Figure size 432x288 with 1 Axes>"
            ],
            "image/png": "[encoded data removed]"
          },
          "metadata": {
            "needs_background": "light"
          }
        }
      ]
    },
    {
      "cell_type": "markdown",
      "source": [
        "# Variação quanto ao total"
      ],
      "metadata": {
        "id": "8S3j1_tXj8jz"
      }
    },
    {
      "cell_type": "markdown",
      "source": [
        "organizando em grupos, Gostaria de saber por força como estão divididos os pokémons"
      ],
      "metadata": {
        "id": "s5sbQJ8cfv0e"
      }
    },
    {
      "cell_type": "code",
      "source": [
        "df0 = df.copy()\n",
        "def pokemonPowerCounter(df):\n",
        "  pokemonList=[]\n",
        "  for i in range(0,1001,100):\n",
        "    if i < 100:\n",
        "      size = len(df[df['Total'] < 100])\n",
        "    elif 100 <= i <1000:\n",
        "      size = len(df[(df['Total'] >= i) & (df['Total'] < i+100)])\n",
        "    else:\n",
        "      size = len(df[df['Total'] >= 1000])\n",
        "    pokemonList.append(size)\n",
        "  return pokemonList\n",
        "\n",
        "def pokemonPowerName():\n",
        "  pokemonListName=[]\n",
        "  for i in range(0,1001,100):\n",
        "    if i < 1000:\n",
        "      # pokemonListName.append(\"%d_%d\"%(i,i+100))\n",
        "      pokemonListName.append(f\"{i}_{i+100}\")\n",
        "    else:\n",
        "      pokemonListName.append(f\">{i}\")\n",
        "  return pokemonListName\n",
        "\n",
        "d = {'Total': pokemonPowerName(),'Quantidade': pokemonPowerCounter(df0)}\n",
        "df2 = pd.DataFrame(data=d)\n",
        "df3 = df2.set_index('Total')\n",
        "df3"
      ],
      "metadata": {
        "id": "vj9Znt-pcQfi",
        "colab": {
          "base_uri": "https://localhost:8080/"
        },
        "outputId": "1eda2bf1-c7f3-48d4-8dfb-c550cc8c7e3e"
      },
      "execution_count": null,
      "outputs": [
        {
          "output_type": "execute_result",
          "data": {
            "text/plain": [
              "          Quantidade\n",
              "Total               \n",
              "0_100              0\n",
              "100_200           10\n",
              "200_300          126\n",
              "300_400          235\n",
              "400_500          345\n",
              "500_600          242\n",
              "600_700           93\n",
              "700_800           19\n",
              "800_900            0\n",
              "900_1000           0\n",
              ">1000              1"
            ],
            "text/html": [
              "\n",
              "  <div id=\"df-6d27bd71-bb5e-404d-bede-776197ec4f24\">\n",
              "    <div class=\"colab-df-container\">\n",
              "      <div>\n",
              "<style scoped>\n",
              "    .dataframe tbody tr th:only-of-type {\n",
              "        vertical-align: middle;\n",
              "    }\n",
              "\n",
              "    .dataframe tbody tr th {\n",
              "        vertical-align: top;\n",
              "    }\n",
              "\n",
              "    .dataframe thead th {\n",
              "        text-align: right;\n",
              "    }\n",
              "</style>\n",
              "<table border=\"1\" class=\"dataframe\">\n",
              "  <thead>\n",
              "    <tr style=\"text-align: right;\">\n",
              "      <th></th>\n",
              "      <th>Quantidade</th>\n",
              "    </tr>\n",
              "    <tr>\n",
              "      <th>Total</th>\n",
              "      <th></th>\n",
              "    </tr>\n",
              "  </thead>\n",
              "  <tbody>\n",
              "    <tr>\n",
              "      <th>0_100</th>\n",
              "      <td>0</td>\n",
              "    </tr>\n",
              "    <tr>\n",
              "      <th>100_200</th>\n",
              "      <td>10</td>\n",
              "    </tr>\n",
              "    <tr>\n",
              "      <th>200_300</th>\n",
              "      <td>126</td>\n",
              "    </tr>\n",
              "    <tr>\n",
              "      <th>300_400</th>\n",
              "      <td>235</td>\n",
              "    </tr>\n",
              "    <tr>\n",
              "      <th>400_500</th>\n",
              "      <td>345</td>\n",
              "    </tr>\n",
              "    <tr>\n",
              "      <th>500_600</th>\n",
              "      <td>242</td>\n",
              "    </tr>\n",
              "    <tr>\n",
              "      <th>600_700</th>\n",
              "      <td>93</td>\n",
              "    </tr>\n",
              "    <tr>\n",
              "      <th>700_800</th>\n",
              "      <td>19</td>\n",
              "    </tr>\n",
              "    <tr>\n",
              "      <th>800_900</th>\n",
              "      <td>0</td>\n",
              "    </tr>\n",
              "    <tr>\n",
              "      <th>900_1000</th>\n",
              "      <td>0</td>\n",
              "    </tr>\n",
              "    <tr>\n",
              "      <th>&gt;1000</th>\n",
              "      <td>1</td>\n",
              "    </tr>\n",
              "  </tbody>\n",
              "</table>\n",
              "</div>\n",
              "      <button class=\"colab-df-convert\" onclick=\"convertToInteractive('df-6d27bd71-bb5e-404d-bede-776197ec4f24')\"\n",
              "              title=\"Convert this dataframe to an interactive table.\"\n",
              "              style=\"display:none;\">\n",
              "        \n",
              "  <svg xmlns=\"http://www.w3.org/2000/svg\" height=\"24px\"viewBox=\"0 0 24 24\"\n",
              "       width=\"24px\">\n",
              "    <path d=\"M0 0h24v24H0V0z\" fill=\"none\"/>\n",
              "    <path d=\"M18.56 5.44l.94 2.06.94-2.06 2.06-.94-2.06-.94-.94-2.06-.94 2.06-2.06.94zm-11 1L8.5 8.5l.94-2.06 2.06-.94-2.06-.94L8.5 2.5l-.94 2.06-2.06.94zm10 10l.94 2.06.94-2.06 2.06-.94-2.06-.94-.94-2.06-.94 2.06-2.06.94z\"/><path d=\"M17.41 7.96l-1.37-1.37c-.4-.4-.92-.59-1.43-.59-.52 0-1.04.2-1.43.59L10.3 9.45l-7.72 7.72c-.78.78-.78 2.05 0 2.83L4 21.41c.39.39.9.59 1.41.59.51 0 1.02-.2 1.41-.59l7.78-7.78 2.81-2.81c.8-.78.8-2.07 0-2.86zM5.41 20L4 18.59l7.72-7.72 1.47 1.35L5.41 20z\"/>\n",
              "  </svg>\n",
              "      </button>\n",
              "      \n",
              "  <style>\n",
              "    .colab-df-container {\n",
              "      display:flex;\n",
              "      flex-wrap:wrap;\n",
              "      gap: 12px;\n",
              "    }\n",
              "\n",
              "    .colab-df-convert {\n",
              "      background-color: #E8F0FE;\n",
              "      border: none;\n",
              "      border-radius: 50%;\n",
              "      cursor: pointer;\n",
              "      display: none;\n",
              "      fill: #1967D2;\n",
              "      height: 32px;\n",
              "      padding: 0 0 0 0;\n",
              "      width: 32px;\n",
              "    }\n",
              "\n",
              "    .colab-df-convert:hover {\n",
              "      background-color: #E2EBFA;\n",
              "      box-shadow: 0px 1px 2px rgba(60, 64, 67, 0.3), 0px 1px 3px 1px rgba(60, 64, 67, 0.15);\n",
              "      fill: #174EA6;\n",
              "    }\n",
              "\n",
              "    [theme=dark] .colab-df-convert {\n",
              "      background-color: #3B4455;\n",
              "      fill: #D2E3FC;\n",
              "    }\n",
              "\n",
              "    [theme=dark] .colab-df-convert:hover {\n",
              "      background-color: #434B5C;\n",
              "      box-shadow: 0px 1px 3px 1px rgba(0, 0, 0, 0.15);\n",
              "      filter: drop-shadow(0px 1px 2px rgba(0, 0, 0, 0.3));\n",
              "      fill: #FFFFFF;\n",
              "    }\n",
              "  </style>\n",
              "\n",
              "      <script>\n",
              "        const buttonEl =\n",
              "          document.querySelector('#df-6d27bd71-bb5e-404d-bede-776197ec4f24 button.colab-df-convert');\n",
              "        buttonEl.style.display =\n",
              "          google.colab.kernel.accessAllowed ? 'block' : 'none';\n",
              "\n",
              "        async function convertToInteractive(key) {\n",
              "          const element = document.querySelector('#df-6d27bd71-bb5e-404d-bede-776197ec4f24');\n",
              "          const dataTable =\n",
              "            await google.colab.kernel.invokeFunction('convertToInteractive',\n",
              "                                                     [key], {});\n",
              "          if (!dataTable) return;\n",
              "\n",
              "          const docLinkHtml = 'Like what you see? Visit the ' +\n",
              "            '<a target=\"_blank\" href=https://colab.research.google.com/notebooks/data_table.ipynb>data table notebook</a>'\n",
              "            + ' to learn more about interactive tables.';\n",
              "          element.innerHTML = '';\n",
              "          dataTable['output_type'] = 'display_data';\n",
              "          await google.colab.output.renderOutput(dataTable, element);\n",
              "          const docLink = document.createElement('div');\n",
              "          docLink.innerHTML = docLinkHtml;\n",
              "          element.appendChild(docLink);\n",
              "        }\n",
              "      </script>\n",
              "    </div>\n",
              "  </div>\n",
              "  "
            ]
          },
          "metadata": {},
          "execution_count": 19
        }
      ]
    },
    {
      "cell_type": "markdown",
      "source": [
        "o ideal seria montar um time com os pokemons com força total entre as forças 600-800, claro que existem outras variáveis nessa escolha, já que seria muito ruim montar um time com todos os pokémons do mesmo tipo, o time ficaria vulnerável, já que alguns tipos possuem vantagem uns sobre outros"
      ],
      "metadata": {
        "id": "R5xcNQgdpchp"
      }
    },
    {
      "cell_type": "markdown",
      "source": [
        "Gráfico"
      ],
      "metadata": {
        "id": "XahLMqDcfyQQ"
      }
    },
    {
      "cell_type": "code",
      "source": [
        "plt.plot(df3)\n",
        "plt.title('Distribuição quantidade de pokemons por total de força')\n",
        "plt.xticks(rotation = 90)\n",
        "plt.xlabel('Força_Total')\n",
        "plt.ylabel('Quantidade')"
      ],
      "metadata": {
        "id": "EbrZHllbf1ZA",
        "colab": {
          "base_uri": "https://localhost:8080/"
        },
        "outputId": "a60a96ff-625b-45a4-e198-10ef766db10c"
      },
      "execution_count": null,
      "outputs": [
        {
          "output_type": "execute_result",
          "data": {
            "text/plain": [
              "Text(0, 0.5, 'Quantidade')"
            ]
          },
          "metadata": {},
          "execution_count": 20
        },
        {
          "output_type": "display_data",
          "data": {
            "text/plain": [
              "<Figure size 432x288 with 1 Axes>"
            ],
            "image/png": "[encoded data removed]"
          },
          "metadata": {
            "needs_background": "light"
          }
        }
      ]
    },
    {
      "cell_type": "code",
      "source": [
        "df2.plot.bar(x= 'Total',y = 'Quantidade')\n"
      ],
      "metadata": {
        "id": "bu3wUVW0Dh8C",
        "colab": {
          "base_uri": "https://localhost:8080/"
        },
        "outputId": "34cf1cd2-ab2e-4592-f66d-36676a3770a5"
      },
      "execution_count": null,
      "outputs": [
        {
          "output_type": "execute_result",
          "data": {
            "text/plain": [
              "<matplotlib.axes._subplots.AxesSubplot at 0x7f9663510790>"
            ]
          },
          "metadata": {},
          "execution_count": 21
        },
        {
          "output_type": "display_data",
          "data": {
            "text/plain": [
              "<Figure size 432x288 with 1 Axes>"
            ],
            "image/png": "[encoded data removed]"
          },
          "metadata": {
            "needs_background": "light"
          }
        }
      ]
    },
    {
      "cell_type": "markdown",
      "source": [
        "Gráfico acumulativo"
      ],
      "metadata": {
        "id": "54RdR5PxnC1H"
      }
    },
    {
      "cell_type": "code",
      "source": [
        "df3cumsum = df3.cumsum()\n",
        "plt.plot(df3cumsum)\n",
        "plt.title('Distribuição quantidade de pokemons por força(gráfico acumulativo)')\n",
        "plt.xticks(rotation = 90)"
      ],
      "metadata": {
        "id": "PWT3ncUWnHnY",
        "colab": {
          "base_uri": "https://localhost:8080/"
        },
        "outputId": "6cd9c81c-6ecf-47cf-ad90-b5081481c3ed"
      },
      "execution_count": null,
      "outputs": [
        {
          "output_type": "execute_result",
          "data": {
            "text/plain": [
              "([0, 1, 2, 3, 4, 5, 6, 7, 8, 9, 10],\n",
              " <a list of 11 Text major ticklabel objects>)"
            ]
          },
          "metadata": {},
          "execution_count": 22
        },
        {
          "output_type": "display_data",
          "data": {
            "text/plain": [
              "<Figure size 432x288 with 1 Axes>"
            ],
            "image/png": "[encoded data removed]"
          },
          "metadata": {
            "needs_background": "light"
          }
        }
      ]
    },
    {
      "cell_type": "markdown",
      "source": [
        "# Correlação"
      ],
      "metadata": {
        "id": "8EM4WiMMfqiJ"
      }
    },
    {
      "cell_type": "markdown",
      "source": [
        "Qual o atributo que tem maior contribuição para o atributo Total"
      ],
      "metadata": {
        "id": "nt-ptNwdf9Dq"
      }
    },
    {
      "cell_type": "code",
      "source": [
        "corr = df.copy()\n",
        "corr.columns"
      ],
      "metadata": {
        "id": "0RK387blhlqy",
        "colab": {
          "base_uri": "https://localhost:8080/"
        },
        "outputId": "900c0d04-3a0f-4643-ce6f-0c3de10be108"
      },
      "execution_count": null,
      "outputs": [
        {
          "output_type": "execute_result",
          "data": {
            "text/plain": [
              "Index(['Name', 'Variation', 'Type1', 'Type2', 'Total', 'HP', 'Attack',\n",
              "       'Defense', 'Sp.Atk', 'Sp.Def', 'Speed'],\n",
              "      dtype='object')"
            ]
          },
          "metadata": {},
          "execution_count": 23
        }
      ]
    },
    {
      "cell_type": "code",
      "source": [
        "corr = df.copy()\n",
        "\n",
        "# Correlação atributo x Total\n",
        "print(f\"correlação entre Total e HP: {round(corr[['Total','HP']].corr()['HP'][0],3)}\")\n",
        "print(f\"correlação entre Total e Attack: {round(corr[['Total','Attack']].corr()['Attack'][0],3)}\")\n",
        "print(f\"correlação entre Total e Defense: {round(corr[['Total','Defense']].corr()['Defense'][0],3)}\")\n",
        "print(f\"correlação entre Total e Sp.Atk: {round(corr[['Total','Sp.Atk']].corr()['Sp.Atk'][0],3)}\")\n",
        "print(f\"correlação entre Total e Sp.Def: {round(corr[['Total','Sp.Def']].corr()['Sp.Def'][0],3)}\")\n",
        "print(f\"correlação entre Total e Speed: {round(corr[['Total','Speed']].corr()['Speed'][0],3)}\")"
      ],
      "metadata": {
        "id": "gPEB5nPIf768",
        "colab": {
          "base_uri": "https://localhost:8080/"
        },
        "outputId": "39021afb-40e5-412b-d930-b1433fa8c53a"
      },
      "execution_count": null,
      "outputs": [
        {
          "output_type": "stream",
          "name": "stdout",
          "text": [
            "correlação entre Total e HP: 0.651\n",
            "correlação entre Total e Attack: 0.733\n",
            "correlação entre Total e Defense: 0.628\n",
            "correlação entre Total e Sp.Atk: 0.73\n",
            "correlação entre Total e Sp.Def: 0.719\n",
            "correlação entre Total e Speed: 0.557\n"
          ]
        }
      ]
    },
    {
      "cell_type": "code",
      "source": [
        "# Média dos atributos\n",
        "print(corr['HP'].mean())\n",
        "print(corr['Attack'].mean())\n",
        "print(corr['Defense'].mean())\n",
        "print(corr['Sp.Atk'].mean())\n",
        "print(corr['Sp.Def'].mean())\n",
        "print(corr['Speed'].mean())"
      ],
      "metadata": {
        "id": "X1E7FgLV0Y3X",
        "colab": {
          "base_uri": "https://localhost:8080/"
        },
        "outputId": "3673f676-ae0c-48f8-8c5b-5603cd3c4553"
      },
      "execution_count": null,
      "outputs": [
        {
          "output_type": "stream",
          "name": "stdout",
          "text": [
            "70.36694677871148\n",
            "80.94584500466853\n",
            "74.86461251167134\n",
            "73.42296918767506\n",
            "72.48179271708683\n",
            "69.17927170868347\n"
          ]
        }
      ]
    },
    {
      "cell_type": "markdown",
      "source": [
        "faz sentido que o 'attack' possua uma correlação maior com o total, já que sua média é maior e o atribudo 'speed' tenha uma correlação menor, sabendo que a soma dos atributos vai resultar no 'total'"
      ],
      "metadata": {
        "id": "8ORidDO3qBVQ"
      }
    },
    {
      "cell_type": "markdown",
      "source": [
        "# Distribuição"
      ],
      "metadata": {
        "id": "iMPGTtCmiH_k"
      }
    },
    {
      "cell_type": "code",
      "source": [
        "import scipy\n",
        "import scipy.stats\n",
        "size=1200\n",
        "x = np.arange(size)\n",
        "y = df['Total']\n",
        "h = plt.hist(y, density=True)\n",
        "\n",
        "dist_names = ['logistic', 'norm']\n",
        "for dist_name in dist_names:\n",
        "  dist = getattr(scipy.stats, dist_name)\n",
        "  params = dist.fit(y)\n",
        "  arg = params[:-2]\n",
        "  loc = params[-2]\n",
        "  scale = params[-1]\n",
        "  if arg: \n",
        "    pdf_fitted = dist.pdf(x, *arg, loc=loc, scale=scale)\n",
        "  else:\n",
        "    pdf_fitted = dist.pdf(x, loc=loc, scale=scale)\n",
        "  plt.plot(pdf_fitted, label=dist_name)\n",
        "\n",
        "plt.legend(loc= 'upper right')"
      ],
      "metadata": {
        "colab": {
          "base_uri": "https://localhost:8080/",
          "height": 282
        },
        "id": "4caxCLNwiNkt",
        "outputId": "5cb902a7-a3e3-4a56-a9a7-8c953d7a5c7a"
      },
      "execution_count": null,
      "outputs": [
        {
          "output_type": "execute_result",
          "data": {
            "text/plain": [
              "<matplotlib.legend.Legend at 0x7f96636bb590>"
            ]
          },
          "metadata": {},
          "execution_count": 26
        },
        {
          "output_type": "display_data",
          "data": {
            "text/plain": [
              "<Figure size 432x288 with 1 Axes>"
            ],
            "image/png": "[encoded data removed]"
          },
          "metadata": {
            "needs_background": "light"
          }
        }
      ]
    },
    {
      "cell_type": "markdown",
      "source": [
        "distribuição das forças dos pokémons, para melhor visualização a elaboração de um gráfico"
      ],
      "metadata": {
        "id": "LPxGBp3FqaLP"
      }
    },
    {
      "cell_type": "markdown",
      "source": [
        "# Estatística Descritiva"
      ],
      "metadata": {
        "id": "nZ93arLFifeN"
      }
    },
    {
      "cell_type": "markdown",
      "source": [
        "Histrograma"
      ],
      "metadata": {
        "id": "PMcMZeqMl8SD"
      }
    },
    {
      "cell_type": "code",
      "source": [
        "import plotly.express as px\n",
        "\n",
        "fig = px.histogram(df, x='Total', marginal='rug',title='Distribuição das forças(Total) entre os pokémons')\n",
        "fig.show()"
      ],
      "metadata": {
        "colab": {
          "base_uri": "https://localhost:8080/",
          "height": 542
        },
        "id": "zXBaKWbjlAgL",
        "outputId": "07a16972-0e05-4f4d-a0f1-c9981888f051"
      },
      "execution_count": null,
      "outputs": [
        {
          "output_type": "display_data",
          "data": {
            "text/html": [
              "<html>\n",
              "<head><meta charset=\"utf-8\" /></head>\n",
              "<body>\n",
              "    <div>            <script src=\"https://cdnjs.cloudflare.com/ajax/libs/mathjax/2.7.5/MathJax.js?config=TeX-AMS-MML_SVG\"></script><script type=\"text/javascript\">if (window.MathJax) {MathJax.Hub.Config({SVG: {font: \"STIX-Web\"}});}</script>                <script type=\"text/javascript\">window.PlotlyConfig = {MathJaxConfig: 'local'};</script>\n",
              "        <script src=\"https://cdn.plot.ly/plotly-2.8.3.min.js\"></script>                <div id=\"6319730e-53dd-4966-baa3-e89571547102\" class=\"plotly-graph-div\" style=\"height:525px; width:100%;\"></div>            <script type=\"text/javascript\">                                    window.PLOTLYENV=window.PLOTLYENV || {};                                    if (document.getElementById(\"6319730e-53dd-4966-baa3-e89571547102\")) {                    Plotly.newPlot(                        \"6319730e-53dd-4966-baa3-e89571547102\",                        [{\"alignmentgroup\":\"True\",\"bingroup\":\"x\",\"hovertemplate\":\"Total=%{x}<br>count=%{y}<extra></extra>\",\"legendgroup\":\"\",\"marker\":{\"color\":\"#636efa\",\"pattern\":{\"shape\":\"\"}},\"name\":\"\",\"offsetgroup\":\"\",\"orientation\":\"v\",\"showlegend\":false,\"x\":[318,405,525,625,309,405,534,634,634,314,405,530,630,195,205,395,195,205,395,495,251,349,479,579,253,253,413,413,262,442,288,448,320,430,485,485,300,300,450,450,275,365,505,273,365,505,323,483,299,299,505,505,270,435,245,455,320,395,490,285,405,305,450,265,265,425,425,290,290,290,440,440,320,500,305,455,350,555,300,385,510,310,400,500,600,305,405,505,300,390,490,335,515,300,300,390,390,495,495,410,410,500,500,315,315,490,590,490,325,465,377,377,310,470,325,475,325,325,500,500,305,525,310,405,500,600,385,328,483,325,475,330,490,325,530,530,320,425,425,455,455,385,340,490,490,345,485,450,435,490,590,295,440,320,450,340,520,460,460,500,455,490,495,500,600,490,200,540,640,535,288,325,435,525,525,525,395,355,495,355,495,515,615,540,580,580,580,580,580,580,300,420,600,680,780,780,600,318,405,525,309,405,534,314,405,530,215,415,262,452,265,390,250,400,535,330,460,205,218,210,245,405,320,470,280,365,510,610,490,250,420,410,500,250,340,460,360,180,425,390,210,430,525,525,405,490,490,435,336,405,455,290,465,415,430,510,610,300,450,440,500,600,505,500,600,430,330,500,250,430,250,450,410,410,300,480,330,485,465,330,500,600,540,330,500,515,465,250,210,455,305,360,365,490,540,580,580,580,300,410,600,700,680,680,600,310,405,530,630,310,405,530,630,310,405,535,635,220,420,240,240,420,420,195,205,395,205,385,220,340,480,220,340,480,270,455,270,440,198,278,518,618,269,454,295,460,280,440,670,266,456,236,240,360,490,237,474,190,375,260,400,380,480,380,480,330,430,530,630,280,410,510,295,475,575,405,405,430,430,400,302,467,305,460,560,400,500,305,460,560,470,330,470,360,290,340,520,335,475,310,490,590,458,458,460,460,288,468,308,468,300,500,355,495,355,495,200,540,420,420,420,420,440,295,455,555,295,455,460,455,465,565,260,300,480,580,290,410,530,345,485,485,485,330,300,420,600,700,300,420,600,700,580,580,580,600,700,600,700,670,770,670,770,680,780,600,600,600,600,600,318,405,525,309,405,534,314,405,530,245,340,485,250,410,194,384,263,363,523,280,515,350,495,350,495,224,424,424,424,424,244,474,405,330,495,275,450,325,475,482,348,498,350,480,580,495,505,310,452,285,329,479,300,500,290,310,220,411,485,300,410,600,700,390,285,525,625,330,525,330,500,300,490,454,330,460,345,334,494,594,510,535,515,535,535,540,540,545,515,525,525,510,530,535,518,618,525,525,480,440,520,520,520,520,520,580,580,580,680,680,600,670,680,680,600,480,600,600,600,600,720,600,308,413,528,308,418,528,308,413,528,255,420,275,370,500,281,446,316,498,316,498,316,498,292,487,264,358,488,295,497,280,390,515,323,425,328,508,445,545,305,405,505,294,384,509,465,465,310,380,500,260,360,485,280,480,280,480,460,460,292,351,519,315,315,480,540,480,540,461,325,485,348,488,490,303,303,483,355,495,401,567,329,474,330,510,300,470,290,390,490,290,370,490,305,473,305,395,535,335,475,428,315,495,294,464,335,480,470,319,472,305,489,300,440,520,275,405,515,335,485,275,370,520,320,410,540,305,505,515,305,495,471,471,350,510,485,303,483,340,490,490,350,510,370,510,484,484,300,420,600,360,550,580,580,580,580,580,580,580,680,680,600,600,660,700,700,580,580,600,600,600,313,405,530,307,409,534,314,405,530,640,237,423,278,382,499,200,213,411,369,507,303,371,552,350,531,348,495,472,355,466,466,325,448,500,500,341,462,341,480,288,482,306,500,320,494,330,500,289,481,362,521,362,521,525,500,431,500,300,452,600,470,309,474,335,335,335,335,494,494,494,494,304,514,245,535,680,680,600,486,708,600,700,600,680,600,320,420,530,320,420,530,320,420,530,265,355,485,253,418,300,400,500,338,478,476,476,476,476,304,464,280,487,487,487,175,620,305,495,385,500,269,454,250,480,285,405,320,480,340,500,210,290,510,485,490,490,230,530,320,480,410,534,570,440,500,480,485,435,476,475,485,517,300,420,600,570,570,570,570,200,400,680,680,570,570,570,570,570,570,570,600,680,680,754,600,600,420,540,570,570,600,300,600,310,420,530,310,420,530,310,420,530,275,460,245,365,495,180,335,505,245,455,250,460,270,490,284,485,270,490,240,410,510,260,485,485,315,510,475,280,490,242,502,502,305,525,310,480,308,508,265,370,510,265,370,510,520,440,510,507,520,483,270,495,470,435,185,475,470,470,470,475,475,436,330,500,505,505,505,505,535,270,410,600,720,670,720,670,690,1125,385,550,550,600,580,580,580,580,500,680,680,430,510,440,510,330,490,330,510,350,555,510,452,600,480,528,534,530,514,680,680,580,580,525,460,530,530,505,550],\"xaxis\":\"x\",\"yaxis\":\"y\",\"type\":\"histogram\"},{\"alignmentgroup\":\"True\",\"boxpoints\":\"all\",\"fillcolor\":\"rgba(255,255,255,0)\",\"hoveron\":\"points\",\"hovertemplate\":\"Total=%{x}<extra></extra>\",\"jitter\":0,\"legendgroup\":\"\",\"line\":{\"color\":\"rgba(255,255,255,0)\"},\"marker\":{\"color\":\"#636efa\",\"symbol\":\"line-ns-open\"},\"name\":\"\",\"offsetgroup\":\"\",\"showlegend\":false,\"x\":[318,405,525,625,309,405,534,634,634,314,405,530,630,195,205,395,195,205,395,495,251,349,479,579,253,253,413,413,262,442,288,448,320,430,485,485,300,300,450,450,275,365,505,273,365,505,323,483,299,299,505,505,270,435,245,455,320,395,490,285,405,305,450,265,265,425,425,290,290,290,440,440,320,500,305,455,350,555,300,385,510,310,400,500,600,305,405,505,300,390,490,335,515,300,300,390,390,495,495,410,410,500,500,315,315,490,590,490,325,465,377,377,310,470,325,475,325,325,500,500,305,525,310,405,500,600,385,328,483,325,475,330,490,325,530,530,320,425,425,455,455,385,340,490,490,345,485,450,435,490,590,295,440,320,450,340,520,460,460,500,455,490,495,500,600,490,200,540,640,535,288,325,435,525,525,525,395,355,495,355,495,515,615,540,580,580,580,580,580,580,300,420,600,680,780,780,600,318,405,525,309,405,534,314,405,530,215,415,262,452,265,390,250,400,535,330,460,205,218,210,245,405,320,470,280,365,510,610,490,250,420,410,500,250,340,460,360,180,425,390,210,430,525,525,405,490,490,435,336,405,455,290,465,415,430,510,610,300,450,440,500,600,505,500,600,430,330,500,250,430,250,450,410,410,300,480,330,485,465,330,500,600,540,330,500,515,465,250,210,455,305,360,365,490,540,580,580,580,300,410,600,700,680,680,600,310,405,530,630,310,405,530,630,310,405,535,635,220,420,240,240,420,420,195,205,395,205,385,220,340,480,220,340,480,270,455,270,440,198,278,518,618,269,454,295,460,280,440,670,266,456,236,240,360,490,237,474,190,375,260,400,380,480,380,480,330,430,530,630,280,410,510,295,475,575,405,405,430,430,400,302,467,305,460,560,400,500,305,460,560,470,330,470,360,290,340,520,335,475,310,490,590,458,458,460,460,288,468,308,468,300,500,355,495,355,495,200,540,420,420,420,420,440,295,455,555,295,455,460,455,465,565,260,300,480,580,290,410,530,345,485,485,485,330,300,420,600,700,300,420,600,700,580,580,580,600,700,600,700,670,770,670,770,680,780,600,600,600,600,600,318,405,525,309,405,534,314,405,530,245,340,485,250,410,194,384,263,363,523,280,515,350,495,350,495,224,424,424,424,424,244,474,405,330,495,275,450,325,475,482,348,498,350,480,580,495,505,310,452,285,329,479,300,500,290,310,220,411,485,300,410,600,700,390,285,525,625,330,525,330,500,300,490,454,330,460,345,334,494,594,510,535,515,535,535,540,540,545,515,525,525,510,530,535,518,618,525,525,480,440,520,520,520,520,520,580,580,580,680,680,600,670,680,680,600,480,600,600,600,600,720,600,308,413,528,308,418,528,308,413,528,255,420,275,370,500,281,446,316,498,316,498,316,498,292,487,264,358,488,295,497,280,390,515,323,425,328,508,445,545,305,405,505,294,384,509,465,465,310,380,500,260,360,485,280,480,280,480,460,460,292,351,519,315,315,480,540,480,540,461,325,485,348,488,490,303,303,483,355,495,401,567,329,474,330,510,300,470,290,390,490,290,370,490,305,473,305,395,535,335,475,428,315,495,294,464,335,480,470,319,472,305,489,300,440,520,275,405,515,335,485,275,370,520,320,410,540,305,505,515,305,495,471,471,350,510,485,303,483,340,490,490,350,510,370,510,484,484,300,420,600,360,550,580,580,580,580,580,580,580,680,680,600,600,660,700,700,580,580,600,600,600,313,405,530,307,409,534,314,405,530,640,237,423,278,382,499,200,213,411,369,507,303,371,552,350,531,348,495,472,355,466,466,325,448,500,500,341,462,341,480,288,482,306,500,320,494,330,500,289,481,362,521,362,521,525,500,431,500,300,452,600,470,309,474,335,335,335,335,494,494,494,494,304,514,245,535,680,680,600,486,708,600,700,600,680,600,320,420,530,320,420,530,320,420,530,265,355,485,253,418,300,400,500,338,478,476,476,476,476,304,464,280,487,487,487,175,620,305,495,385,500,269,454,250,480,285,405,320,480,340,500,210,290,510,485,490,490,230,530,320,480,410,534,570,440,500,480,485,435,476,475,485,517,300,420,600,570,570,570,570,200,400,680,680,570,570,570,570,570,570,570,600,680,680,754,600,600,420,540,570,570,600,300,600,310,420,530,310,420,530,310,420,530,275,460,245,365,495,180,335,505,245,455,250,460,270,490,284,485,270,490,240,410,510,260,485,485,315,510,475,280,490,242,502,502,305,525,310,480,308,508,265,370,510,265,370,510,520,440,510,507,520,483,270,495,470,435,185,475,470,470,470,475,475,436,330,500,505,505,505,505,535,270,410,600,720,670,720,670,690,1125,385,550,550,600,580,580,580,580,500,680,680,430,510,440,510,330,490,330,510,350,555,510,452,600,480,528,534,530,514,680,680,580,580,525,460,530,530,505,550],\"xaxis\":\"x2\",\"yaxis\":\"y2\",\"type\":\"box\"}],                        {\"template\":{\"data\":{\"bar\":[{\"error_x\":{\"color\":\"#2a3f5f\"},\"error_y\":{\"color\":\"#2a3f5f\"},\"marker\":{\"line\":{\"color\":\"#E5ECF6\",\"width\":0.5},\"pattern\":{\"fillmode\":\"overlay\",\"size\":10,\"solidity\":0.2}},\"type\":\"bar\"}],\"barpolar\":[{\"marker\":{\"line\":{\"color\":\"#E5ECF6\",\"width\":0.5},\"pattern\":{\"fillmode\":\"overlay\",\"size\":10,\"solidity\":0.2}},\"type\":\"barpolar\"}],\"carpet\":[{\"aaxis\":{\"endlinecolor\":\"#2a3f5f\",\"gridcolor\":\"white\",\"linecolor\":\"white\",\"minorgridcolor\":\"white\",\"startlinecolor\":\"#2a3f5f\"},\"baxis\":{\"endlinecolor\":\"#2a3f5f\",\"gridcolor\":\"white\",\"linecolor\":\"white\",\"minorgridcolor\":\"white\",\"startlinecolor\":\"#2a3f5f\"},\"type\":\"carpet\"}],\"choropleth\":[{\"colorbar\":{\"outlinewidth\":0,\"ticks\":\"\"},\"type\":\"choropleth\"}],\"contour\":[{\"colorbar\":{\"outlinewidth\":0,\"ticks\":\"\"},\"colorscale\":[[0.0,\"#0d0887\"],[0.1111111111111111,\"#46039f\"],[0.2222222222222222,\"#7201a8\"],[0.3333333333333333,\"#9c179e\"],[0.4444444444444444,\"#bd3786\"],[0.5555555555555556,\"#d8576b\"],[0.6666666666666666,\"#ed7953\"],[0.7777777777777778,\"#fb9f3a\"],[0.8888888888888888,\"#fdca26\"],[1.0,\"#f0f921\"]],\"type\":\"contour\"}],\"contourcarpet\":[{\"colorbar\":{\"outlinewidth\":0,\"ticks\":\"\"},\"type\":\"contourcarpet\"}],\"heatmap\":[{\"colorbar\":{\"outlinewidth\":0,\"ticks\":\"\"},\"colorscale\":[[0.0,\"#0d0887\"],[0.1111111111111111,\"#46039f\"],[0.2222222222222222,\"#7201a8\"],[0.3333333333333333,\"#9c179e\"],[0.4444444444444444,\"#bd3786\"],[0.5555555555555556,\"#d8576b\"],[0.6666666666666666,\"#ed7953\"],[0.7777777777777778,\"#fb9f3a\"],[0.8888888888888888,\"#fdca26\"],[1.0,\"#f0f921\"]],\"type\":\"heatmap\"}],\"heatmapgl\":[{\"colorbar\":{\"outlinewidth\":0,\"ticks\":\"\"},\"colorscale\":[[0.0,\"#0d0887\"],[0.1111111111111111,\"#46039f\"],[0.2222222222222222,\"#7201a8\"],[0.3333333333333333,\"#9c179e\"],[0.4444444444444444,\"#bd3786\"],[0.5555555555555556,\"#d8576b\"],[0.6666666666666666,\"#ed7953\"],[0.7777777777777778,\"#fb9f3a\"],[0.8888888888888888,\"#fdca26\"],[1.0,\"#f0f921\"]],\"type\":\"heatmapgl\"}],\"histogram\":[{\"marker\":{\"pattern\":{\"fillmode\":\"overlay\",\"size\":10,\"solidity\":0.2}},\"type\":\"histogram\"}],\"histogram2d\":[{\"colorbar\":{\"outlinewidth\":0,\"ticks\":\"\"},\"colorscale\":[[0.0,\"#0d0887\"],[0.1111111111111111,\"#46039f\"],[0.2222222222222222,\"#7201a8\"],[0.3333333333333333,\"#9c179e\"],[0.4444444444444444,\"#bd3786\"],[0.5555555555555556,\"#d8576b\"],[0.6666666666666666,\"#ed7953\"],[0.7777777777777778,\"#fb9f3a\"],[0.8888888888888888,\"#fdca26\"],[1.0,\"#f0f921\"]],\"type\":\"histogram2d\"}],\"histogram2dcontour\":[{\"colorbar\":{\"outlinewidth\":0,\"ticks\":\"\"},\"colorscale\":[[0.0,\"#0d0887\"],[0.1111111111111111,\"#46039f\"],[0.2222222222222222,\"#7201a8\"],[0.3333333333333333,\"#9c179e\"],[0.4444444444444444,\"#bd3786\"],[0.5555555555555556,\"#d8576b\"],[0.6666666666666666,\"#ed7953\"],[0.7777777777777778,\"#fb9f3a\"],[0.8888888888888888,\"#fdca26\"],[1.0,\"#f0f921\"]],\"type\":\"histogram2dcontour\"}],\"mesh3d\":[{\"colorbar\":{\"outlinewidth\":0,\"ticks\":\"\"},\"type\":\"mesh3d\"}],\"parcoords\":[{\"line\":{\"colorbar\":{\"outlinewidth\":0,\"ticks\":\"\"}},\"type\":\"parcoords\"}],\"pie\":[{\"automargin\":true,\"type\":\"pie\"}],\"scatter\":[{\"marker\":{\"colorbar\":{\"outlinewidth\":0,\"ticks\":\"\"}},\"type\":\"scatter\"}],\"scatter3d\":[{\"line\":{\"colorbar\":{\"outlinewidth\":0,\"ticks\":\"\"}},\"marker\":{\"colorbar\":{\"outlinewidth\":0,\"ticks\":\"\"}},\"type\":\"scatter3d\"}],\"scattercarpet\":[{\"marker\":{\"colorbar\":{\"outlinewidth\":0,\"ticks\":\"\"}},\"type\":\"scattercarpet\"}],\"scattergeo\":[{\"marker\":{\"colorbar\":{\"outlinewidth\":0,\"ticks\":\"\"}},\"type\":\"scattergeo\"}],\"scattergl\":[{\"marker\":{\"colorbar\":{\"outlinewidth\":0,\"ticks\":\"\"}},\"type\":\"scattergl\"}],\"scattermapbox\":[{\"marker\":{\"colorbar\":{\"outlinewidth\":0,\"ticks\":\"\"}},\"type\":\"scattermapbox\"}],\"scatterpolar\":[{\"marker\":{\"colorbar\":{\"outlinewidth\":0,\"ticks\":\"\"}},\"type\":\"scatterpolar\"}],\"scatterpolargl\":[{\"marker\":{\"colorbar\":{\"outlinewidth\":0,\"ticks\":\"\"}},\"type\":\"scatterpolargl\"}],\"scatterternary\":[{\"marker\":{\"colorbar\":{\"outlinewidth\":0,\"ticks\":\"\"}},\"type\":\"scatterternary\"}],\"surface\":[{\"colorbar\":{\"outlinewidth\":0,\"ticks\":\"\"},\"colorscale\":[[0.0,\"#0d0887\"],[0.1111111111111111,\"#46039f\"],[0.2222222222222222,\"#7201a8\"],[0.3333333333333333,\"#9c179e\"],[0.4444444444444444,\"#bd3786\"],[0.5555555555555556,\"#d8576b\"],[0.6666666666666666,\"#ed7953\"],[0.7777777777777778,\"#fb9f3a\"],[0.8888888888888888,\"#fdca26\"],[1.0,\"#f0f921\"]],\"type\":\"surface\"}],\"table\":[{\"cells\":{\"fill\":{\"color\":\"#EBF0F8\"},\"line\":{\"color\":\"white\"}},\"header\":{\"fill\":{\"color\":\"#C8D4E3\"},\"line\":{\"color\":\"white\"}},\"type\":\"table\"}]},\"layout\":{\"annotationdefaults\":{\"arrowcolor\":\"#2a3f5f\",\"arrowhead\":0,\"arrowwidth\":1},\"autotypenumbers\":\"strict\",\"coloraxis\":{\"colorbar\":{\"outlinewidth\":0,\"ticks\":\"\"}},\"colorscale\":{\"diverging\":[[0,\"#8e0152\"],[0.1,\"#c51b7d\"],[0.2,\"#de77ae\"],[0.3,\"#f1b6da\"],[0.4,\"#fde0ef\"],[0.5,\"#f7f7f7\"],[0.6,\"#e6f5d0\"],[0.7,\"#b8e186\"],[0.8,\"#7fbc41\"],[0.9,\"#4d9221\"],[1,\"#276419\"]],\"sequential\":[[0.0,\"#0d0887\"],[0.1111111111111111,\"#46039f\"],[0.2222222222222222,\"#7201a8\"],[0.3333333333333333,\"#9c179e\"],[0.4444444444444444,\"#bd3786\"],[0.5555555555555556,\"#d8576b\"],[0.6666666666666666,\"#ed7953\"],[0.7777777777777778,\"#fb9f3a\"],[0.8888888888888888,\"#fdca26\"],[1.0,\"#f0f921\"]],\"sequentialminus\":[[0.0,\"#0d0887\"],[0.1111111111111111,\"#46039f\"],[0.2222222222222222,\"#7201a8\"],[0.3333333333333333,\"#9c179e\"],[0.4444444444444444,\"#bd3786\"],[0.5555555555555556,\"#d8576b\"],[0.6666666666666666,\"#ed7953\"],[0.7777777777777778,\"#fb9f3a\"],[0.8888888888888888,\"#fdca26\"],[1.0,\"#f0f921\"]]},\"colorway\":[\"#636efa\",\"#EF553B\",\"#00cc96\",\"#ab63fa\",\"#FFA15A\",\"#19d3f3\",\"#FF6692\",\"#B6E880\",\"#FF97FF\",\"#FECB52\"],\"font\":{\"color\":\"#2a3f5f\"},\"geo\":{\"bgcolor\":\"white\",\"lakecolor\":\"white\",\"landcolor\":\"#E5ECF6\",\"showlakes\":true,\"showland\":true,\"subunitcolor\":\"white\"},\"hoverlabel\":{\"align\":\"left\"},\"hovermode\":\"closest\",\"mapbox\":{\"style\":\"light\"},\"paper_bgcolor\":\"white\",\"plot_bgcolor\":\"#E5ECF6\",\"polar\":{\"angularaxis\":{\"gridcolor\":\"white\",\"linecolor\":\"white\",\"ticks\":\"\"},\"bgcolor\":\"#E5ECF6\",\"radialaxis\":{\"gridcolor\":\"white\",\"linecolor\":\"white\",\"ticks\":\"\"}},\"scene\":{\"xaxis\":{\"backgroundcolor\":\"#E5ECF6\",\"gridcolor\":\"white\",\"gridwidth\":2,\"linecolor\":\"white\",\"showbackground\":true,\"ticks\":\"\",\"zerolinecolor\":\"white\"},\"yaxis\":{\"backgroundcolor\":\"#E5ECF6\",\"gridcolor\":\"white\",\"gridwidth\":2,\"linecolor\":\"white\",\"showbackground\":true,\"ticks\":\"\",\"zerolinecolor\":\"white\"},\"zaxis\":{\"backgroundcolor\":\"#E5ECF6\",\"gridcolor\":\"white\",\"gridwidth\":2,\"linecolor\":\"white\",\"showbackground\":true,\"ticks\":\"\",\"zerolinecolor\":\"white\"}},\"shapedefaults\":{\"line\":{\"color\":\"#2a3f5f\"}},\"ternary\":{\"aaxis\":{\"gridcolor\":\"white\",\"linecolor\":\"white\",\"ticks\":\"\"},\"baxis\":{\"gridcolor\":\"white\",\"linecolor\":\"white\",\"ticks\":\"\"},\"bgcolor\":\"#E5ECF6\",\"caxis\":{\"gridcolor\":\"white\",\"linecolor\":\"white\",\"ticks\":\"\"}},\"title\":{\"x\":0.05},\"xaxis\":{\"automargin\":true,\"gridcolor\":\"white\",\"linecolor\":\"white\",\"ticks\":\"\",\"title\":{\"standoff\":15},\"zerolinecolor\":\"white\",\"zerolinewidth\":2},\"yaxis\":{\"automargin\":true,\"gridcolor\":\"white\",\"linecolor\":\"white\",\"ticks\":\"\",\"title\":{\"standoff\":15},\"zerolinecolor\":\"white\",\"zerolinewidth\":2}}},\"xaxis\":{\"anchor\":\"y\",\"domain\":[0.0,1.0],\"title\":{\"text\":\"Total\"}},\"yaxis\":{\"anchor\":\"x\",\"domain\":[0.0,0.8316],\"title\":{\"text\":\"count\"}},\"xaxis2\":{\"anchor\":\"y2\",\"domain\":[0.0,1.0],\"matches\":\"x\",\"showticklabels\":false,\"showgrid\":true},\"yaxis2\":{\"anchor\":\"x2\",\"domain\":[0.8416,1.0],\"matches\":\"y2\",\"showticklabels\":false,\"showline\":false,\"ticks\":\"\",\"showgrid\":false},\"legend\":{\"tracegroupgap\":0},\"title\":{\"text\":\"Distribui\\u00e7\\u00e3o das for\\u00e7as(Total) entre os pok\\u00e9mons\"},\"barmode\":\"relative\"},                        {\"responsive\": true}                    ).then(function(){\n",
              "                            \n",
              "var gd = document.getElementById('6319730e-53dd-4966-baa3-e89571547102');\n",
              "var x = new MutationObserver(function (mutations, observer) {{\n",
              "        var display = window.getComputedStyle(gd).display;\n",
              "        if (!display || display === 'none') {{\n",
              "            console.log([gd, 'removed!']);\n",
              "            Plotly.purge(gd);\n",
              "            observer.disconnect();\n",
              "        }}\n",
              "}});\n",
              "\n",
              "// Listen for the removal of the full notebook cells\n",
              "var notebookContainer = gd.closest('#notebook-container');\n",
              "if (notebookContainer) {{\n",
              "    x.observe(notebookContainer, {childList: true});\n",
              "}}\n",
              "\n",
              "// Listen for the clearing of the current output cell\n",
              "var outputEl = gd.closest('.output');\n",
              "if (outputEl) {{\n",
              "    x.observe(outputEl, {childList: true});\n",
              "}}\n",
              "\n",
              "                        })                };                            </script>        </div>\n",
              "</body>\n",
              "</html>"
            ]
          },
          "metadata": {}
        }
      ]
    },
    {
      "cell_type": "markdown",
      "source": [
        "Box Plot"
      ],
      "metadata": {
        "id": "oXFJedHWlhml"
      }
    },
    {
      "cell_type": "code",
      "source": [
        "fig2 = px.box(df, x=['Type1','Type2'], y='Total',title=\"Stats Total by type\")\n",
        "fig2.show()"
      ],
      "metadata": {
        "colab": {
          "base_uri": "https://localhost:8080/",
          "height": 542
        },
        "id": "b0c9-wTDlk3V",
        "outputId": "c00470f9-b5cb-4213-a057-48c982e2d2d8"
      },
      "execution_count": null,
      "outputs": [
        {
          "output_type": "display_data",
          "data": {
            "text/html": [
              "<html>\n",
              "<head><meta charset=\"utf-8\" /></head>\n",
              "<body>\n",
              "    <div>            <script src=\"https://cdnjs.cloudflare.com/ajax/libs/mathjax/2.7.5/MathJax.js?config=TeX-AMS-MML_SVG\"></script><script type=\"text/javascript\">if (window.MathJax) {MathJax.Hub.Config({SVG: {font: \"STIX-Web\"}});}</script>                <script type=\"text/javascript\">window.PlotlyConfig = {MathJaxConfig: 'local'};</script>\n",
              "        <script src=\"https://cdn.plot.ly/plotly-2.8.3.min.js\"></script>                <div id=\"a92a8c51-456e-42f8-b545-6591f91188cc\" class=\"plotly-graph-div\" style=\"height:525px; width:100%;\"></div>            <script type=\"text/javascript\">                                    window.PLOTLYENV=window.PLOTLYENV || {};                                    if (document.getElementById(\"a92a8c51-456e-42f8-b545-6591f91188cc\")) {                    Plotly.newPlot(                        \"a92a8c51-456e-42f8-b545-6591f91188cc\",                        [{\"alignmentgroup\":\"True\",\"hovertemplate\":\"value=%{x}<br>Total=%{y}<extra></extra>\",\"legendgroup\":\"\",\"marker\":{\"color\":\"#636efa\"},\"name\":\"\",\"notched\":false,\"offsetgroup\":\"\",\"orientation\":\"v\",\"showlegend\":false,\"x\":[\"Grass\",\"Grass\",\"Grass\",\"Grass\",\"Fire\",\"Fire\",\"Fire\",\"Fire\",\"Fire\",\"Water\",\"Water\",\"Water\",\"Water\",\"Bug\",\"Bug\",\"Bug\",\"Bug\",\"Bug\",\"Bug\",\"Bug\",\"Normal\",\"Normal\",\"Normal\",\"Normal\",\"Normal\",\"Dark\",\"Normal\",\"Dark\",\"Normal\",\"Normal\",\"Poison\",\"Poison\",\"Electric\",\"Electric\",\"Electric\",\"Electric\",\"Ground\",\"Ice\",\"Ground\",\"Ice\",\"Poison\",\"Poison\",\"Poison\",\"Poison\",\"Poison\",\"Poison\",\"Fairy\",\"Fairy\",\"Fire\",\"Ice\",\"Fire\",\"Ice\",\"Normal\",\"Normal\",\"Poison\",\"Poison\",\"Grass\",\"Grass\",\"Grass\",\"Bug\",\"Bug\",\"Bug\",\"Bug\",\"Ground\",\"Ground\",\"Ground\",\"Ground\",\"Normal\",\"Dark\",\"Steel\",\"Normal\",\"Dark\",\"Water\",\"Water\",\"Fighting\",\"Fighting\",\"Fire\",\"Fire\",\"Water\",\"Water\",\"Water\",\"Psychic\",\"Psychic\",\"Psychic\",\"Psychic\",\"Fighting\",\"Fighting\",\"Fighting\",\"Grass\",\"Grass\",\"Grass\",\"Water\",\"Water\",\"Rock\",\"Rock\",\"Rock\",\"Rock\",\"Rock\",\"Rock\",\"Fire\",\"Psychic\",\"Fire\",\"Psychic\",\"Water\",\"Psychic\",\"Water\",\"Water\",\"Poison\",\"Electric\",\"Electric\",\"Normal\",\"Fighting\",\"Normal\",\"Normal\",\"Water\",\"Water\",\"Poison\",\"Poison\",\"Poison\",\"Poison\",\"Water\",\"Water\",\"Ghost\",\"Ghost\",\"Ghost\",\"Ghost\",\"Rock\",\"Psychic\",\"Psychic\",\"Water\",\"Water\",\"Electric\",\"Electric\",\"Grass\",\"Grass\",\"Grass\",\"Ground\",\"Ground\",\"Fire\",\"Fighting\",\"Fighting\",\"Normal\",\"Poison\",\"Poison\",\"Poison\",\"Ground\",\"Ground\",\"Normal\",\"Grass\",\"Normal\",\"Normal\",\"Water\",\"Water\",\"Water\",\"Water\",\"Water\",\"Water\",\"Psychic\",\"Ice\",\"Bug\",\"Ice\",\"Electric\",\"Fire\",\"Bug\",\"Bug\",\"Normal\",\"Water\",\"Water\",\"Water\",\"Water\",\"Normal\",\"Normal\",\"Normal\",\"Water\",\"Electric\",\"Fire\",\"Normal\",\"Rock\",\"Rock\",\"Rock\",\"Rock\",\"Rock\",\"Rock\",\"Normal\",\"Ice\",\"Psychic\",\"Electric\",\"Fighting\",\"Fire\",\"Dark\",\"Dragon\",\"Dragon\",\"Dragon\",\"Psychic\",\"Psychic\",\"Psychic\",\"Psychic\",\"Grass\",\"Grass\",\"Grass\",\"Fire\",\"Fire\",\"Fire\",\"Water\",\"Water\",\"Water\",\"Normal\",\"Normal\",\"Normal\",\"Normal\",\"Bug\",\"Bug\",\"Bug\",\"Bug\",\"Poison\",\"Water\",\"Water\",\"Electric\",\"Fairy\",\"Normal\",\"Fairy\",\"Fairy\",\"Psychic\",\"Psychic\",\"Electric\",\"Electric\",\"Electric\",\"Electric\",\"Grass\",\"Water\",\"Water\",\"Rock\",\"Water\",\"Grass\",\"Grass\",\"Grass\",\"Normal\",\"Grass\",\"Grass\",\"Bug\",\"Water\",\"Water\",\"Psychic\",\"Dark\",\"Dark\",\"Water\",\"Poison\",\"Ghost\",\"Psychic\",\"Psychic\",\"Normal\",\"Bug\",\"Bug\",\"Normal\",\"Ground\",\"Steel\",\"Steel\",\"Fairy\",\"Fairy\",\"Water\",\"Bug\",\"Bug\",\"Bug\",\"Bug\",\"Bug\",\"Dark\",\"Normal\",\"Normal\",\"Fire\",\"Fire\",\"Ice\",\"Ice\",\"Water\",\"Ghost\",\"Water\",\"Water\",\"Ice\",\"Water\",\"Steel\",\"Dark\",\"Dark\",\"Dark\",\"Water\",\"Ground\",\"Ground\",\"Normal\",\"Normal\",\"Normal\",\"Fighting\",\"Fighting\",\"Ice\",\"Electric\",\"Fire\",\"Normal\",\"Normal\",\"Electric\",\"Fire\",\"Water\",\"Rock\",\"Rock\",\"Rock\",\"Rock\",\"Psychic\",\"Fire\",\"Psychic\",\"Grass\",\"Grass\",\"Grass\",\"Grass\",\"Fire\",\"Fire\",\"Fire\",\"Fire\",\"Water\",\"Water\",\"Water\",\"Water\",\"Dark\",\"Dark\",\"Normal\",\"Dark\",\"Normal\",\"Dark\",\"Bug\",\"Bug\",\"Bug\",\"Bug\",\"Bug\",\"Water\",\"Water\",\"Water\",\"Grass\",\"Grass\",\"Grass\",\"Normal\",\"Normal\",\"Water\",\"Water\",\"Psychic\",\"Psychic\",\"Psychic\",\"Psychic\",\"Bug\",\"Bug\",\"Grass\",\"Grass\",\"Normal\",\"Normal\",\"Normal\",\"Bug\",\"Bug\",\"Bug\",\"Normal\",\"Normal\",\"Normal\",\"Fighting\",\"Fighting\",\"Normal\",\"Rock\",\"Normal\",\"Normal\",\"Dark\",\"Dark\",\"Steel\",\"Steel\",\"Steel\",\"Steel\",\"Steel\",\"Steel\",\"Fighting\",\"Fighting\",\"Fighting\",\"Electric\",\"Electric\",\"Electric\",\"Electric\",\"Electric\",\"Bug\",\"Bug\",\"Grass\",\"Poison\",\"Poison\",\"Water\",\"Water\",\"Water\",\"Water\",\"Water\",\"Fire\",\"Fire\",\"Fire\",\"Fire\",\"Psychic\",\"Psychic\",\"Normal\",\"Ground\",\"Ground\",\"Ground\",\"Grass\",\"Grass\",\"Normal\",\"Dragon\",\"Dragon\",\"Normal\",\"Poison\",\"Rock\",\"Rock\",\"Water\",\"Water\",\"Water\",\"Water\",\"Ground\",\"Ground\",\"Rock\",\"Rock\",\"Rock\",\"Rock\",\"Water\",\"Water\",\"Normal\",\"Fire\",\"Water\",\"Ice\",\"Normal\",\"Ghost\",\"Ghost\",\"Ghost\",\"Ghost\",\"Ghost\",\"Grass\",\"Psychic\",\"Dark\",\"Dark\",\"Psychic\",\"Ice\",\"Ice\",\"Ice\",\"Ice\",\"Ice\",\"Ice\",\"Water\",\"Water\",\"Water\",\"Water\",\"Water\",\"Dragon\",\"Dragon\",\"Dragon\",\"Dragon\",\"Steel\",\"Steel\",\"Steel\",\"Steel\",\"Rock\",\"Ice\",\"Steel\",\"Dragon\",\"Dragon\",\"Dragon\",\"Dragon\",\"Water\",\"Water\",\"Ground\",\"Ground\",\"Dragon\",\"Dragon\",\"Steel\",\"Psychic\",\"Psychic\",\"Psychic\",\"Psychic\",\"Grass\",\"Grass\",\"Grass\",\"Fire\",\"Fire\",\"Fire\",\"Water\",\"Water\",\"Water\",\"Normal\",\"Normal\",\"Normal\",\"Normal\",\"Normal\",\"Bug\",\"Bug\",\"Electric\",\"Electric\",\"Electric\",\"Grass\",\"Grass\",\"Rock\",\"Rock\",\"Rock\",\"Rock\",\"Bug\",\"Bug\",\"Bug\",\"Bug\",\"Bug\",\"Bug\",\"Bug\",\"Electric\",\"Water\",\"Water\",\"Grass\",\"Grass\",\"Water\",\"Water\",\"Normal\",\"Ghost\",\"Ghost\",\"Normal\",\"Normal\",\"Normal\",\"Ghost\",\"Dark\",\"Normal\",\"Normal\",\"Psychic\",\"Poison\",\"Poison\",\"Steel\",\"Steel\",\"Rock\",\"Psychic\",\"Normal\",\"Normal\",\"Ghost\",\"Dragon\",\"Dragon\",\"Dragon\",\"Dragon\",\"Normal\",\"Fighting\",\"Fighting\",\"Fighting\",\"Ground\",\"Ground\",\"Poison\",\"Poison\",\"Poison\",\"Poison\",\"Grass\",\"Water\",\"Water\",\"Water\",\"Grass\",\"Grass\",\"Grass\",\"Dark\",\"Electric\",\"Normal\",\"Ground\",\"Grass\",\"Electric\",\"Fire\",\"Fairy\",\"Bug\",\"Grass\",\"Ice\",\"Ground\",\"Ice\",\"Normal\",\"Psychic\",\"Psychic\",\"Rock\",\"Ghost\",\"Ice\",\"Electric\",\"Electric\",\"Electric\",\"Electric\",\"Electric\",\"Electric\",\"Psychic\",\"Psychic\",\"Psychic\",\"Steel\",\"Water\",\"Fire\",\"Normal\",\"Ghost\",\"Ghost\",\"Psychic\",\"Water\",\"Water\",\"Dark\",\"Grass\",\"Grass\",\"Normal\",\"Psychic\",\"Grass\",\"Grass\",\"Grass\",\"Fire\",\"Fire\",\"Fire\",\"Water\",\"Water\",\"Water\",\"Normal\",\"Normal\",\"Normal\",\"Normal\",\"Normal\",\"Dark\",\"Dark\",\"Grass\",\"Grass\",\"Fire\",\"Fire\",\"Water\",\"Water\",\"Psychic\",\"Psychic\",\"Normal\",\"Normal\",\"Normal\",\"Electric\",\"Electric\",\"Rock\",\"Rock\",\"Rock\",\"Psychic\",\"Psychic\",\"Ground\",\"Ground\",\"Normal\",\"Normal\",\"Fighting\",\"Fighting\",\"Fighting\",\"Water\",\"Water\",\"Water\",\"Fighting\",\"Fighting\",\"Bug\",\"Bug\",\"Bug\",\"Bug\",\"Bug\",\"Bug\",\"Grass\",\"Grass\",\"Grass\",\"Grass\",\"Water\",\"Water\",\"Ground\",\"Ground\",\"Ground\",\"Fire\",\"Ice\",\"Fire\",\"Fire\",\"Ice\",\"Ice\",\"Grass\",\"Bug\",\"Bug\",\"Dark\",\"Dark\",\"Psychic\",\"Ghost\",\"Ground\",\"Ghost\",\"Water\",\"Water\",\"Rock\",\"Rock\",\"Poison\",\"Poison\",\"Dark\",\"Dark\",\"Normal\",\"Normal\",\"Psychic\",\"Psychic\",\"Psychic\",\"Psychic\",\"Psychic\",\"Psychic\",\"Water\",\"Water\",\"Ice\",\"Ice\",\"Ice\",\"Normal\",\"Normal\",\"Electric\",\"Bug\",\"Bug\",\"Grass\",\"Grass\",\"Water\",\"Water\",\"Water\",\"Bug\",\"Bug\",\"Grass\",\"Grass\",\"Steel\",\"Steel\",\"Steel\",\"Electric\",\"Electric\",\"Electric\",\"Psychic\",\"Psychic\",\"Ghost\",\"Ghost\",\"Ghost\",\"Dragon\",\"Dragon\",\"Dragon\",\"Ice\",\"Ice\",\"Ice\",\"Bug\",\"Bug\",\"Ground\",\"Ground\",\"Fighting\",\"Fighting\",\"Dragon\",\"Ground\",\"Ground\",\"Dark\",\"Dark\",\"Normal\",\"Normal\",\"Normal\",\"Dark\",\"Dark\",\"Fire\",\"Bug\",\"Dark\",\"Dark\",\"Dark\",\"Bug\",\"Bug\",\"Steel\",\"Rock\",\"Grass\",\"Flying\",\"Flying\",\"Electric\",\"Electric\",\"Dragon\",\"Dragon\",\"Ground\",\"Ground\",\"Dragon\",\"Dragon\",\"Dragon\",\"Water\",\"Water\",\"Normal\",\"Normal\",\"Bug\",\"Grass\",\"Grass\",\"Grass\",\"Fire\",\"Fire\",\"Fire\",\"Water\",\"Water\",\"Water\",\"Water\",\"Normal\",\"Normal\",\"Normal\",\"Fire\",\"Fire\",\"Bug\",\"Bug\",\"Bug\",\"Fire\",\"Fire\",\"Fairy\",\"Fairy\",\"Fairy\",\"Grass\",\"Grass\",\"Fighting\",\"Fighting\",\"Normal\",\"Psychic\",\"Psychic\",\"Psychic\",\"Steel\",\"Steel\",\"Steel\",\"Steel\",\"Fairy\",\"Fairy\",\"Fairy\",\"Fairy\",\"Dark\",\"Dark\",\"Rock\",\"Rock\",\"Poison\",\"Poison\",\"Water\",\"Water\",\"Electric\",\"Electric\",\"Rock\",\"Rock\",\"Rock\",\"Rock\",\"Fairy\",\"Fighting\",\"Electric\",\"Rock\",\"Dragon\",\"Dragon\",\"Dragon\",\"Steel\",\"Ghost\",\"Ghost\",\"Ghost\",\"Ghost\",\"Ghost\",\"Ghost\",\"Ghost\",\"Ghost\",\"Ghost\",\"Ghost\",\"Ice\",\"Ice\",\"Flying\",\"Flying\",\"Fairy\",\"Dark\",\"Dragon\",\"Dragon\",\"Dragon\",\"Rock\",\"Rock\",\"Psychic\",\"Psychic\",\"Fire\",\"Grass\",\"Grass\",\"Grass\",\"Fire\",\"Fire\",\"Fire\",\"Water\",\"Water\",\"Water\",\"Normal\",\"Normal\",\"Normal\",\"Normal\",\"Normal\",\"Bug\",\"Bug\",\"Bug\",\"Fighting\",\"Fighting\",\"Fire\",\"Electric\",\"Psychic\",\"Ghost\",\"Bug\",\"Bug\",\"Rock\",\"Rock\",\"Rock\",\"Rock\",\"Water\",\"Water\",\"Poison\",\"Poison\",\"Ground\",\"Ground\",\"Water\",\"Water\",\"Grass\",\"Grass\",\"Grass\",\"Grass\",\"Poison\",\"Poison\",\"Normal\",\"Normal\",\"Grass\",\"Grass\",\"Grass\",\"Fairy\",\"Normal\",\"Fighting\",\"Bug\",\"Bug\",\"Ghost\",\"Ghost\",\"Water\",\"Normal\",\"Normal\",\"Rock\",\"Rock\",\"Normal\",\"Fire\",\"Electric\",\"Ghost\",\"Water\",\"Normal\",\"Ghost\",\"Dragon\",\"Dragon\",\"Dragon\",\"Electric\",\"Psychic\",\"Grass\",\"Water\",\"Psychic\",\"Psychic\",\"Psychic\",\"Psychic\",\"Rock\",\"Bug\",\"Bug\",\"Electric\",\"Steel\",\"Grass\",\"Dark\",\"Psychic\",\"Psychic\",\"Psychic\",\"Psychic\",\"Steel\",\"Fighting\",\"Poison\",\"Poison\",\"Rock\",\"Fire\",\"Electric\",\"Steel\",\"Steel\",\"Grass\",\"Grass\",\"Grass\",\"Fire\",\"Fire\",\"Fire\",\"Water\",\"Water\",\"Water\",\"Normal\",\"Normal\",\"Flying\",\"Flying\",\"Flying\",\"Bug\",\"Bug\",\"Bug\",\"Dark\",\"Dark\",\"Grass\",\"Grass\",\"Normal\",\"Normal\",\"Water\",\"Water\",\"Electric\",\"Electric\",\"Rock\",\"Rock\",\"Rock\",\"Grass\",\"Grass\",\"Grass\",\"Ground\",\"Ground\",\"Flying\",\"Water\",\"Water\",\"Electric\",\"Electric\",\"Electric\",\"Fire\",\"Fire\",\"Fighting\",\"Fighting\",\"Ghost\",\"Ghost\",\"Psychic\",\"Psychic\",\"Psychic\",\"Dark\",\"Dark\",\"Dark\",\"Dark\",\"Steel\",\"Ghost\",\"Fighting\",\"Ice\",\"Ground\",\"Fairy\",\"Fairy\",\"Fighting\",\"Electric\",\"Ice\",\"Ice\",\"Rock\",\"Ice\",\"Ice\",\"Psychic\",\"Psychic\",\"Electric\",\"Steel\",\"Steel\",\"Electric\",\"Electric\",\"Water\",\"Water\",\"Steel\",\"Dragon\",\"Dragon\",\"Dragon\",\"Fairy\",\"Fairy\",\"Fighting\",\"Fighting\",\"Poison\",\"Poison\",\"Fighting\",\"Fighting\",\"Fighting\",\"Dark\",\"Electric\",\"Dragon\",\"Ice\",\"Ghost\",\"Psychic\",\"Psychic\",\"Psychic\",\"Poison\",\"Poison\",\"Dark\",\"Dark\",\"Electric\",\"Electric\",\"Normal\",\"Normal\",\"Fire\",\"Fire\",\"Psychic\",\"Dragon\",\"Dragon\",\"Grass\",\"Water\",\"Fire\",\"Grass\",\"Ice\",\"Steel\",\"Water\",\"Fairy\",\"Fairy\",\"Normal\",\"Water\",\"Water\",\"Water\",\"Bug\",\"Normal\",\"Poison\",\"Poison\",\"Poison\",\"Poison\",null,null,\"Flying\",\"Dragon\",\"Flying\",null,null,null,null,null,null,\"Flying\",\"Poison\",\"Poison\",\"Poison\",\"Poison\",\"Flying\",\"Flying\",\"Flying\",\"Flying\",null,\"Normal\",null,\"Normal\",\"Flying\",\"Flying\",null,null,null,null,null,\"Psychic\",null,\"Steel\",null,\"Steel\",null,null,\"Ground\",null,null,\"Ground\",null,null,null,null,null,\"Fairy\",\"Fairy\",\"Fairy\",\"Flying\",\"Flying\",\"Poison\",\"Poison\",\"Poison\",\"Grass\",\"Grass\",\"Poison\",\"Poison\",null,\"Steel\",null,\"Steel\",null,null,null,null,null,null,null,null,null,null,null,null,null,\"Fighting\",null,null,null,null,null,null,null,\"Poison\",\"Poison\",\"Poison\",\"Poison\",\"Poison\",\"Ground\",\"Electric\",\"Ground\",\"Electric\",\"Ground\",\"Electric\",null,null,null,\"Fairy\",\"Psychic\",null,\"Psychic\",\"Psychic\",\"Psychic\",\"Steel\",\"Steel\",\"Flying\",null,\"Flying\",\"Flying\",null,\"Ice\",null,\"Dark\",null,\"Dark\",null,\"Ice\",\"Poison\",\"Poison\",\"Poison\",\"Poison\",\"Ground\",null,null,null,null,null,null,\"Psychic\",\"Psychic\",\"Dragon\",null,null,\"Ghost\",null,null,null,null,null,\"Fairy\",\"Rock\",\"Rock\",null,null,null,null,null,null,null,null,null,\"Psychic\",\"Fairy\",\"Psychic\",\"Flying\",\"Psychic\",null,null,null,\"Flying\",null,null,\"Flying\",\"Dark\",\"Ice\",null,null,null,null,null,null,null,\"Water\",\"Water\",\"Water\",\"Water\",\"Flying\",\"Flying\",null,\"Flying\",\"Flying\",\"Flying\",\"Flying\",\"Flying\",\"Flying\",null,null,\"Flying\",null,\"Fighting\",null,null,null,null,null,null,null,null,null,null,null,null,null,\"Flying\",\"Flying\",\"Flying\",\"Flying\",\"Poison\",\"Poison\",\"Flying\",\"Electric\",\"Electric\",null,null,\"Fairy\",null,\"Flying\",\"Flying\",\"Flying\",null,null,null,\"Dragon\",null,\"Fairy\",\"Fairy\",null,null,\"Flying\",\"Flying\",\"Flying\",null,null,null,\"Flying\",\"Ground\",\"Ground\",null,null,\"Flying\",\"Psychic\",\"Psychic\",null,null,null,\"Psychic\",null,\"Steel\",null,\"Flying\",\"Ground\",\"Ground\",null,null,\"Poison\",\"Steel\",\"Steel\",\"Rock\",\"Fighting\",\"Fighting\",\"Ice\",null,null,null,\"Rock\",\"Ground\",\"Ground\",\"Rock\",null,null,null,\"Flying\",\"Flying\",\"Flying\",\"Fire\",\"Fire\",\"Fire\",\"Dragon\",null,null,null,null,null,null,null,\"Psychic\",null,null,null,null,null,null,null,\"Ground\",\"Ground\",\"Dark\",\"Dark\",\"Flying\",\"Flying\",\"Grass\",null,null,null,\"Dragon\",null,\"Fighting\",\"Fighting\",\"Fighting\",null,\"Ground\",\"Ground\",\"Ground\",null,null,null,\"Normal\",null,\"Normal\",null,null,\"Flying\",null,\"Poison\",\"Grass\",\"Grass\",\"Grass\",null,\"Dark\",\"Dark\",\"Flying\",\"Flying\",\"Flying\",\"Flying\",\"Fairy\",\"Fairy\",\"Fairy\",\"Fairy\",\"Water\",\"Flying\",null,\"Fighting\",null,null,null,\"Ground\",\"Flying\",\"Ghost\",null,null,null,null,null,\"Fairy\",null,null,null,\"Ghost\",\"Ghost\",\"Fairy\",\"Fairy\",\"Rock\",\"Rock\",\"Rock\",null,\"Psychic\",\"Psychic\",\"Psychic\",null,null,null,null,null,null,null,\"Poison\",null,null,\"Dark\",\"Dark\",\"Dark\",null,null,\"Ground\",\"Ground\",\"Ground\",null,null,null,null,null,\"Dragon\",\"Dragon\",null,\"Dark\",\"Flying\",\"Flying\",\"Fairy\",null,null,\"Psychic\",\"Psychic\",\"Ground\",\"Ground\",null,\"Dark\",\"Psychic\",\"Psychic\",\"Grass\",\"Grass\",\"Bug\",\"Bug\",null,null,null,null,null,null,null,null,null,null,null,null,\"Flying\",null,null,null,null,null,null,null,\"Water\",\"Water\",\"Water\",null,null,null,\"Rock\",null,null,null,\"Flying\",\"Flying\",\"Psychic\",\"Psychic\",\"Psychic\",\"Psychic\",null,null,null,\"Psychic\",\"Psychic\",\"Psychic\",\"Psychic\",null,null,null,\"Fire\",\"Flying\",\"Flying\",\"Psychic\",null,null,null,null,null,null,\"Ground\",null,\"Fighting\",\"Fighting\",null,null,\"Steel\",\"Flying\",\"Flying\",\"Flying\",null,\"Water\",null,null,null,null,null,\"Poison\",\"Poison\",null,null,\"Steel\",\"Steel\",null,\"Grass\",\"Ground\",\"Steel\",\"Flying\",\"Flying\",\"Flying\",null,null,null,null,null,null,\"Ground\",null,\"Flying\",\"Flying\",null,null,\"Fighting\",null,\"Flying\",null,null,null,\"Dark\",\"Dark\",\"Psychic\",\"Psychic\",null,\"Fairy\",null,\"Flying\",\"Dark\",\"Ground\",\"Ground\",\"Ground\",\"Ground\",null,null,\"Steel\",\"Steel\",null,null,\"Bug\",\"Dark\",\"Fighting\",\"Fighting\",null,null,null,\"Flying\",\"Ice\",\"Ice\",\"Ice\",\"Ice\",\"Steel\",null,\"Rock\",null,null,null,\"Flying\",\"Flying\",null,null,\"Flying\",\"Ground\",null,\"Fighting\",\"Fighting\",\"Steel\",null,\"Ghost\",\"Ghost\",\"Fire\",\"Water\",\"Ice\",\"Flying\",\"Grass\",null,null,null,\"Dragon\",\"Dragon\",\"Steel\",null,\"Dragon\",\"Dragon\",null,null,null,null,null,\"Flying\",null,\"Fire\",null,null,null,null,\"Fighting\",\"Fighting\",null,null,null,null,null,null,null,null,null,null,null,null,null,null,null,null,null,null,\"Flying\",\"Flying\",\"Flying\",null,null,null,null,null,\"Flying\",\"Flying\",null,\"Steel\",null,\"Fairy\",null,null,null,null,\"Ground\",\"Ground\",null,null,\"Grass\",\"Grass\",\"Grass\",\"Poison\",\"Poison\",\"Poison\",\"Fairy\",\"Fairy\",null,null,null,null,\"Dark\",\"Dark\",\"Dark\",null,null,null,\"Psychic\",null,\"Fire\",null,\"Rock\",\"Rock\",\"Fighting\",\"Fighting\",\"Flying\",null,\"Ghost\",null,\"Rock\",\"Rock\",\"Flying\",\"Flying\",null,null,null,null,null,null,null,null,null,null,null,null,\"Flying\",\"Flying\",null,null,null,\"Grass\",\"Grass\",\"Flying\",null,\"Steel\",\"Poison\",\"Poison\",\"Ghost\",\"Ghost\",null,\"Electric\",\"Electric\",\"Steel\",\"Steel\",null,null,null,null,null,null,null,null,\"Fire\",\"Fire\",\"Fire\",null,null,null,null,null,null,null,null,\"Electric\",\"Steel\",null,null,null,\"Ghost\",\"Ghost\",\"Steel\",\"Steel\",null,\"Flying\",\"Flying\",\"Flying\",\"Flying\",null,\"Steel\",\"Dragon\",\"Dragon\",\"Dragon\",\"Fire\",\"Fire\",\"Fighting\",\"Fighting\",\"Fighting\",null,null,\"Flying\",\"Flying\",\"Fire\",\"Electric\",\"Flying\",\"Flying\",\"Ice\",\"Ice\",\"Ice\",\"Fighting\",\"Fighting\",\"Psychic\",\"Fighting\",\"Steel\",null,null,\"Fighting\",null,null,\"Psychic\",null,null,\"Dark\",\"Dark\",null,\"Ground\",\"Flying\",\"Flying\",\"Flying\",null,null,\"Flying\",\"Normal\",\"Normal\",null,null,null,null,null,null,\"Dark\",null,null,null,null,\"Ghost\",\"Ghost\",\"Ghost\",\"Ghost\",null,null,null,null,\"Psychic\",\"Psychic\",\"Water\",\"Water\",\"Water\",\"Dragon\",null,null,\"Normal\",\"Normal\",\"Dragon\",\"Dragon\",\"Ice\",\"Ice\",null,\"Flying\",\"Fairy\",\"Fairy\",null,null,null,\"Fairy\",\"Grass\",\"Grass\",\"Grass\",\"Grass\",\"Grass\",\"Grass\",\"Grass\",\"Grass\",\"Grass\",\"Grass\",null,null,\"Dragon\",\"Dragon\",null,\"Flying\",\"Ground\",\"Ground\",\"Ground\",\"Fairy\",\"Fairy\",\"Ghost\",\"Dark\",\"Water\",\"Flying\",\"Flying\",\"Ghost\",null,null,\"Dark\",null,null,\"Fairy\",\"Flying\",\"Flying\",\"Flying\",null,null,null,\"Electric\",\"Electric\",null,\"Ice\",\"Flying\",\"Flying\",\"Flying\",\"Flying\",\"Fairy\",\"Fairy\",null,null,null,null,null,null,\"Water\",\"Water\",null,null,\"Bug\",\"Bug\",null,null,\"Fairy\",\"Fairy\",\"Fire\",\"Fire\",\"Fighting\",\"Fighting\",null,null,null,null,\"Psychic\",null,\"Water\",\"Water\",\"Ground\",\"Ground\",null,null,null,\"Flying\",\"Flying\",null,\"Dragon\",\"Steel\",\"Fairy\",\"Psychic\",\"Dragon\",\"Grass\",null,\"Fighting\",\"Fighting\",\"Fairy\",\"Fairy\",\"Fairy\",\"Fairy\",null,null,\"Steel\",\"Ghost\",\"Poison\",\"Fighting\",\"Fighting\",null,\"Flying\",\"Steel\",\"Dragon\",null,\"Steel\",\"Ghost\",\"Dragon\",\"Fairy\",\"Ghost\",null,\"Dragon\",\"Steel\",\"Ghost\",null,null,null,null,null,null,null,null,null,null,null,null,null,null,null,null,\"Steel\",null,\"Psychic\",\"Psychic\",null,null,null,null,null,null,null,\"Rock\",null,null,null,\"Fire\",\"Fire\",\"Dragon\",\"Dragon\",\"Dragon\",null,null,\"Water\",null,null,\"Poison\",\"Poison\",\"Poison\",\"Bug\",\"Bug\",null,null,null,null,null,null,\"Fairy\",\"Fairy\",\"Fairy\",\"Fairy\",\"Normal\",null,null,null,\"Psychic\",\"Ghost\",null,null,null,null,\"Bug\",\"Bug\",null,null,null,\"Normal\",\"Normal\",\"Dark\",null,null,\"Dragon\",\"Ice\",\"Dragon\",\"Ice\",\"Dragon\",\"Ghost\",\"Ghost\",\"Ghost\",\"Steel\",null,\"Steel\",null,\"Dragon\",\"Dragon\",null,\"Dark\",\"Water\",\"Grass\",null,null,null,null,\"Grass\",\"Ice\",\"Ghost\",\"Fighting\",\"Fighting\",\"Poison\",\"Poison\",\"Grass\",\"Grass\",\"Ghost\",\"Ghost\",\"Rock\",\"Rock\",\"Flying\",\"Steel\",\"Steel\",\"Fighting\",\"Dark\",\"Ghost\",\"Fighting\",\"Rock\",\"Dragon\",\"Dragon\",\"Flying\",\"Flying\",\"Psychic\",null,\"Ghost\",\"Ghost\",\"Rock\",\"Ground\"],\"x0\":\" \",\"xaxis\":\"x\",\"y\":[318,405,525,625,309,405,534,634,634,314,405,530,630,195,205,395,195,205,395,495,251,349,479,579,253,253,413,413,262,442,288,448,320,430,485,485,300,300,450,450,275,365,505,273,365,505,323,483,299,299,505,505,270,435,245,455,320,395,490,285,405,305,450,265,265,425,425,290,290,290,440,440,320,500,305,455,350,555,300,385,510,310,400,500,600,305,405,505,300,390,490,335,515,300,300,390,390,495,495,410,410,500,500,315,315,490,590,490,325,465,377,377,310,470,325,475,325,325,500,500,305,525,310,405,500,600,385,328,483,325,475,330,490,325,530,530,320,425,425,455,455,385,340,490,490,345,485,450,435,490,590,295,440,320,450,340,520,460,460,500,455,490,495,500,600,490,200,540,640,535,288,325,435,525,525,525,395,355,495,355,495,515,615,540,580,580,580,580,580,580,300,420,600,680,780,780,600,318,405,525,309,405,534,314,405,530,215,415,262,452,265,390,250,400,535,330,460,205,218,210,245,405,320,470,280,365,510,610,490,250,420,410,500,250,340,460,360,180,425,390,210,430,525,525,405,490,490,435,336,405,455,290,465,415,430,510,610,300,450,440,500,600,505,500,600,430,330,500,250,430,250,450,410,410,300,480,330,485,465,330,500,600,540,330,500,515,465,250,210,455,305,360,365,490,540,580,580,580,300,410,600,700,680,680,600,310,405,530,630,310,405,530,630,310,405,535,635,220,420,240,240,420,420,195,205,395,205,385,220,340,480,220,340,480,270,455,270,440,198,278,518,618,269,454,295,460,280,440,670,266,456,236,240,360,490,237,474,190,375,260,400,380,480,380,480,330,430,530,630,280,410,510,295,475,575,405,405,430,430,400,302,467,305,460,560,400,500,305,460,560,470,330,470,360,290,340,520,335,475,310,490,590,458,458,460,460,288,468,308,468,300,500,355,495,355,495,200,540,420,420,420,420,440,295,455,555,295,455,460,455,465,565,260,300,480,580,290,410,530,345,485,485,485,330,300,420,600,700,300,420,600,700,580,580,580,600,700,600,700,670,770,670,770,680,780,600,600,600,600,600,318,405,525,309,405,534,314,405,530,245,340,485,250,410,194,384,263,363,523,280,515,350,495,350,495,224,424,424,424,424,244,474,405,330,495,275,450,325,475,482,348,498,350,480,580,495,505,310,452,285,329,479,300,500,290,310,220,411,485,300,410,600,700,390,285,525,625,330,525,330,500,300,490,454,330,460,345,334,494,594,510,535,515,535,535,540,540,545,515,525,525,510,530,535,518,618,525,525,480,440,520,520,520,520,520,580,580,580,680,680,600,670,680,680,600,480,600,600,600,600,720,600,308,413,528,308,418,528,308,413,528,255,420,275,370,500,281,446,316,498,316,498,316,498,292,487,264,358,488,295,497,280,390,515,323,425,328,508,445,545,305,405,505,294,384,509,465,465,310,380,500,260,360,485,280,480,280,480,460,460,292,351,519,315,315,480,540,480,540,461,325,485,348,488,490,303,303,483,355,495,401,567,329,474,330,510,300,470,290,390,490,290,370,490,305,473,305,395,535,335,475,428,315,495,294,464,335,480,470,319,472,305,489,300,440,520,275,405,515,335,485,275,370,520,320,410,540,305,505,515,305,495,471,471,350,510,485,303,483,340,490,490,350,510,370,510,484,484,300,420,600,360,550,580,580,580,580,580,580,580,680,680,600,600,660,700,700,580,580,600,600,600,313,405,530,307,409,534,314,405,530,640,237,423,278,382,499,200,213,411,369,507,303,371,552,350,531,348,495,472,355,466,466,325,448,500,500,341,462,341,480,288,482,306,500,320,494,330,500,289,481,362,521,362,521,525,500,431,500,300,452,600,470,309,474,335,335,335,335,494,494,494,494,304,514,245,535,680,680,600,486,708,600,700,600,680,600,320,420,530,320,420,530,320,420,530,265,355,485,253,418,300,400,500,338,478,476,476,476,476,304,464,280,487,487,487,175,620,305,495,385,500,269,454,250,480,285,405,320,480,340,500,210,290,510,485,490,490,230,530,320,480,410,534,570,440,500,480,485,435,476,475,485,517,300,420,600,570,570,570,570,200,400,680,680,570,570,570,570,570,570,570,600,680,680,754,600,600,420,540,570,570,600,300,600,310,420,530,310,420,530,310,420,530,275,460,245,365,495,180,335,505,245,455,250,460,270,490,284,485,270,490,240,410,510,260,485,485,315,510,475,280,490,242,502,502,305,525,310,480,308,508,265,370,510,265,370,510,520,440,510,507,520,483,270,495,470,435,185,475,470,470,470,475,475,436,330,500,505,505,505,505,535,270,410,600,720,670,720,670,690,1125,385,550,550,600,580,580,580,580,500,680,680,430,510,440,510,330,490,330,510,350,555,510,452,600,480,528,534,530,514,680,680,580,580,525,460,530,530,505,550,318,405,525,625,309,405,534,634,634,314,405,530,630,195,205,395,195,205,395,495,251,349,479,579,253,253,413,413,262,442,288,448,320,430,485,485,300,300,450,450,275,365,505,273,365,505,323,483,299,299,505,505,270,435,245,455,320,395,490,285,405,305,450,265,265,425,425,290,290,290,440,440,320,500,305,455,350,555,300,385,510,310,400,500,600,305,405,505,300,390,490,335,515,300,300,390,390,495,495,410,410,500,500,315,315,490,590,490,325,465,377,377,310,470,325,475,325,325,500,500,305,525,310,405,500,600,385,328,483,325,475,330,490,325,530,530,320,425,425,455,455,385,340,490,490,345,485,450,435,490,590,295,440,320,450,340,520,460,460,500,455,490,495,500,600,490,200,540,640,535,288,325,435,525,525,525,395,355,495,355,495,515,615,540,580,580,580,580,580,580,300,420,600,680,780,780,600,318,405,525,309,405,534,314,405,530,215,415,262,452,265,390,250,400,535,330,460,205,218,210,245,405,320,470,280,365,510,610,490,250,420,410,500,250,340,460,360,180,425,390,210,430,525,525,405,490,490,435,336,405,455,290,465,415,430,510,610,300,450,440,500,600,505,500,600,430,330,500,250,430,250,450,410,410,300,480,330,485,465,330,500,600,540,330,500,515,465,250,210,455,305,360,365,490,540,580,580,580,300,410,600,700,680,680,600,310,405,530,630,310,405,530,630,310,405,535,635,220,420,240,240,420,420,195,205,395,205,385,220,340,480,220,340,480,270,455,270,440,198,278,518,618,269,454,295,460,280,440,670,266,456,236,240,360,490,237,474,190,375,260,400,380,480,380,480,330,430,530,630,280,410,510,295,475,575,405,405,430,430,400,302,467,305,460,560,400,500,305,460,560,470,330,470,360,290,340,520,335,475,310,490,590,458,458,460,460,288,468,308,468,300,500,355,495,355,495,200,540,420,420,420,420,440,295,455,555,295,455,460,455,465,565,260,300,480,580,290,410,530,345,485,485,485,330,300,420,600,700,300,420,600,700,580,580,580,600,700,600,700,670,770,670,770,680,780,600,600,600,600,600,318,405,525,309,405,534,314,405,530,245,340,485,250,410,194,384,263,363,523,280,515,350,495,350,495,224,424,424,424,424,244,474,405,330,495,275,450,325,475,482,348,498,350,480,580,495,505,310,452,285,329,479,300,500,290,310,220,411,485,300,410,600,700,390,285,525,625,330,525,330,500,300,490,454,330,460,345,334,494,594,510,535,515,535,535,540,540,545,515,525,525,510,530,535,518,618,525,525,480,440,520,520,520,520,520,580,580,580,680,680,600,670,680,680,600,480,600,600,600,600,720,600,308,413,528,308,418,528,308,413,528,255,420,275,370,500,281,446,316,498,316,498,316,498,292,487,264,358,488,295,497,280,390,515,323,425,328,508,445,545,305,405,505,294,384,509,465,465,310,380,500,260,360,485,280,480,280,480,460,460,292,351,519,315,315,480,540,480,540,461,325,485,348,488,490,303,303,483,355,495,401,567,329,474,330,510,300,470,290,390,490,290,370,490,305,473,305,395,535,335,475,428,315,495,294,464,335,480,470,319,472,305,489,300,440,520,275,405,515,335,485,275,370,520,320,410,540,305,505,515,305,495,471,471,350,510,485,303,483,340,490,490,350,510,370,510,484,484,300,420,600,360,550,580,580,580,580,580,580,580,680,680,600,600,660,700,700,580,580,600,600,600,313,405,530,307,409,534,314,405,530,640,237,423,278,382,499,200,213,411,369,507,303,371,552,350,531,348,495,472,355,466,466,325,448,500,500,341,462,341,480,288,482,306,500,320,494,330,500,289,481,362,521,362,521,525,500,431,500,300,452,600,470,309,474,335,335,335,335,494,494,494,494,304,514,245,535,680,680,600,486,708,600,700,600,680,600,320,420,530,320,420,530,320,420,530,265,355,485,253,418,300,400,500,338,478,476,476,476,476,304,464,280,487,487,487,175,620,305,495,385,500,269,454,250,480,285,405,320,480,340,500,210,290,510,485,490,490,230,530,320,480,410,534,570,440,500,480,485,435,476,475,485,517,300,420,600,570,570,570,570,200,400,680,680,570,570,570,570,570,570,570,600,680,680,754,600,600,420,540,570,570,600,300,600,310,420,530,310,420,530,310,420,530,275,460,245,365,495,180,335,505,245,455,250,460,270,490,284,485,270,490,240,410,510,260,485,485,315,510,475,280,490,242,502,502,305,525,310,480,308,508,265,370,510,265,370,510,520,440,510,507,520,483,270,495,470,435,185,475,470,470,470,475,475,436,330,500,505,505,505,505,535,270,410,600,720,670,720,670,690,1125,385,550,550,600,580,580,580,580,500,680,680,430,510,440,510,330,490,330,510,350,555,510,452,600,480,528,534,530,514,680,680,580,580,525,460,530,530,505,550],\"y0\":\" \",\"yaxis\":\"y\",\"type\":\"box\"}],                        {\"template\":{\"data\":{\"bar\":[{\"error_x\":{\"color\":\"#2a3f5f\"},\"error_y\":{\"color\":\"#2a3f5f\"},\"marker\":{\"line\":{\"color\":\"#E5ECF6\",\"width\":0.5},\"pattern\":{\"fillmode\":\"overlay\",\"size\":10,\"solidity\":0.2}},\"type\":\"bar\"}],\"barpolar\":[{\"marker\":{\"line\":{\"color\":\"#E5ECF6\",\"width\":0.5},\"pattern\":{\"fillmode\":\"overlay\",\"size\":10,\"solidity\":0.2}},\"type\":\"barpolar\"}],\"carpet\":[{\"aaxis\":{\"endlinecolor\":\"#2a3f5f\",\"gridcolor\":\"white\",\"linecolor\":\"white\",\"minorgridcolor\":\"white\",\"startlinecolor\":\"#2a3f5f\"},\"baxis\":{\"endlinecolor\":\"#2a3f5f\",\"gridcolor\":\"white\",\"linecolor\":\"white\",\"minorgridcolor\":\"white\",\"startlinecolor\":\"#2a3f5f\"},\"type\":\"carpet\"}],\"choropleth\":[{\"colorbar\":{\"outlinewidth\":0,\"ticks\":\"\"},\"type\":\"choropleth\"}],\"contour\":[{\"colorbar\":{\"outlinewidth\":0,\"ticks\":\"\"},\"colorscale\":[[0.0,\"#0d0887\"],[0.1111111111111111,\"#46039f\"],[0.2222222222222222,\"#7201a8\"],[0.3333333333333333,\"#9c179e\"],[0.4444444444444444,\"#bd3786\"],[0.5555555555555556,\"#d8576b\"],[0.6666666666666666,\"#ed7953\"],[0.7777777777777778,\"#fb9f3a\"],[0.8888888888888888,\"#fdca26\"],[1.0,\"#f0f921\"]],\"type\":\"contour\"}],\"contourcarpet\":[{\"colorbar\":{\"outlinewidth\":0,\"ticks\":\"\"},\"type\":\"contourcarpet\"}],\"heatmap\":[{\"colorbar\":{\"outlinewidth\":0,\"ticks\":\"\"},\"colorscale\":[[0.0,\"#0d0887\"],[0.1111111111111111,\"#46039f\"],[0.2222222222222222,\"#7201a8\"],[0.3333333333333333,\"#9c179e\"],[0.4444444444444444,\"#bd3786\"],[0.5555555555555556,\"#d8576b\"],[0.6666666666666666,\"#ed7953\"],[0.7777777777777778,\"#fb9f3a\"],[0.8888888888888888,\"#fdca26\"],[1.0,\"#f0f921\"]],\"type\":\"heatmap\"}],\"heatmapgl\":[{\"colorbar\":{\"outlinewidth\":0,\"ticks\":\"\"},\"colorscale\":[[0.0,\"#0d0887\"],[0.1111111111111111,\"#46039f\"],[0.2222222222222222,\"#7201a8\"],[0.3333333333333333,\"#9c179e\"],[0.4444444444444444,\"#bd3786\"],[0.5555555555555556,\"#d8576b\"],[0.6666666666666666,\"#ed7953\"],[0.7777777777777778,\"#fb9f3a\"],[0.8888888888888888,\"#fdca26\"],[1.0,\"#f0f921\"]],\"type\":\"heatmapgl\"}],\"histogram\":[{\"marker\":{\"pattern\":{\"fillmode\":\"overlay\",\"size\":10,\"solidity\":0.2}},\"type\":\"histogram\"}],\"histogram2d\":[{\"colorbar\":{\"outlinewidth\":0,\"ticks\":\"\"},\"colorscale\":[[0.0,\"#0d0887\"],[0.1111111111111111,\"#46039f\"],[0.2222222222222222,\"#7201a8\"],[0.3333333333333333,\"#9c179e\"],[0.4444444444444444,\"#bd3786\"],[0.5555555555555556,\"#d8576b\"],[0.6666666666666666,\"#ed7953\"],[0.7777777777777778,\"#fb9f3a\"],[0.8888888888888888,\"#fdca26\"],[1.0,\"#f0f921\"]],\"type\":\"histogram2d\"}],\"histogram2dcontour\":[{\"colorbar\":{\"outlinewidth\":0,\"ticks\":\"\"},\"colorscale\":[[0.0,\"#0d0887\"],[0.1111111111111111,\"#46039f\"],[0.2222222222222222,\"#7201a8\"],[0.3333333333333333,\"#9c179e\"],[0.4444444444444444,\"#bd3786\"],[0.5555555555555556,\"#d8576b\"],[0.6666666666666666,\"#ed7953\"],[0.7777777777777778,\"#fb9f3a\"],[0.8888888888888888,\"#fdca26\"],[1.0,\"#f0f921\"]],\"type\":\"histogram2dcontour\"}],\"mesh3d\":[{\"colorbar\":{\"outlinewidth\":0,\"ticks\":\"\"},\"type\":\"mesh3d\"}],\"parcoords\":[{\"line\":{\"colorbar\":{\"outlinewidth\":0,\"ticks\":\"\"}},\"type\":\"parcoords\"}],\"pie\":[{\"automargin\":true,\"type\":\"pie\"}],\"scatter\":[{\"marker\":{\"colorbar\":{\"outlinewidth\":0,\"ticks\":\"\"}},\"type\":\"scatter\"}],\"scatter3d\":[{\"line\":{\"colorbar\":{\"outlinewidth\":0,\"ticks\":\"\"}},\"marker\":{\"colorbar\":{\"outlinewidth\":0,\"ticks\":\"\"}},\"type\":\"scatter3d\"}],\"scattercarpet\":[{\"marker\":{\"colorbar\":{\"outlinewidth\":0,\"ticks\":\"\"}},\"type\":\"scattercarpet\"}],\"scattergeo\":[{\"marker\":{\"colorbar\":{\"outlinewidth\":0,\"ticks\":\"\"}},\"type\":\"scattergeo\"}],\"scattergl\":[{\"marker\":{\"colorbar\":{\"outlinewidth\":0,\"ticks\":\"\"}},\"type\":\"scattergl\"}],\"scattermapbox\":[{\"marker\":{\"colorbar\":{\"outlinewidth\":0,\"ticks\":\"\"}},\"type\":\"scattermapbox\"}],\"scatterpolar\":[{\"marker\":{\"colorbar\":{\"outlinewidth\":0,\"ticks\":\"\"}},\"type\":\"scatterpolar\"}],\"scatterpolargl\":[{\"marker\":{\"colorbar\":{\"outlinewidth\":0,\"ticks\":\"\"}},\"type\":\"scatterpolargl\"}],\"scatterternary\":[{\"marker\":{\"colorbar\":{\"outlinewidth\":0,\"ticks\":\"\"}},\"type\":\"scatterternary\"}],\"surface\":[{\"colorbar\":{\"outlinewidth\":0,\"ticks\":\"\"},\"colorscale\":[[0.0,\"#0d0887\"],[0.1111111111111111,\"#46039f\"],[0.2222222222222222,\"#7201a8\"],[0.3333333333333333,\"#9c179e\"],[0.4444444444444444,\"#bd3786\"],[0.5555555555555556,\"#d8576b\"],[0.6666666666666666,\"#ed7953\"],[0.7777777777777778,\"#fb9f3a\"],[0.8888888888888888,\"#fdca26\"],[1.0,\"#f0f921\"]],\"type\":\"surface\"}],\"table\":[{\"cells\":{\"fill\":{\"color\":\"#EBF0F8\"},\"line\":{\"color\":\"white\"}},\"header\":{\"fill\":{\"color\":\"#C8D4E3\"},\"line\":{\"color\":\"white\"}},\"type\":\"table\"}]},\"layout\":{\"annotationdefaults\":{\"arrowcolor\":\"#2a3f5f\",\"arrowhead\":0,\"arrowwidth\":1},\"autotypenumbers\":\"strict\",\"coloraxis\":{\"colorbar\":{\"outlinewidth\":0,\"ticks\":\"\"}},\"colorscale\":{\"diverging\":[[0,\"#8e0152\"],[0.1,\"#c51b7d\"],[0.2,\"#de77ae\"],[0.3,\"#f1b6da\"],[0.4,\"#fde0ef\"],[0.5,\"#f7f7f7\"],[0.6,\"#e6f5d0\"],[0.7,\"#b8e186\"],[0.8,\"#7fbc41\"],[0.9,\"#4d9221\"],[1,\"#276419\"]],\"sequential\":[[0.0,\"#0d0887\"],[0.1111111111111111,\"#46039f\"],[0.2222222222222222,\"#7201a8\"],[0.3333333333333333,\"#9c179e\"],[0.4444444444444444,\"#bd3786\"],[0.5555555555555556,\"#d8576b\"],[0.6666666666666666,\"#ed7953\"],[0.7777777777777778,\"#fb9f3a\"],[0.8888888888888888,\"#fdca26\"],[1.0,\"#f0f921\"]],\"sequentialminus\":[[0.0,\"#0d0887\"],[0.1111111111111111,\"#46039f\"],[0.2222222222222222,\"#7201a8\"],[0.3333333333333333,\"#9c179e\"],[0.4444444444444444,\"#bd3786\"],[0.5555555555555556,\"#d8576b\"],[0.6666666666666666,\"#ed7953\"],[0.7777777777777778,\"#fb9f3a\"],[0.8888888888888888,\"#fdca26\"],[1.0,\"#f0f921\"]]},\"colorway\":[\"#636efa\",\"#EF553B\",\"#00cc96\",\"#ab63fa\",\"#FFA15A\",\"#19d3f3\",\"#FF6692\",\"#B6E880\",\"#FF97FF\",\"#FECB52\"],\"font\":{\"color\":\"#2a3f5f\"},\"geo\":{\"bgcolor\":\"white\",\"lakecolor\":\"white\",\"landcolor\":\"#E5ECF6\",\"showlakes\":true,\"showland\":true,\"subunitcolor\":\"white\"},\"hoverlabel\":{\"align\":\"left\"},\"hovermode\":\"closest\",\"mapbox\":{\"style\":\"light\"},\"paper_bgcolor\":\"white\",\"plot_bgcolor\":\"#E5ECF6\",\"polar\":{\"angularaxis\":{\"gridcolor\":\"white\",\"linecolor\":\"white\",\"ticks\":\"\"},\"bgcolor\":\"#E5ECF6\",\"radialaxis\":{\"gridcolor\":\"white\",\"linecolor\":\"white\",\"ticks\":\"\"}},\"scene\":{\"xaxis\":{\"backgroundcolor\":\"#E5ECF6\",\"gridcolor\":\"white\",\"gridwidth\":2,\"linecolor\":\"white\",\"showbackground\":true,\"ticks\":\"\",\"zerolinecolor\":\"white\"},\"yaxis\":{\"backgroundcolor\":\"#E5ECF6\",\"gridcolor\":\"white\",\"gridwidth\":2,\"linecolor\":\"white\",\"showbackground\":true,\"ticks\":\"\",\"zerolinecolor\":\"white\"},\"zaxis\":{\"backgroundcolor\":\"#E5ECF6\",\"gridcolor\":\"white\",\"gridwidth\":2,\"linecolor\":\"white\",\"showbackground\":true,\"ticks\":\"\",\"zerolinecolor\":\"white\"}},\"shapedefaults\":{\"line\":{\"color\":\"#2a3f5f\"}},\"ternary\":{\"aaxis\":{\"gridcolor\":\"white\",\"linecolor\":\"white\",\"ticks\":\"\"},\"baxis\":{\"gridcolor\":\"white\",\"linecolor\":\"white\",\"ticks\":\"\"},\"bgcolor\":\"#E5ECF6\",\"caxis\":{\"gridcolor\":\"white\",\"linecolor\":\"white\",\"ticks\":\"\"}},\"title\":{\"x\":0.05},\"xaxis\":{\"automargin\":true,\"gridcolor\":\"white\",\"linecolor\":\"white\",\"ticks\":\"\",\"title\":{\"standoff\":15},\"zerolinecolor\":\"white\",\"zerolinewidth\":2},\"yaxis\":{\"automargin\":true,\"gridcolor\":\"white\",\"linecolor\":\"white\",\"ticks\":\"\",\"title\":{\"standoff\":15},\"zerolinecolor\":\"white\",\"zerolinewidth\":2}}},\"xaxis\":{\"anchor\":\"y\",\"domain\":[0.0,1.0],\"title\":{\"text\":\"value\"}},\"yaxis\":{\"anchor\":\"x\",\"domain\":[0.0,1.0],\"title\":{\"text\":\"Total\"}},\"legend\":{\"tracegroupgap\":0},\"title\":{\"text\":\"Stats Total by type\"},\"boxmode\":\"group\"},                        {\"responsive\": true}                    ).then(function(){\n",
              "                            \n",
              "var gd = document.getElementById('a92a8c51-456e-42f8-b545-6591f91188cc');\n",
              "var x = new MutationObserver(function (mutations, observer) {{\n",
              "        var display = window.getComputedStyle(gd).display;\n",
              "        if (!display || display === 'none') {{\n",
              "            console.log([gd, 'removed!']);\n",
              "            Plotly.purge(gd);\n",
              "            observer.disconnect();\n",
              "        }}\n",
              "}});\n",
              "\n",
              "// Listen for the removal of the full notebook cells\n",
              "var notebookContainer = gd.closest('#notebook-container');\n",
              "if (notebookContainer) {{\n",
              "    x.observe(notebookContainer, {childList: true});\n",
              "}}\n",
              "\n",
              "// Listen for the clearing of the current output cell\n",
              "var outputEl = gd.closest('.output');\n",
              "if (outputEl) {{\n",
              "    x.observe(outputEl, {childList: true});\n",
              "}}\n",
              "\n",
              "                        })                };                            </script>        </div>\n",
              "</body>\n",
              "</html>"
            ]
          },
          "metadata": {}
        }
      ]
    },
    {
      "cell_type": "markdown",
      "source": [
        "gráfico bem importante, porque representa a distribuição de forças por tipo, assim pode se ter uma ideia dos tipos mais fortes, já de cara nota-se que os tipos de 'grass' e 'bug' apresentam muitos pokémons considerados fracos enquanto que o tipo 'dragon' apresentam os pokémons mais fortes.\n",
        "\n",
        "<strong>Notável a presença de um outlier bem expressivo</strong>"
      ],
      "metadata": {
        "id": "bSFm3MXBqzDJ"
      }
    },
    {
      "cell_type": "code",
      "source": [
        "df[df['Total'] == 1125]"
      ],
      "metadata": {
        "colab": {
          "base_uri": "https://localhost:8080/",
          "height": 81
        },
        "id": "2MkesYaardTQ",
        "outputId": "d482b87c-4f75-4baa-9185-65fbb1727398"
      },
      "execution_count": null,
      "outputs": [
        {
          "output_type": "execute_result",
          "data": {
            "text/plain": [
              "      Unnamed: 0       Name  Variation   Type1   Type2  Total   HP  Attack  \\\n",
              "1031         NaN  Eternatus  Eternamax  Poison  Dragon   1125  255     115   \n",
              "\n",
              "      Defense  Sp.Atk  Sp.Def  Speed  \n",
              "1031      250     125     250    130  "
            ],
            "text/html": [
              "\n",
              "  <div id=\"df-decb1c4e-d681-42e4-beee-f44877903344\">\n",
              "    <div class=\"colab-df-container\">\n",
              "      <div>\n",
              "<style scoped>\n",
              "    .dataframe tbody tr th:only-of-type {\n",
              "        vertical-align: middle;\n",
              "    }\n",
              "\n",
              "    .dataframe tbody tr th {\n",
              "        vertical-align: top;\n",
              "    }\n",
              "\n",
              "    .dataframe thead th {\n",
              "        text-align: right;\n",
              "    }\n",
              "</style>\n",
              "<table border=\"1\" class=\"dataframe\">\n",
              "  <thead>\n",
              "    <tr style=\"text-align: right;\">\n",
              "      <th></th>\n",
              "      <th>Unnamed: 0</th>\n",
              "      <th>Name</th>\n",
              "      <th>Variation</th>\n",
              "      <th>Type1</th>\n",
              "      <th>Type2</th>\n",
              "      <th>Total</th>\n",
              "      <th>HP</th>\n",
              "      <th>Attack</th>\n",
              "      <th>Defense</th>\n",
              "      <th>Sp.Atk</th>\n",
              "      <th>Sp.Def</th>\n",
              "      <th>Speed</th>\n",
              "    </tr>\n",
              "  </thead>\n",
              "  <tbody>\n",
              "    <tr>\n",
              "      <th>1031</th>\n",
              "      <td>NaN</td>\n",
              "      <td>Eternatus</td>\n",
              "      <td>Eternamax</td>\n",
              "      <td>Poison</td>\n",
              "      <td>Dragon</td>\n",
              "      <td>1125</td>\n",
              "      <td>255</td>\n",
              "      <td>115</td>\n",
              "      <td>250</td>\n",
              "      <td>125</td>\n",
              "      <td>250</td>\n",
              "      <td>130</td>\n",
              "    </tr>\n",
              "  </tbody>\n",
              "</table>\n",
              "</div>\n",
              "      <button class=\"colab-df-convert\" onclick=\"convertToInteractive('df-decb1c4e-d681-42e4-beee-f44877903344')\"\n",
              "              title=\"Convert this dataframe to an interactive table.\"\n",
              "              style=\"display:none;\">\n",
              "        \n",
              "  <svg xmlns=\"http://www.w3.org/2000/svg\" height=\"24px\"viewBox=\"0 0 24 24\"\n",
              "       width=\"24px\">\n",
              "    <path d=\"M0 0h24v24H0V0z\" fill=\"none\"/>\n",
              "    <path d=\"M18.56 5.44l.94 2.06.94-2.06 2.06-.94-2.06-.94-.94-2.06-.94 2.06-2.06.94zm-11 1L8.5 8.5l.94-2.06 2.06-.94-2.06-.94L8.5 2.5l-.94 2.06-2.06.94zm10 10l.94 2.06.94-2.06 2.06-.94-2.06-.94-.94-2.06-.94 2.06-2.06.94z\"/><path d=\"M17.41 7.96l-1.37-1.37c-.4-.4-.92-.59-1.43-.59-.52 0-1.04.2-1.43.59L10.3 9.45l-7.72 7.72c-.78.78-.78 2.05 0 2.83L4 21.41c.39.39.9.59 1.41.59.51 0 1.02-.2 1.41-.59l7.78-7.78 2.81-2.81c.8-.78.8-2.07 0-2.86zM5.41 20L4 18.59l7.72-7.72 1.47 1.35L5.41 20z\"/>\n",
              "  </svg>\n",
              "      </button>\n",
              "      \n",
              "  <style>\n",
              "    .colab-df-container {\n",
              "      display:flex;\n",
              "      flex-wrap:wrap;\n",
              "      gap: 12px;\n",
              "    }\n",
              "\n",
              "    .colab-df-convert {\n",
              "      background-color: #E8F0FE;\n",
              "      border: none;\n",
              "      border-radius: 50%;\n",
              "      cursor: pointer;\n",
              "      display: none;\n",
              "      fill: #1967D2;\n",
              "      height: 32px;\n",
              "      padding: 0 0 0 0;\n",
              "      width: 32px;\n",
              "    }\n",
              "\n",
              "    .colab-df-convert:hover {\n",
              "      background-color: #E2EBFA;\n",
              "      box-shadow: 0px 1px 2px rgba(60, 64, 67, 0.3), 0px 1px 3px 1px rgba(60, 64, 67, 0.15);\n",
              "      fill: #174EA6;\n",
              "    }\n",
              "\n",
              "    [theme=dark] .colab-df-convert {\n",
              "      background-color: #3B4455;\n",
              "      fill: #D2E3FC;\n",
              "    }\n",
              "\n",
              "    [theme=dark] .colab-df-convert:hover {\n",
              "      background-color: #434B5C;\n",
              "      box-shadow: 0px 1px 3px 1px rgba(0, 0, 0, 0.15);\n",
              "      filter: drop-shadow(0px 1px 2px rgba(0, 0, 0, 0.3));\n",
              "      fill: #FFFFFF;\n",
              "    }\n",
              "  </style>\n",
              "\n",
              "      <script>\n",
              "        const buttonEl =\n",
              "          document.querySelector('#df-decb1c4e-d681-42e4-beee-f44877903344 button.colab-df-convert');\n",
              "        buttonEl.style.display =\n",
              "          google.colab.kernel.accessAllowed ? 'block' : 'none';\n",
              "\n",
              "        async function convertToInteractive(key) {\n",
              "          const element = document.querySelector('#df-decb1c4e-d681-42e4-beee-f44877903344');\n",
              "          const dataTable =\n",
              "            await google.colab.kernel.invokeFunction('convertToInteractive',\n",
              "                                                     [key], {});\n",
              "          if (!dataTable) return;\n",
              "\n",
              "          const docLinkHtml = 'Like what you see? Visit the ' +\n",
              "            '<a target=\"_blank\" href=https://colab.research.google.com/notebooks/data_table.ipynb>data table notebook</a>'\n",
              "            + ' to learn more about interactive tables.';\n",
              "          element.innerHTML = '';\n",
              "          dataTable['output_type'] = 'display_data';\n",
              "          await google.colab.output.renderOutput(dataTable, element);\n",
              "          const docLink = document.createElement('div');\n",
              "          docLink.innerHTML = docLinkHtml;\n",
              "          element.appendChild(docLink);\n",
              "        }\n",
              "      </script>\n",
              "    </div>\n",
              "  </div>\n",
              "  "
            ]
          },
          "metadata": {},
          "execution_count": 6
        }
      ]
    },
    {
      "cell_type": "markdown",
      "source": [
        "<img src='https://assets.pokemon.com/assets/cms2/img/pokedex/full/890.png'>"
      ],
      "metadata": {
        "id": "ClFhMD3wrmcs"
      }
    },
    {
      "cell_type": "markdown",
      "source": [
        "Scatter plot attack"
      ],
      "metadata": {
        "id": "i3uMDaDLmESh"
      }
    },
    {
      "cell_type": "code",
      "source": [
        "import seaborn as sns\n",
        "col=['Total', 'Attack','Defense','Type1']\n",
        "\n",
        "sns.pairplot(df[col],hue=\"Type1\")"
      ],
      "metadata": {
        "colab": {
          "base_uri": "https://localhost:8080/",
          "height": 567
        },
        "id": "WdOs5voumIFv",
        "outputId": "e173a8bd-e75f-4ea7-be54-e63cda936a4f"
      },
      "execution_count": null,
      "outputs": [
        {
          "output_type": "execute_result",
          "data": {
            "text/plain": [
              "<seaborn.axisgrid.PairGrid at 0x7f967287e910>"
            ]
          },
          "metadata": {},
          "execution_count": 29
        },
        {
          "output_type": "display_data",
          "data": {
            "text/plain": [
              "<Figure size 616.125x540 with 12 Axes>"
            ],
            "image/png": "[encoded data removed]"
          },
          "metadata": {
            "needs_background": "light"
          }
        }
      ]
    },
    {
      "cell_type": "markdown",
      "source": [
        "aqui mais um pouco do estudo da correlação, podemos ver que os valores de total são mais bem correlacionados com attack do que com defense"
      ],
      "metadata": {
        "id": "BY8Fd7zWsl4Y"
      }
    },
    {
      "cell_type": "markdown",
      "source": [
        "heatmap"
      ],
      "metadata": {
        "id": "Q5h-t-AQm4xR"
      }
    },
    {
      "cell_type": "code",
      "source": [
        "import seaborn as sns\n",
        "col=['Attack', 'Defense', 'Sp.Atk', 'Sp.Def']\n",
        "dfs = df.sort_values(by=\"Total\",ascending=False)\n",
        "\n",
        "\n",
        "sns.heatmap(dfs.head(20)[col])"
      ],
      "metadata": {
        "colab": {
          "base_uri": "https://localhost:8080/",
          "height": 282
        },
        "id": "Cd1EaJtSm6U0",
        "outputId": "555b0636-eaa3-4ebc-b964-aa438ac95b13"
      },
      "execution_count": null,
      "outputs": [
        {
          "output_type": "execute_result",
          "data": {
            "text/plain": [
              "<matplotlib.axes._subplots.AxesSubplot at 0x7f965efa6910>"
            ]
          },
          "metadata": {},
          "execution_count": 30
        },
        {
          "output_type": "display_data",
          "data": {
            "text/plain": [
              "<Figure size 432x288 with 2 Axes>"
            ],
            "image/png": "[encoded data removed]"
          },
          "metadata": {
            "needs_background": "light"
          }
        }
      ]
    },
    {
      "cell_type": "markdown",
      "source": [
        "dentre os 10 pokémons mais fortes, a maioria representa um attack maior do que a defesa, mais uma vez representando a força da correlação"
      ],
      "metadata": {
        "id": "NSV2IGhGs0pO"
      }
    },
    {
      "cell_type": "markdown",
      "source": [
        "# 3 distribuição amostral"
      ],
      "metadata": {
        "id": "08rSqUwIi85c"
      }
    },
    {
      "cell_type": "markdown",
      "source": [
        "embaralhando o dataframe"
      ],
      "metadata": {
        "id": "gMweMaRvfOMj"
      }
    },
    {
      "cell_type": "code",
      "source": [
        "dfShuffle = df.sample(frac = 1)\n",
        "dfShuffle[\"Total\"].mean()"
      ],
      "metadata": {
        "colab": {
          "base_uri": "https://localhost:8080/"
        },
        "id": "kubePsUIfUCE",
        "outputId": "c3763727-c8e2-442e-b9d5-1077af1d94db"
      },
      "execution_count": null,
      "outputs": [
        {
          "output_type": "execute_result",
          "data": {
            "text/plain": [
              "441.26143790849676"
            ]
          },
          "metadata": {},
          "execution_count": 185
        }
      ]
    },
    {
      "cell_type": "markdown",
      "source": [
        "amostra com 357 pokemons 200 amostras"
      ],
      "metadata": {
        "id": "WCGlVoAGhmlF"
      }
    },
    {
      "cell_type": "code",
      "source": [
        "means = []\n",
        "mediaGeral = 0\n",
        "for media in range(200):\n",
        "  amostra = np.random.randint(0,1071,357)\n",
        "  mediaAmostra = df.loc[amostra]['Total'].mean()\n",
        "  means.append(mediaAmostra)\n",
        "  mediaGeral += mediaAmostra\n",
        "mediaGeral/200\n",
        "\n"
      ],
      "metadata": {
        "colab": {
          "base_uri": "https://localhost:8080/"
        },
        "id": "Iai8Yipni-vs",
        "outputId": "9df2f86a-d86e-4286-93d0-fe6667becc2a"
      },
      "execution_count": null,
      "outputs": [
        {
          "output_type": "execute_result",
          "data": {
            "text/plain": [
              "439.7048459383753"
            ]
          },
          "metadata": {},
          "execution_count": 186
        }
      ]
    },
    {
      "cell_type": "code",
      "source": [
        "plt.hist(means)\n",
        "plt.xlabel('mean')\n",
        "plt.ylabel('count')\n",
        "plt.show()\n"
      ],
      "metadata": {
        "colab": {
          "base_uri": "https://localhost:8080/",
          "height": 279
        },
        "id": "8-RfEsvalL2Q",
        "outputId": "7d2bc4eb-943d-4412-cbd0-1a00c527094c"
      },
      "execution_count": null,
      "outputs": [
        {
          "output_type": "display_data",
          "data": {
            "text/plain": [
              "<Figure size 432x288 with 1 Axes>"
            ],
            "image/png": "[encoded data removed]"
          },
          "metadata": {
            "needs_background": "light"
          }
        }
      ]
    },
    {
      "cell_type": "markdown",
      "source": [
        "amostra com 119 pokemons 200 amostras"
      ],
      "metadata": {
        "id": "d8_w6EtTlxRo"
      }
    },
    {
      "cell_type": "code",
      "source": [
        "means = []\n",
        "mediaGeral = 0\n",
        "for media in range(200):\n",
        "  amostra = np.random.randint(0,1071,119)\n",
        "  mediaAmostra = df.loc[amostra]['Total'].mean()\n",
        "  means.append(mediaAmostra)\n",
        "  mediaGeral += mediaAmostra\n",
        "mediaGeral/200\n"
      ],
      "metadata": {
        "colab": {
          "base_uri": "https://localhost:8080/"
        },
        "id": "sZx2IKkrl7nD",
        "outputId": "4f3a31cb-c984-4fc7-9e99-a78380c181a8"
      },
      "execution_count": null,
      "outputs": [
        {
          "output_type": "execute_result",
          "data": {
            "text/plain": [
              "441.16277310924374"
            ]
          },
          "metadata": {},
          "execution_count": 188
        }
      ]
    },
    {
      "cell_type": "code",
      "source": [
        "plt.hist(means)\n",
        "plt.xlabel('mean')\n",
        "plt.ylabel('count')\n",
        "plt.show()"
      ],
      "metadata": {
        "colab": {
          "base_uri": "https://localhost:8080/",
          "height": 279
        },
        "id": "ewbd5zYfl77a",
        "outputId": "809afca6-6720-4876-e749-cd03a9feae36"
      },
      "execution_count": null,
      "outputs": [
        {
          "output_type": "display_data",
          "data": {
            "text/plain": [
              "<Figure size 432x288 with 1 Axes>"
            ],
            "image/png": "[encoded data removed]"
          },
          "metadata": {
            "needs_background": "light"
          }
        }
      ]
    },
    {
      "cell_type": "markdown",
      "source": [
        "amostra com 17 pokemons e 200 amostras"
      ],
      "metadata": {
        "id": "QRvbjoc_mMcz"
      }
    },
    {
      "cell_type": "code",
      "source": [
        "means = []\n",
        "mediaGeral = 0\n",
        "for media in range(200):\n",
        "  amostra = np.random.randint(0,1071,17)\n",
        "  mediaAmostra = df.loc[amostra]['Total'].mean()\n",
        "  means.append(mediaAmostra)\n",
        "  mediaGeral += mediaAmostra\n",
        "mediaGeral/200"
      ],
      "metadata": {
        "colab": {
          "base_uri": "https://localhost:8080/"
        },
        "id": "SbSUKSX0mQrl",
        "outputId": "3ba2482e-b8ec-4990-9a13-f05624a3e45c"
      },
      "execution_count": null,
      "outputs": [
        {
          "output_type": "execute_result",
          "data": {
            "text/plain": [
              "442.33588235294127"
            ]
          },
          "metadata": {},
          "execution_count": 190
        }
      ]
    },
    {
      "cell_type": "code",
      "source": [
        "plt.hist(means)\n",
        "plt.xlabel('mean')\n",
        "plt.ylabel('count')\n",
        "plt.show()"
      ],
      "metadata": {
        "colab": {
          "base_uri": "https://localhost:8080/",
          "height": 279
        },
        "id": "98Lb2RTemVdA",
        "outputId": "d4e71845-25da-41d4-d9bf-13448c634af8"
      },
      "execution_count": null,
      "outputs": [
        {
          "output_type": "display_data",
          "data": {
            "text/plain": [
              "<Figure size 432x288 with 1 Axes>"
            ],
            "image/png": "[encoded data removed]"
          },
          "metadata": {
            "needs_background": "light"
          }
        }
      ]
    },
    {
      "cell_type": "markdown",
      "source": [
        "# Intervalo de confiança (95%)"
      ],
      "metadata": {
        "id": "9HYqxD77tpfB"
      }
    },
    {
      "cell_type": "code",
      "source": [
        "x1 = (df['Total'].std() * 1.96) + df['Total'].mean()\n",
        "print(f'x1 = {round(x1,0)}')\n",
        "x2 = (df['Total'].std() * (-1.96)) + df['Total'].mean()\n",
        "print(f'x2 = {round(x2,0)}')"
      ],
      "metadata": {
        "colab": {
          "base_uri": "https://localhost:8080/"
        },
        "id": "wHlc6tDHtxQN",
        "outputId": "42094760-9047-4f41-c427-36abd43148ef"
      },
      "execution_count": null,
      "outputs": [
        {
          "output_type": "stream",
          "name": "stdout",
          "text": [
            "x1 = 680.0\n",
            "x2 = 203.0\n"
          ]
        }
      ]
    },
    {
      "cell_type": "markdown",
      "source": [
        "valores dentro do intervalo de confiança"
      ],
      "metadata": {
        "id": "5DEZdNTius6R"
      }
    },
    {
      "cell_type": "code",
      "source": [
        "dfc = df[(df['Total'] <= x1) & (df['Total'] >= x2)]\n",
        "\n",
        "fig = px.histogram(dfc, x='Total', marginal='rug')\n",
        "fig.show()"
      ],
      "metadata": {
        "colab": {
          "base_uri": "https://localhost:8080/"
        },
        "id": "RU9cL4uyuvYB",
        "outputId": "5d1a8857-74e4-4ea0-f8dd-68e57fbda91d"
      },
      "execution_count": null,
      "outputs": [
        {
          "output_type": "display_data",
          "data": {
            "text/html": [
              "<html>\n",
              "<head><meta charset=\"utf-8\" /></head>\n",
              "<body>\n",
              "    <div>            <script src=\"https://cdnjs.cloudflare.com/ajax/libs/mathjax/2.7.5/MathJax.js?config=TeX-AMS-MML_SVG\"></script><script type=\"text/javascript\">if (window.MathJax) {MathJax.Hub.Config({SVG: {font: \"STIX-Web\"}});}</script>                <script type=\"text/javascript\">window.PlotlyConfig = {MathJaxConfig: 'local'};</script>\n",
              "        <script src=\"https://cdn.plot.ly/plotly-2.8.3.min.js\"></script>                <div id=\"441df4f6-3251-46c6-83b8-ec6f37b79886\" class=\"plotly-graph-div\" style=\"height:525px; width:100%;\"></div>            <script type=\"text/javascript\">                                    window.PLOTLYENV=window.PLOTLYENV || {};                                    if (document.getElementById(\"441df4f6-3251-46c6-83b8-ec6f37b79886\")) {                    Plotly.newPlot(                        \"441df4f6-3251-46c6-83b8-ec6f37b79886\",                        [{\"alignmentgroup\":\"True\",\"bingroup\":\"x\",\"hovertemplate\":\"Total=%{x}<br>count=%{y}<extra></extra>\",\"legendgroup\":\"\",\"marker\":{\"color\":\"#636efa\",\"pattern\":{\"shape\":\"\"}},\"name\":\"\",\"offsetgroup\":\"\",\"orientation\":\"v\",\"showlegend\":false,\"x\":[318,405,525,625,309,405,534,634,634,314,405,530,630,205,395,205,395,495,251,349,479,579,253,253,413,413,262,442,288,448,320,430,485,485,300,300,450,450,275,365,505,273,365,505,323,483,299,299,505,505,270,435,245,455,320,395,490,285,405,305,450,265,265,425,425,290,290,290,440,440,320,500,305,455,350,555,300,385,510,310,400,500,600,305,405,505,300,390,490,335,515,300,300,390,390,495,495,410,410,500,500,315,315,490,590,490,325,465,377,377,310,470,325,475,325,325,500,500,305,525,310,405,500,600,385,328,483,325,475,330,490,325,530,530,320,425,425,455,455,385,340,490,490,345,485,450,435,490,590,295,440,320,450,340,520,460,460,500,455,490,495,500,600,490,540,640,535,288,325,435,525,525,525,395,355,495,355,495,515,615,540,580,580,580,580,580,580,300,420,600,600,318,405,525,309,405,534,314,405,530,215,415,262,452,265,390,250,400,535,330,460,205,218,210,245,405,320,470,280,365,510,610,490,250,420,410,500,250,340,460,360,425,390,210,430,525,525,405,490,490,435,336,405,455,290,465,415,430,510,610,300,450,440,500,600,505,500,600,430,330,500,250,430,250,450,410,410,300,480,330,485,465,330,500,600,540,330,500,515,465,250,210,455,305,360,365,490,540,580,580,580,300,410,600,600,310,405,530,630,310,405,530,630,310,405,535,635,220,420,240,240,420,420,205,395,205,385,220,340,480,220,340,480,270,455,270,440,278,518,618,269,454,295,460,280,440,670,266,456,236,240,360,490,237,474,375,260,400,380,480,380,480,330,430,530,630,280,410,510,295,475,575,405,405,430,430,400,302,467,305,460,560,400,500,305,460,560,470,330,470,360,290,340,520,335,475,310,490,590,458,458,460,460,288,468,308,468,300,500,355,495,355,495,540,420,420,420,420,440,295,455,555,295,455,460,455,465,565,260,300,480,580,290,410,530,345,485,485,485,330,300,420,600,300,420,600,580,580,580,600,600,670,670,600,600,600,600,600,318,405,525,309,405,534,314,405,530,245,340,485,250,410,384,263,363,523,280,515,350,495,350,495,224,424,424,424,424,244,474,405,330,495,275,450,325,475,482,348,498,350,480,580,495,505,310,452,285,329,479,300,500,290,310,220,411,485,300,410,600,390,285,525,625,330,525,330,500,300,490,454,330,460,345,334,494,594,510,535,515,535,535,540,540,545,515,525,525,510,530,535,518,618,525,525,480,440,520,520,520,520,520,580,580,580,600,670,600,480,600,600,600,600,600,308,413,528,308,418,528,308,413,528,255,420,275,370,500,281,446,316,498,316,498,316,498,292,487,264,358,488,295,497,280,390,515,323,425,328,508,445,545,305,405,505,294,384,509,465,465,310,380,500,260,360,485,280,480,280,480,460,460,292,351,519,315,315,480,540,480,540,461,325,485,348,488,490,303,303,483,355,495,401,567,329,474,330,510,300,470,290,390,490,290,370,490,305,473,305,395,535,335,475,428,315,495,294,464,335,480,470,319,472,305,489,300,440,520,275,405,515,335,485,275,370,520,320,410,540,305,505,515,305,495,471,471,350,510,485,303,483,340,490,490,350,510,370,510,484,484,300,420,600,360,550,580,580,580,580,580,580,580,600,600,660,580,580,600,600,600,313,405,530,307,409,534,314,405,530,640,237,423,278,382,499,213,411,369,507,303,371,552,350,531,348,495,472,355,466,466,325,448,500,500,341,462,341,480,288,482,306,500,320,494,330,500,289,481,362,521,362,521,525,500,431,500,300,452,600,470,309,474,335,335,335,335,494,494,494,494,304,514,245,535,600,486,600,600,600,320,420,530,320,420,530,320,420,530,265,355,485,253,418,300,400,500,338,478,476,476,476,476,304,464,280,487,487,487,620,305,495,385,500,269,454,250,480,285,405,320,480,340,500,210,290,510,485,490,490,230,530,320,480,410,534,570,440,500,480,485,435,476,475,485,517,300,420,600,570,570,570,570,400,570,570,570,570,570,570,570,600,600,600,420,540,570,570,600,300,600,310,420,530,310,420,530,310,420,530,275,460,245,365,495,335,505,245,455,250,460,270,490,284,485,270,490,240,410,510,260,485,485,315,510,475,280,490,242,502,502,305,525,310,480,308,508,265,370,510,265,370,510,520,440,510,507,520,483,270,495,470,435,475,470,470,470,475,475,436,330,500,505,505,505,505,535,270,410,600,670,670,385,550,550,600,580,580,580,580,500,430,510,440,510,330,490,330,510,350,555,510,452,600,480,528,534,530,514,580,580,525,460,530,530,505,550],\"xaxis\":\"x\",\"yaxis\":\"y\",\"type\":\"histogram\"},{\"alignmentgroup\":\"True\",\"boxpoints\":\"all\",\"fillcolor\":\"rgba(255,255,255,0)\",\"hoveron\":\"points\",\"hovertemplate\":\"Total=%{x}<extra></extra>\",\"jitter\":0,\"legendgroup\":\"\",\"line\":{\"color\":\"rgba(255,255,255,0)\"},\"marker\":{\"color\":\"#636efa\",\"symbol\":\"line-ns-open\"},\"name\":\"\",\"offsetgroup\":\"\",\"showlegend\":false,\"x\":[318,405,525,625,309,405,534,634,634,314,405,530,630,205,395,205,395,495,251,349,479,579,253,253,413,413,262,442,288,448,320,430,485,485,300,300,450,450,275,365,505,273,365,505,323,483,299,299,505,505,270,435,245,455,320,395,490,285,405,305,450,265,265,425,425,290,290,290,440,440,320,500,305,455,350,555,300,385,510,310,400,500,600,305,405,505,300,390,490,335,515,300,300,390,390,495,495,410,410,500,500,315,315,490,590,490,325,465,377,377,310,470,325,475,325,325,500,500,305,525,310,405,500,600,385,328,483,325,475,330,490,325,530,530,320,425,425,455,455,385,340,490,490,345,485,450,435,490,590,295,440,320,450,340,520,460,460,500,455,490,495,500,600,490,540,640,535,288,325,435,525,525,525,395,355,495,355,495,515,615,540,580,580,580,580,580,580,300,420,600,600,318,405,525,309,405,534,314,405,530,215,415,262,452,265,390,250,400,535,330,460,205,218,210,245,405,320,470,280,365,510,610,490,250,420,410,500,250,340,460,360,425,390,210,430,525,525,405,490,490,435,336,405,455,290,465,415,430,510,610,300,450,440,500,600,505,500,600,430,330,500,250,430,250,450,410,410,300,480,330,485,465,330,500,600,540,330,500,515,465,250,210,455,305,360,365,490,540,580,580,580,300,410,600,600,310,405,530,630,310,405,530,630,310,405,535,635,220,420,240,240,420,420,205,395,205,385,220,340,480,220,340,480,270,455,270,440,278,518,618,269,454,295,460,280,440,670,266,456,236,240,360,490,237,474,375,260,400,380,480,380,480,330,430,530,630,280,410,510,295,475,575,405,405,430,430,400,302,467,305,460,560,400,500,305,460,560,470,330,470,360,290,340,520,335,475,310,490,590,458,458,460,460,288,468,308,468,300,500,355,495,355,495,540,420,420,420,420,440,295,455,555,295,455,460,455,465,565,260,300,480,580,290,410,530,345,485,485,485,330,300,420,600,300,420,600,580,580,580,600,600,670,670,600,600,600,600,600,318,405,525,309,405,534,314,405,530,245,340,485,250,410,384,263,363,523,280,515,350,495,350,495,224,424,424,424,424,244,474,405,330,495,275,450,325,475,482,348,498,350,480,580,495,505,310,452,285,329,479,300,500,290,310,220,411,485,300,410,600,390,285,525,625,330,525,330,500,300,490,454,330,460,345,334,494,594,510,535,515,535,535,540,540,545,515,525,525,510,530,535,518,618,525,525,480,440,520,520,520,520,520,580,580,580,600,670,600,480,600,600,600,600,600,308,413,528,308,418,528,308,413,528,255,420,275,370,500,281,446,316,498,316,498,316,498,292,487,264,358,488,295,497,280,390,515,323,425,328,508,445,545,305,405,505,294,384,509,465,465,310,380,500,260,360,485,280,480,280,480,460,460,292,351,519,315,315,480,540,480,540,461,325,485,348,488,490,303,303,483,355,495,401,567,329,474,330,510,300,470,290,390,490,290,370,490,305,473,305,395,535,335,475,428,315,495,294,464,335,480,470,319,472,305,489,300,440,520,275,405,515,335,485,275,370,520,320,410,540,305,505,515,305,495,471,471,350,510,485,303,483,340,490,490,350,510,370,510,484,484,300,420,600,360,550,580,580,580,580,580,580,580,600,600,660,580,580,600,600,600,313,405,530,307,409,534,314,405,530,640,237,423,278,382,499,213,411,369,507,303,371,552,350,531,348,495,472,355,466,466,325,448,500,500,341,462,341,480,288,482,306,500,320,494,330,500,289,481,362,521,362,521,525,500,431,500,300,452,600,470,309,474,335,335,335,335,494,494,494,494,304,514,245,535,600,486,600,600,600,320,420,530,320,420,530,320,420,530,265,355,485,253,418,300,400,500,338,478,476,476,476,476,304,464,280,487,487,487,620,305,495,385,500,269,454,250,480,285,405,320,480,340,500,210,290,510,485,490,490,230,530,320,480,410,534,570,440,500,480,485,435,476,475,485,517,300,420,600,570,570,570,570,400,570,570,570,570,570,570,570,600,600,600,420,540,570,570,600,300,600,310,420,530,310,420,530,310,420,530,275,460,245,365,495,335,505,245,455,250,460,270,490,284,485,270,490,240,410,510,260,485,485,315,510,475,280,490,242,502,502,305,525,310,480,308,508,265,370,510,265,370,510,520,440,510,507,520,483,270,495,470,435,475,470,470,470,475,475,436,330,500,505,505,505,505,535,270,410,600,670,670,385,550,550,600,580,580,580,580,500,430,510,440,510,330,490,330,510,350,555,510,452,600,480,528,534,530,514,580,580,525,460,530,530,505,550],\"xaxis\":\"x2\",\"yaxis\":\"y2\",\"type\":\"box\"}],                        {\"template\":{\"data\":{\"bar\":[{\"error_x\":{\"color\":\"#2a3f5f\"},\"error_y\":{\"color\":\"#2a3f5f\"},\"marker\":{\"line\":{\"color\":\"#E5ECF6\",\"width\":0.5},\"pattern\":{\"fillmode\":\"overlay\",\"size\":10,\"solidity\":0.2}},\"type\":\"bar\"}],\"barpolar\":[{\"marker\":{\"line\":{\"color\":\"#E5ECF6\",\"width\":0.5},\"pattern\":{\"fillmode\":\"overlay\",\"size\":10,\"solidity\":0.2}},\"type\":\"barpolar\"}],\"carpet\":[{\"aaxis\":{\"endlinecolor\":\"#2a3f5f\",\"gridcolor\":\"white\",\"linecolor\":\"white\",\"minorgridcolor\":\"white\",\"startlinecolor\":\"#2a3f5f\"},\"baxis\":{\"endlinecolor\":\"#2a3f5f\",\"gridcolor\":\"white\",\"linecolor\":\"white\",\"minorgridcolor\":\"white\",\"startlinecolor\":\"#2a3f5f\"},\"type\":\"carpet\"}],\"choropleth\":[{\"colorbar\":{\"outlinewidth\":0,\"ticks\":\"\"},\"type\":\"choropleth\"}],\"contour\":[{\"colorbar\":{\"outlinewidth\":0,\"ticks\":\"\"},\"colorscale\":[[0.0,\"#0d0887\"],[0.1111111111111111,\"#46039f\"],[0.2222222222222222,\"#7201a8\"],[0.3333333333333333,\"#9c179e\"],[0.4444444444444444,\"#bd3786\"],[0.5555555555555556,\"#d8576b\"],[0.6666666666666666,\"#ed7953\"],[0.7777777777777778,\"#fb9f3a\"],[0.8888888888888888,\"#fdca26\"],[1.0,\"#f0f921\"]],\"type\":\"contour\"}],\"contourcarpet\":[{\"colorbar\":{\"outlinewidth\":0,\"ticks\":\"\"},\"type\":\"contourcarpet\"}],\"heatmap\":[{\"colorbar\":{\"outlinewidth\":0,\"ticks\":\"\"},\"colorscale\":[[0.0,\"#0d0887\"],[0.1111111111111111,\"#46039f\"],[0.2222222222222222,\"#7201a8\"],[0.3333333333333333,\"#9c179e\"],[0.4444444444444444,\"#bd3786\"],[0.5555555555555556,\"#d8576b\"],[0.6666666666666666,\"#ed7953\"],[0.7777777777777778,\"#fb9f3a\"],[0.8888888888888888,\"#fdca26\"],[1.0,\"#f0f921\"]],\"type\":\"heatmap\"}],\"heatmapgl\":[{\"colorbar\":{\"outlinewidth\":0,\"ticks\":\"\"},\"colorscale\":[[0.0,\"#0d0887\"],[0.1111111111111111,\"#46039f\"],[0.2222222222222222,\"#7201a8\"],[0.3333333333333333,\"#9c179e\"],[0.4444444444444444,\"#bd3786\"],[0.5555555555555556,\"#d8576b\"],[0.6666666666666666,\"#ed7953\"],[0.7777777777777778,\"#fb9f3a\"],[0.8888888888888888,\"#fdca26\"],[1.0,\"#f0f921\"]],\"type\":\"heatmapgl\"}],\"histogram\":[{\"marker\":{\"pattern\":{\"fillmode\":\"overlay\",\"size\":10,\"solidity\":0.2}},\"type\":\"histogram\"}],\"histogram2d\":[{\"colorbar\":{\"outlinewidth\":0,\"ticks\":\"\"},\"colorscale\":[[0.0,\"#0d0887\"],[0.1111111111111111,\"#46039f\"],[0.2222222222222222,\"#7201a8\"],[0.3333333333333333,\"#9c179e\"],[0.4444444444444444,\"#bd3786\"],[0.5555555555555556,\"#d8576b\"],[0.6666666666666666,\"#ed7953\"],[0.7777777777777778,\"#fb9f3a\"],[0.8888888888888888,\"#fdca26\"],[1.0,\"#f0f921\"]],\"type\":\"histogram2d\"}],\"histogram2dcontour\":[{\"colorbar\":{\"outlinewidth\":0,\"ticks\":\"\"},\"colorscale\":[[0.0,\"#0d0887\"],[0.1111111111111111,\"#46039f\"],[0.2222222222222222,\"#7201a8\"],[0.3333333333333333,\"#9c179e\"],[0.4444444444444444,\"#bd3786\"],[0.5555555555555556,\"#d8576b\"],[0.6666666666666666,\"#ed7953\"],[0.7777777777777778,\"#fb9f3a\"],[0.8888888888888888,\"#fdca26\"],[1.0,\"#f0f921\"]],\"type\":\"histogram2dcontour\"}],\"mesh3d\":[{\"colorbar\":{\"outlinewidth\":0,\"ticks\":\"\"},\"type\":\"mesh3d\"}],\"parcoords\":[{\"line\":{\"colorbar\":{\"outlinewidth\":0,\"ticks\":\"\"}},\"type\":\"parcoords\"}],\"pie\":[{\"automargin\":true,\"type\":\"pie\"}],\"scatter\":[{\"marker\":{\"colorbar\":{\"outlinewidth\":0,\"ticks\":\"\"}},\"type\":\"scatter\"}],\"scatter3d\":[{\"line\":{\"colorbar\":{\"outlinewidth\":0,\"ticks\":\"\"}},\"marker\":{\"colorbar\":{\"outlinewidth\":0,\"ticks\":\"\"}},\"type\":\"scatter3d\"}],\"scattercarpet\":[{\"marker\":{\"colorbar\":{\"outlinewidth\":0,\"ticks\":\"\"}},\"type\":\"scattercarpet\"}],\"scattergeo\":[{\"marker\":{\"colorbar\":{\"outlinewidth\":0,\"ticks\":\"\"}},\"type\":\"scattergeo\"}],\"scattergl\":[{\"marker\":{\"colorbar\":{\"outlinewidth\":0,\"ticks\":\"\"}},\"type\":\"scattergl\"}],\"scattermapbox\":[{\"marker\":{\"colorbar\":{\"outlinewidth\":0,\"ticks\":\"\"}},\"type\":\"scattermapbox\"}],\"scatterpolar\":[{\"marker\":{\"colorbar\":{\"outlinewidth\":0,\"ticks\":\"\"}},\"type\":\"scatterpolar\"}],\"scatterpolargl\":[{\"marker\":{\"colorbar\":{\"outlinewidth\":0,\"ticks\":\"\"}},\"type\":\"scatterpolargl\"}],\"scatterternary\":[{\"marker\":{\"colorbar\":{\"outlinewidth\":0,\"ticks\":\"\"}},\"type\":\"scatterternary\"}],\"surface\":[{\"colorbar\":{\"outlinewidth\":0,\"ticks\":\"\"},\"colorscale\":[[0.0,\"#0d0887\"],[0.1111111111111111,\"#46039f\"],[0.2222222222222222,\"#7201a8\"],[0.3333333333333333,\"#9c179e\"],[0.4444444444444444,\"#bd3786\"],[0.5555555555555556,\"#d8576b\"],[0.6666666666666666,\"#ed7953\"],[0.7777777777777778,\"#fb9f3a\"],[0.8888888888888888,\"#fdca26\"],[1.0,\"#f0f921\"]],\"type\":\"surface\"}],\"table\":[{\"cells\":{\"fill\":{\"color\":\"#EBF0F8\"},\"line\":{\"color\":\"white\"}},\"header\":{\"fill\":{\"color\":\"#C8D4E3\"},\"line\":{\"color\":\"white\"}},\"type\":\"table\"}]},\"layout\":{\"annotationdefaults\":{\"arrowcolor\":\"#2a3f5f\",\"arrowhead\":0,\"arrowwidth\":1},\"autotypenumbers\":\"strict\",\"coloraxis\":{\"colorbar\":{\"outlinewidth\":0,\"ticks\":\"\"}},\"colorscale\":{\"diverging\":[[0,\"#8e0152\"],[0.1,\"#c51b7d\"],[0.2,\"#de77ae\"],[0.3,\"#f1b6da\"],[0.4,\"#fde0ef\"],[0.5,\"#f7f7f7\"],[0.6,\"#e6f5d0\"],[0.7,\"#b8e186\"],[0.8,\"#7fbc41\"],[0.9,\"#4d9221\"],[1,\"#276419\"]],\"sequential\":[[0.0,\"#0d0887\"],[0.1111111111111111,\"#46039f\"],[0.2222222222222222,\"#7201a8\"],[0.3333333333333333,\"#9c179e\"],[0.4444444444444444,\"#bd3786\"],[0.5555555555555556,\"#d8576b\"],[0.6666666666666666,\"#ed7953\"],[0.7777777777777778,\"#fb9f3a\"],[0.8888888888888888,\"#fdca26\"],[1.0,\"#f0f921\"]],\"sequentialminus\":[[0.0,\"#0d0887\"],[0.1111111111111111,\"#46039f\"],[0.2222222222222222,\"#7201a8\"],[0.3333333333333333,\"#9c179e\"],[0.4444444444444444,\"#bd3786\"],[0.5555555555555556,\"#d8576b\"],[0.6666666666666666,\"#ed7953\"],[0.7777777777777778,\"#fb9f3a\"],[0.8888888888888888,\"#fdca26\"],[1.0,\"#f0f921\"]]},\"colorway\":[\"#636efa\",\"#EF553B\",\"#00cc96\",\"#ab63fa\",\"#FFA15A\",\"#19d3f3\",\"#FF6692\",\"#B6E880\",\"#FF97FF\",\"#FECB52\"],\"font\":{\"color\":\"#2a3f5f\"},\"geo\":{\"bgcolor\":\"white\",\"lakecolor\":\"white\",\"landcolor\":\"#E5ECF6\",\"showlakes\":true,\"showland\":true,\"subunitcolor\":\"white\"},\"hoverlabel\":{\"align\":\"left\"},\"hovermode\":\"closest\",\"mapbox\":{\"style\":\"light\"},\"paper_bgcolor\":\"white\",\"plot_bgcolor\":\"#E5ECF6\",\"polar\":{\"angularaxis\":{\"gridcolor\":\"white\",\"linecolor\":\"white\",\"ticks\":\"\"},\"bgcolor\":\"#E5ECF6\",\"radialaxis\":{\"gridcolor\":\"white\",\"linecolor\":\"white\",\"ticks\":\"\"}},\"scene\":{\"xaxis\":{\"backgroundcolor\":\"#E5ECF6\",\"gridcolor\":\"white\",\"gridwidth\":2,\"linecolor\":\"white\",\"showbackground\":true,\"ticks\":\"\",\"zerolinecolor\":\"white\"},\"yaxis\":{\"backgroundcolor\":\"#E5ECF6\",\"gridcolor\":\"white\",\"gridwidth\":2,\"linecolor\":\"white\",\"showbackground\":true,\"ticks\":\"\",\"zerolinecolor\":\"white\"},\"zaxis\":{\"backgroundcolor\":\"#E5ECF6\",\"gridcolor\":\"white\",\"gridwidth\":2,\"linecolor\":\"white\",\"showbackground\":true,\"ticks\":\"\",\"zerolinecolor\":\"white\"}},\"shapedefaults\":{\"line\":{\"color\":\"#2a3f5f\"}},\"ternary\":{\"aaxis\":{\"gridcolor\":\"white\",\"linecolor\":\"white\",\"ticks\":\"\"},\"baxis\":{\"gridcolor\":\"white\",\"linecolor\":\"white\",\"ticks\":\"\"},\"bgcolor\":\"#E5ECF6\",\"caxis\":{\"gridcolor\":\"white\",\"linecolor\":\"white\",\"ticks\":\"\"}},\"title\":{\"x\":0.05},\"xaxis\":{\"automargin\":true,\"gridcolor\":\"white\",\"linecolor\":\"white\",\"ticks\":\"\",\"title\":{\"standoff\":15},\"zerolinecolor\":\"white\",\"zerolinewidth\":2},\"yaxis\":{\"automargin\":true,\"gridcolor\":\"white\",\"linecolor\":\"white\",\"ticks\":\"\",\"title\":{\"standoff\":15},\"zerolinecolor\":\"white\",\"zerolinewidth\":2}}},\"xaxis\":{\"anchor\":\"y\",\"domain\":[0.0,1.0],\"title\":{\"text\":\"Total\"}},\"yaxis\":{\"anchor\":\"x\",\"domain\":[0.0,0.8316],\"title\":{\"text\":\"count\"}},\"xaxis2\":{\"anchor\":\"y2\",\"domain\":[0.0,1.0],\"matches\":\"x\",\"showticklabels\":false,\"showgrid\":true},\"yaxis2\":{\"anchor\":\"x2\",\"domain\":[0.8416,1.0],\"matches\":\"y2\",\"showticklabels\":false,\"showline\":false,\"ticks\":\"\",\"showgrid\":false},\"legend\":{\"tracegroupgap\":0},\"margin\":{\"t\":60},\"barmode\":\"relative\"},                        {\"responsive\": true}                    ).then(function(){\n",
              "                            \n",
              "var gd = document.getElementById('441df4f6-3251-46c6-83b8-ec6f37b79886');\n",
              "var x = new MutationObserver(function (mutations, observer) {{\n",
              "        var display = window.getComputedStyle(gd).display;\n",
              "        if (!display || display === 'none') {{\n",
              "            console.log([gd, 'removed!']);\n",
              "            Plotly.purge(gd);\n",
              "            observer.disconnect();\n",
              "        }}\n",
              "}});\n",
              "\n",
              "// Listen for the removal of the full notebook cells\n",
              "var notebookContainer = gd.closest('#notebook-container');\n",
              "if (notebookContainer) {{\n",
              "    x.observe(notebookContainer, {childList: true});\n",
              "}}\n",
              "\n",
              "// Listen for the clearing of the current output cell\n",
              "var outputEl = gd.closest('.output');\n",
              "if (outputEl) {{\n",
              "    x.observe(outputEl, {childList: true});\n",
              "}}\n",
              "\n",
              "                        })                };                            </script>        </div>\n",
              "</body>\n",
              "</html>"
            ]
          },
          "metadata": {}
        }
      ]
    },
    {
      "cell_type": "markdown",
      "source": [
        "respresentação do intervalo de confiança de 95% de acordo com seus totais."
      ],
      "metadata": {
        "id": "x36schvTtD5f"
      }
    },
    {
      "cell_type": "markdown",
      "source": [
        "# Intervalo de confiança (90%)"
      ],
      "metadata": {
        "id": "iHjp06OINeX8"
      }
    },
    {
      "cell_type": "code",
      "source": [
        "x1 = (df['Total'].std() * 1.645) + df['Total'].mean()\n",
        "print(f'x1 = {round(x1,0)}')\n",
        "x2 = (df['Total'].std() * (-1.645)) + df['Total'].mean()\n",
        "print(f'x2 = {round(x2,0)}')"
      ],
      "metadata": {
        "colab": {
          "base_uri": "https://localhost:8080/"
        },
        "id": "VacHROG-NhMT",
        "outputId": "e446dca4-b922-4804-aaf9-297033e04a98"
      },
      "execution_count": null,
      "outputs": [
        {
          "output_type": "stream",
          "name": "stdout",
          "text": [
            "x1 = 641.0\n",
            "x2 = 241.0\n"
          ]
        }
      ]
    },
    {
      "cell_type": "markdown",
      "source": [
        "valores dentro do intervalo de confiança"
      ],
      "metadata": {
        "id": "_DUKiZYeON0a"
      }
    },
    {
      "cell_type": "code",
      "source": [
        "dfc = df[(df['Total'] <= x1) & (df['Total'] >= x2)]\n",
        "\n",
        "fig = px.histogram(dfc, x='Total', marginal='rug')\n",
        "fig.show()"
      ],
      "metadata": {
        "colab": {
          "base_uri": "https://localhost:8080/",
          "height": 542
        },
        "id": "ehjE-GUVOP5e",
        "outputId": "5aa0fba2-5f66-448f-fa18-f8b524550f5d"
      },
      "execution_count": null,
      "outputs": [
        {
          "output_type": "display_data",
          "data": {
            "text/html": [
              "<html>\n",
              "<head><meta charset=\"utf-8\" /></head>\n",
              "<body>\n",
              "    <div>            <script src=\"https://cdnjs.cloudflare.com/ajax/libs/mathjax/2.7.5/MathJax.js?config=TeX-AMS-MML_SVG\"></script><script type=\"text/javascript\">if (window.MathJax) {MathJax.Hub.Config({SVG: {font: \"STIX-Web\"}});}</script>                <script type=\"text/javascript\">window.PlotlyConfig = {MathJaxConfig: 'local'};</script>\n",
              "        <script src=\"https://cdn.plot.ly/plotly-2.8.3.min.js\"></script>                <div id=\"ce7fc9a0-bff3-4258-9462-6bb2c3586795\" class=\"plotly-graph-div\" style=\"height:525px; width:100%;\"></div>            <script type=\"text/javascript\">                                    window.PLOTLYENV=window.PLOTLYENV || {};                                    if (document.getElementById(\"ce7fc9a0-bff3-4258-9462-6bb2c3586795\")) {                    Plotly.newPlot(                        \"ce7fc9a0-bff3-4258-9462-6bb2c3586795\",                        [{\"alignmentgroup\":\"True\",\"bingroup\":\"x\",\"hovertemplate\":\"Total=%{x}<br>count=%{y}<extra></extra>\",\"legendgroup\":\"\",\"marker\":{\"color\":\"#636efa\",\"pattern\":{\"shape\":\"\"}},\"name\":\"\",\"offsetgroup\":\"\",\"orientation\":\"v\",\"showlegend\":false,\"x\":[318,405,525,625,309,405,534,634,634,314,405,530,630,395,395,495,251,349,479,579,253,253,413,413,262,442,288,448,320,430,485,485,300,300,450,450,275,365,505,273,365,505,323,483,299,299,505,505,270,435,245,455,320,395,490,285,405,305,450,265,265,425,425,290,290,290,440,440,320,500,305,455,350,555,300,385,510,310,400,500,600,305,405,505,300,390,490,335,515,300,300,390,390,495,495,410,410,500,500,315,315,490,590,490,325,465,377,377,310,470,325,475,325,325,500,500,305,525,310,405,500,600,385,328,483,325,475,330,490,325,530,530,320,425,425,455,455,385,340,490,490,345,485,450,435,490,590,295,440,320,450,340,520,460,460,500,455,490,495,500,600,490,540,640,535,288,325,435,525,525,525,395,355,495,355,495,515,615,540,580,580,580,580,580,580,300,420,600,600,318,405,525,309,405,534,314,405,530,415,262,452,265,390,250,400,535,330,460,245,405,320,470,280,365,510,610,490,250,420,410,500,250,340,460,360,425,390,430,525,525,405,490,490,435,336,405,455,290,465,415,430,510,610,300,450,440,500,600,505,500,600,430,330,500,250,430,250,450,410,410,300,480,330,485,465,330,500,600,540,330,500,515,465,250,455,305,360,365,490,540,580,580,580,300,410,600,600,310,405,530,630,310,405,530,630,310,405,535,635,420,420,420,395,385,340,480,340,480,270,455,270,440,278,518,618,269,454,295,460,280,440,266,456,360,490,474,375,260,400,380,480,380,480,330,430,530,630,280,410,510,295,475,575,405,405,430,430,400,302,467,305,460,560,400,500,305,460,560,470,330,470,360,290,340,520,335,475,310,490,590,458,458,460,460,288,468,308,468,300,500,355,495,355,495,540,420,420,420,420,440,295,455,555,295,455,460,455,465,565,260,300,480,580,290,410,530,345,485,485,485,330,300,420,600,300,420,600,580,580,580,600,600,600,600,600,600,600,318,405,525,309,405,534,314,405,530,245,340,485,250,410,384,263,363,523,280,515,350,495,350,495,424,424,424,424,244,474,405,330,495,275,450,325,475,482,348,498,350,480,580,495,505,310,452,285,329,479,300,500,290,310,411,485,300,410,600,390,285,525,625,330,525,330,500,300,490,454,330,460,345,334,494,594,510,535,515,535,535,540,540,545,515,525,525,510,530,535,518,618,525,525,480,440,520,520,520,520,520,580,580,580,600,600,480,600,600,600,600,600,308,413,528,308,418,528,308,413,528,255,420,275,370,500,281,446,316,498,316,498,316,498,292,487,264,358,488,295,497,280,390,515,323,425,328,508,445,545,305,405,505,294,384,509,465,465,310,380,500,260,360,485,280,480,280,480,460,460,292,351,519,315,315,480,540,480,540,461,325,485,348,488,490,303,303,483,355,495,401,567,329,474,330,510,300,470,290,390,490,290,370,490,305,473,305,395,535,335,475,428,315,495,294,464,335,480,470,319,472,305,489,300,440,520,275,405,515,335,485,275,370,520,320,410,540,305,505,515,305,495,471,471,350,510,485,303,483,340,490,490,350,510,370,510,484,484,300,420,600,360,550,580,580,580,580,580,580,580,600,600,580,580,600,600,600,313,405,530,307,409,534,314,405,530,640,423,278,382,499,411,369,507,303,371,552,350,531,348,495,472,355,466,466,325,448,500,500,341,462,341,480,288,482,306,500,320,494,330,500,289,481,362,521,362,521,525,500,431,500,300,452,600,470,309,474,335,335,335,335,494,494,494,494,304,514,245,535,600,486,600,600,600,320,420,530,320,420,530,320,420,530,265,355,485,253,418,300,400,500,338,478,476,476,476,476,304,464,280,487,487,487,620,305,495,385,500,269,454,250,480,285,405,320,480,340,500,290,510,485,490,490,530,320,480,410,534,570,440,500,480,485,435,476,475,485,517,300,420,600,570,570,570,570,400,570,570,570,570,570,570,570,600,600,600,420,540,570,570,600,300,600,310,420,530,310,420,530,310,420,530,275,460,245,365,495,335,505,245,455,250,460,270,490,284,485,270,490,410,510,260,485,485,315,510,475,280,490,242,502,502,305,525,310,480,308,508,265,370,510,265,370,510,520,440,510,507,520,483,270,495,470,435,475,470,470,470,475,475,436,330,500,505,505,505,505,535,270,410,600,385,550,550,600,580,580,580,580,500,430,510,440,510,330,490,330,510,350,555,510,452,600,480,528,534,530,514,580,580,525,460,530,530,505,550],\"xaxis\":\"x\",\"yaxis\":\"y\",\"type\":\"histogram\"},{\"alignmentgroup\":\"True\",\"boxpoints\":\"all\",\"fillcolor\":\"rgba(255,255,255,0)\",\"hoveron\":\"points\",\"hovertemplate\":\"Total=%{x}<extra></extra>\",\"jitter\":0,\"legendgroup\":\"\",\"line\":{\"color\":\"rgba(255,255,255,0)\"},\"marker\":{\"color\":\"#636efa\",\"symbol\":\"line-ns-open\"},\"name\":\"\",\"offsetgroup\":\"\",\"showlegend\":false,\"x\":[318,405,525,625,309,405,534,634,634,314,405,530,630,395,395,495,251,349,479,579,253,253,413,413,262,442,288,448,320,430,485,485,300,300,450,450,275,365,505,273,365,505,323,483,299,299,505,505,270,435,245,455,320,395,490,285,405,305,450,265,265,425,425,290,290,290,440,440,320,500,305,455,350,555,300,385,510,310,400,500,600,305,405,505,300,390,490,335,515,300,300,390,390,495,495,410,410,500,500,315,315,490,590,490,325,465,377,377,310,470,325,475,325,325,500,500,305,525,310,405,500,600,385,328,483,325,475,330,490,325,530,530,320,425,425,455,455,385,340,490,490,345,485,450,435,490,590,295,440,320,450,340,520,460,460,500,455,490,495,500,600,490,540,640,535,288,325,435,525,525,525,395,355,495,355,495,515,615,540,580,580,580,580,580,580,300,420,600,600,318,405,525,309,405,534,314,405,530,415,262,452,265,390,250,400,535,330,460,245,405,320,470,280,365,510,610,490,250,420,410,500,250,340,460,360,425,390,430,525,525,405,490,490,435,336,405,455,290,465,415,430,510,610,300,450,440,500,600,505,500,600,430,330,500,250,430,250,450,410,410,300,480,330,485,465,330,500,600,540,330,500,515,465,250,455,305,360,365,490,540,580,580,580,300,410,600,600,310,405,530,630,310,405,530,630,310,405,535,635,420,420,420,395,385,340,480,340,480,270,455,270,440,278,518,618,269,454,295,460,280,440,266,456,360,490,474,375,260,400,380,480,380,480,330,430,530,630,280,410,510,295,475,575,405,405,430,430,400,302,467,305,460,560,400,500,305,460,560,470,330,470,360,290,340,520,335,475,310,490,590,458,458,460,460,288,468,308,468,300,500,355,495,355,495,540,420,420,420,420,440,295,455,555,295,455,460,455,465,565,260,300,480,580,290,410,530,345,485,485,485,330,300,420,600,300,420,600,580,580,580,600,600,600,600,600,600,600,318,405,525,309,405,534,314,405,530,245,340,485,250,410,384,263,363,523,280,515,350,495,350,495,424,424,424,424,244,474,405,330,495,275,450,325,475,482,348,498,350,480,580,495,505,310,452,285,329,479,300,500,290,310,411,485,300,410,600,390,285,525,625,330,525,330,500,300,490,454,330,460,345,334,494,594,510,535,515,535,535,540,540,545,515,525,525,510,530,535,518,618,525,525,480,440,520,520,520,520,520,580,580,580,600,600,480,600,600,600,600,600,308,413,528,308,418,528,308,413,528,255,420,275,370,500,281,446,316,498,316,498,316,498,292,487,264,358,488,295,497,280,390,515,323,425,328,508,445,545,305,405,505,294,384,509,465,465,310,380,500,260,360,485,280,480,280,480,460,460,292,351,519,315,315,480,540,480,540,461,325,485,348,488,490,303,303,483,355,495,401,567,329,474,330,510,300,470,290,390,490,290,370,490,305,473,305,395,535,335,475,428,315,495,294,464,335,480,470,319,472,305,489,300,440,520,275,405,515,335,485,275,370,520,320,410,540,305,505,515,305,495,471,471,350,510,485,303,483,340,490,490,350,510,370,510,484,484,300,420,600,360,550,580,580,580,580,580,580,580,600,600,580,580,600,600,600,313,405,530,307,409,534,314,405,530,640,423,278,382,499,411,369,507,303,371,552,350,531,348,495,472,355,466,466,325,448,500,500,341,462,341,480,288,482,306,500,320,494,330,500,289,481,362,521,362,521,525,500,431,500,300,452,600,470,309,474,335,335,335,335,494,494,494,494,304,514,245,535,600,486,600,600,600,320,420,530,320,420,530,320,420,530,265,355,485,253,418,300,400,500,338,478,476,476,476,476,304,464,280,487,487,487,620,305,495,385,500,269,454,250,480,285,405,320,480,340,500,290,510,485,490,490,530,320,480,410,534,570,440,500,480,485,435,476,475,485,517,300,420,600,570,570,570,570,400,570,570,570,570,570,570,570,600,600,600,420,540,570,570,600,300,600,310,420,530,310,420,530,310,420,530,275,460,245,365,495,335,505,245,455,250,460,270,490,284,485,270,490,410,510,260,485,485,315,510,475,280,490,242,502,502,305,525,310,480,308,508,265,370,510,265,370,510,520,440,510,507,520,483,270,495,470,435,475,470,470,470,475,475,436,330,500,505,505,505,505,535,270,410,600,385,550,550,600,580,580,580,580,500,430,510,440,510,330,490,330,510,350,555,510,452,600,480,528,534,530,514,580,580,525,460,530,530,505,550],\"xaxis\":\"x2\",\"yaxis\":\"y2\",\"type\":\"box\"}],                        {\"template\":{\"data\":{\"bar\":[{\"error_x\":{\"color\":\"#2a3f5f\"},\"error_y\":{\"color\":\"#2a3f5f\"},\"marker\":{\"line\":{\"color\":\"#E5ECF6\",\"width\":0.5},\"pattern\":{\"fillmode\":\"overlay\",\"size\":10,\"solidity\":0.2}},\"type\":\"bar\"}],\"barpolar\":[{\"marker\":{\"line\":{\"color\":\"#E5ECF6\",\"width\":0.5},\"pattern\":{\"fillmode\":\"overlay\",\"size\":10,\"solidity\":0.2}},\"type\":\"barpolar\"}],\"carpet\":[{\"aaxis\":{\"endlinecolor\":\"#2a3f5f\",\"gridcolor\":\"white\",\"linecolor\":\"white\",\"minorgridcolor\":\"white\",\"startlinecolor\":\"#2a3f5f\"},\"baxis\":{\"endlinecolor\":\"#2a3f5f\",\"gridcolor\":\"white\",\"linecolor\":\"white\",\"minorgridcolor\":\"white\",\"startlinecolor\":\"#2a3f5f\"},\"type\":\"carpet\"}],\"choropleth\":[{\"colorbar\":{\"outlinewidth\":0,\"ticks\":\"\"},\"type\":\"choropleth\"}],\"contour\":[{\"colorbar\":{\"outlinewidth\":0,\"ticks\":\"\"},\"colorscale\":[[0.0,\"#0d0887\"],[0.1111111111111111,\"#46039f\"],[0.2222222222222222,\"#7201a8\"],[0.3333333333333333,\"#9c179e\"],[0.4444444444444444,\"#bd3786\"],[0.5555555555555556,\"#d8576b\"],[0.6666666666666666,\"#ed7953\"],[0.7777777777777778,\"#fb9f3a\"],[0.8888888888888888,\"#fdca26\"],[1.0,\"#f0f921\"]],\"type\":\"contour\"}],\"contourcarpet\":[{\"colorbar\":{\"outlinewidth\":0,\"ticks\":\"\"},\"type\":\"contourcarpet\"}],\"heatmap\":[{\"colorbar\":{\"outlinewidth\":0,\"ticks\":\"\"},\"colorscale\":[[0.0,\"#0d0887\"],[0.1111111111111111,\"#46039f\"],[0.2222222222222222,\"#7201a8\"],[0.3333333333333333,\"#9c179e\"],[0.4444444444444444,\"#bd3786\"],[0.5555555555555556,\"#d8576b\"],[0.6666666666666666,\"#ed7953\"],[0.7777777777777778,\"#fb9f3a\"],[0.8888888888888888,\"#fdca26\"],[1.0,\"#f0f921\"]],\"type\":\"heatmap\"}],\"heatmapgl\":[{\"colorbar\":{\"outlinewidth\":0,\"ticks\":\"\"},\"colorscale\":[[0.0,\"#0d0887\"],[0.1111111111111111,\"#46039f\"],[0.2222222222222222,\"#7201a8\"],[0.3333333333333333,\"#9c179e\"],[0.4444444444444444,\"#bd3786\"],[0.5555555555555556,\"#d8576b\"],[0.6666666666666666,\"#ed7953\"],[0.7777777777777778,\"#fb9f3a\"],[0.8888888888888888,\"#fdca26\"],[1.0,\"#f0f921\"]],\"type\":\"heatmapgl\"}],\"histogram\":[{\"marker\":{\"pattern\":{\"fillmode\":\"overlay\",\"size\":10,\"solidity\":0.2}},\"type\":\"histogram\"}],\"histogram2d\":[{\"colorbar\":{\"outlinewidth\":0,\"ticks\":\"\"},\"colorscale\":[[0.0,\"#0d0887\"],[0.1111111111111111,\"#46039f\"],[0.2222222222222222,\"#7201a8\"],[0.3333333333333333,\"#9c179e\"],[0.4444444444444444,\"#bd3786\"],[0.5555555555555556,\"#d8576b\"],[0.6666666666666666,\"#ed7953\"],[0.7777777777777778,\"#fb9f3a\"],[0.8888888888888888,\"#fdca26\"],[1.0,\"#f0f921\"]],\"type\":\"histogram2d\"}],\"histogram2dcontour\":[{\"colorbar\":{\"outlinewidth\":0,\"ticks\":\"\"},\"colorscale\":[[0.0,\"#0d0887\"],[0.1111111111111111,\"#46039f\"],[0.2222222222222222,\"#7201a8\"],[0.3333333333333333,\"#9c179e\"],[0.4444444444444444,\"#bd3786\"],[0.5555555555555556,\"#d8576b\"],[0.6666666666666666,\"#ed7953\"],[0.7777777777777778,\"#fb9f3a\"],[0.8888888888888888,\"#fdca26\"],[1.0,\"#f0f921\"]],\"type\":\"histogram2dcontour\"}],\"mesh3d\":[{\"colorbar\":{\"outlinewidth\":0,\"ticks\":\"\"},\"type\":\"mesh3d\"}],\"parcoords\":[{\"line\":{\"colorbar\":{\"outlinewidth\":0,\"ticks\":\"\"}},\"type\":\"parcoords\"}],\"pie\":[{\"automargin\":true,\"type\":\"pie\"}],\"scatter\":[{\"marker\":{\"colorbar\":{\"outlinewidth\":0,\"ticks\":\"\"}},\"type\":\"scatter\"}],\"scatter3d\":[{\"line\":{\"colorbar\":{\"outlinewidth\":0,\"ticks\":\"\"}},\"marker\":{\"colorbar\":{\"outlinewidth\":0,\"ticks\":\"\"}},\"type\":\"scatter3d\"}],\"scattercarpet\":[{\"marker\":{\"colorbar\":{\"outlinewidth\":0,\"ticks\":\"\"}},\"type\":\"scattercarpet\"}],\"scattergeo\":[{\"marker\":{\"colorbar\":{\"outlinewidth\":0,\"ticks\":\"\"}},\"type\":\"scattergeo\"}],\"scattergl\":[{\"marker\":{\"colorbar\":{\"outlinewidth\":0,\"ticks\":\"\"}},\"type\":\"scattergl\"}],\"scattermapbox\":[{\"marker\":{\"colorbar\":{\"outlinewidth\":0,\"ticks\":\"\"}},\"type\":\"scattermapbox\"}],\"scatterpolar\":[{\"marker\":{\"colorbar\":{\"outlinewidth\":0,\"ticks\":\"\"}},\"type\":\"scatterpolar\"}],\"scatterpolargl\":[{\"marker\":{\"colorbar\":{\"outlinewidth\":0,\"ticks\":\"\"}},\"type\":\"scatterpolargl\"}],\"scatterternary\":[{\"marker\":{\"colorbar\":{\"outlinewidth\":0,\"ticks\":\"\"}},\"type\":\"scatterternary\"}],\"surface\":[{\"colorbar\":{\"outlinewidth\":0,\"ticks\":\"\"},\"colorscale\":[[0.0,\"#0d0887\"],[0.1111111111111111,\"#46039f\"],[0.2222222222222222,\"#7201a8\"],[0.3333333333333333,\"#9c179e\"],[0.4444444444444444,\"#bd3786\"],[0.5555555555555556,\"#d8576b\"],[0.6666666666666666,\"#ed7953\"],[0.7777777777777778,\"#fb9f3a\"],[0.8888888888888888,\"#fdca26\"],[1.0,\"#f0f921\"]],\"type\":\"surface\"}],\"table\":[{\"cells\":{\"fill\":{\"color\":\"#EBF0F8\"},\"line\":{\"color\":\"white\"}},\"header\":{\"fill\":{\"color\":\"#C8D4E3\"},\"line\":{\"color\":\"white\"}},\"type\":\"table\"}]},\"layout\":{\"annotationdefaults\":{\"arrowcolor\":\"#2a3f5f\",\"arrowhead\":0,\"arrowwidth\":1},\"autotypenumbers\":\"strict\",\"coloraxis\":{\"colorbar\":{\"outlinewidth\":0,\"ticks\":\"\"}},\"colorscale\":{\"diverging\":[[0,\"#8e0152\"],[0.1,\"#c51b7d\"],[0.2,\"#de77ae\"],[0.3,\"#f1b6da\"],[0.4,\"#fde0ef\"],[0.5,\"#f7f7f7\"],[0.6,\"#e6f5d0\"],[0.7,\"#b8e186\"],[0.8,\"#7fbc41\"],[0.9,\"#4d9221\"],[1,\"#276419\"]],\"sequential\":[[0.0,\"#0d0887\"],[0.1111111111111111,\"#46039f\"],[0.2222222222222222,\"#7201a8\"],[0.3333333333333333,\"#9c179e\"],[0.4444444444444444,\"#bd3786\"],[0.5555555555555556,\"#d8576b\"],[0.6666666666666666,\"#ed7953\"],[0.7777777777777778,\"#fb9f3a\"],[0.8888888888888888,\"#fdca26\"],[1.0,\"#f0f921\"]],\"sequentialminus\":[[0.0,\"#0d0887\"],[0.1111111111111111,\"#46039f\"],[0.2222222222222222,\"#7201a8\"],[0.3333333333333333,\"#9c179e\"],[0.4444444444444444,\"#bd3786\"],[0.5555555555555556,\"#d8576b\"],[0.6666666666666666,\"#ed7953\"],[0.7777777777777778,\"#fb9f3a\"],[0.8888888888888888,\"#fdca26\"],[1.0,\"#f0f921\"]]},\"colorway\":[\"#636efa\",\"#EF553B\",\"#00cc96\",\"#ab63fa\",\"#FFA15A\",\"#19d3f3\",\"#FF6692\",\"#B6E880\",\"#FF97FF\",\"#FECB52\"],\"font\":{\"color\":\"#2a3f5f\"},\"geo\":{\"bgcolor\":\"white\",\"lakecolor\":\"white\",\"landcolor\":\"#E5ECF6\",\"showlakes\":true,\"showland\":true,\"subunitcolor\":\"white\"},\"hoverlabel\":{\"align\":\"left\"},\"hovermode\":\"closest\",\"mapbox\":{\"style\":\"light\"},\"paper_bgcolor\":\"white\",\"plot_bgcolor\":\"#E5ECF6\",\"polar\":{\"angularaxis\":{\"gridcolor\":\"white\",\"linecolor\":\"white\",\"ticks\":\"\"},\"bgcolor\":\"#E5ECF6\",\"radialaxis\":{\"gridcolor\":\"white\",\"linecolor\":\"white\",\"ticks\":\"\"}},\"scene\":{\"xaxis\":{\"backgroundcolor\":\"#E5ECF6\",\"gridcolor\":\"white\",\"gridwidth\":2,\"linecolor\":\"white\",\"showbackground\":true,\"ticks\":\"\",\"zerolinecolor\":\"white\"},\"yaxis\":{\"backgroundcolor\":\"#E5ECF6\",\"gridcolor\":\"white\",\"gridwidth\":2,\"linecolor\":\"white\",\"showbackground\":true,\"ticks\":\"\",\"zerolinecolor\":\"white\"},\"zaxis\":{\"backgroundcolor\":\"#E5ECF6\",\"gridcolor\":\"white\",\"gridwidth\":2,\"linecolor\":\"white\",\"showbackground\":true,\"ticks\":\"\",\"zerolinecolor\":\"white\"}},\"shapedefaults\":{\"line\":{\"color\":\"#2a3f5f\"}},\"ternary\":{\"aaxis\":{\"gridcolor\":\"white\",\"linecolor\":\"white\",\"ticks\":\"\"},\"baxis\":{\"gridcolor\":\"white\",\"linecolor\":\"white\",\"ticks\":\"\"},\"bgcolor\":\"#E5ECF6\",\"caxis\":{\"gridcolor\":\"white\",\"linecolor\":\"white\",\"ticks\":\"\"}},\"title\":{\"x\":0.05},\"xaxis\":{\"automargin\":true,\"gridcolor\":\"white\",\"linecolor\":\"white\",\"ticks\":\"\",\"title\":{\"standoff\":15},\"zerolinecolor\":\"white\",\"zerolinewidth\":2},\"yaxis\":{\"automargin\":true,\"gridcolor\":\"white\",\"linecolor\":\"white\",\"ticks\":\"\",\"title\":{\"standoff\":15},\"zerolinecolor\":\"white\",\"zerolinewidth\":2}}},\"xaxis\":{\"anchor\":\"y\",\"domain\":[0.0,1.0],\"title\":{\"text\":\"Total\"}},\"yaxis\":{\"anchor\":\"x\",\"domain\":[0.0,0.8316],\"title\":{\"text\":\"count\"}},\"xaxis2\":{\"anchor\":\"y2\",\"domain\":[0.0,1.0],\"matches\":\"x\",\"showticklabels\":false,\"showgrid\":true},\"yaxis2\":{\"anchor\":\"x2\",\"domain\":[0.8416,1.0],\"matches\":\"y2\",\"showticklabels\":false,\"showline\":false,\"ticks\":\"\",\"showgrid\":false},\"legend\":{\"tracegroupgap\":0},\"margin\":{\"t\":60},\"barmode\":\"relative\"},                        {\"responsive\": true}                    ).then(function(){\n",
              "                            \n",
              "var gd = document.getElementById('ce7fc9a0-bff3-4258-9462-6bb2c3586795');\n",
              "var x = new MutationObserver(function (mutations, observer) {{\n",
              "        var display = window.getComputedStyle(gd).display;\n",
              "        if (!display || display === 'none') {{\n",
              "            console.log([gd, 'removed!']);\n",
              "            Plotly.purge(gd);\n",
              "            observer.disconnect();\n",
              "        }}\n",
              "}});\n",
              "\n",
              "// Listen for the removal of the full notebook cells\n",
              "var notebookContainer = gd.closest('#notebook-container');\n",
              "if (notebookContainer) {{\n",
              "    x.observe(notebookContainer, {childList: true});\n",
              "}}\n",
              "\n",
              "// Listen for the clearing of the current output cell\n",
              "var outputEl = gd.closest('.output');\n",
              "if (outputEl) {{\n",
              "    x.observe(outputEl, {childList: true});\n",
              "}}\n",
              "\n",
              "                        })                };                            </script>        </div>\n",
              "</body>\n",
              "</html>"
            ]
          },
          "metadata": {}
        }
      ]
    },
    {
      "cell_type": "markdown",
      "source": [
        "respresentação do intervalo de confiança de 95% de acordo com seus totais."
      ],
      "metadata": {
        "id": "oCOJSx0etSeH"
      }
    }
  ]
}